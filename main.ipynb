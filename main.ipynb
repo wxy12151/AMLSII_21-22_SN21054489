{
 "cells": [
  {
   "cell_type": "code",
   "execution_count": 63,
   "metadata": {
    "executionInfo": {
     "elapsed": 7576,
     "status": "ok",
     "timestamp": 1649694963113,
     "user": {
      "displayName": "武兴宇",
      "userId": "13491807285349578879"
     },
     "user_tz": -60
    },
    "id": "gQf5v55gezcr"
   },
   "outputs": [],
   "source": [
    "import os\n",
    "import gc\n",
    "import numpy as np\n",
    "import pandas as pd\n",
    "import matplotlib\n",
    "import matplotlib.pyplot as plt\n",
    "\n",
    "from sklearn.model_selection import train_test_split\n",
    "from sklearn.metrics import classification_report, confusion_matrix, ConfusionMatrixDisplay, roc_curve, auc\n",
    "\n",
    "import tensorflow as tf\n",
    "import keras\n",
    "from keras.models import load_model\n",
    "import keras.backend as K"
   ]
  },
  {
   "cell_type": "code",
   "execution_count": 2,
   "metadata": {
    "pycharm": {
     "name": "#%%\n"
    }
   },
   "outputs": [],
   "source": [
    "os.environ[\"CUDA_VISIBLE_DEVICES\"]=\"0\""
   ]
  },
  {
   "cell_type": "markdown",
   "metadata": {
    "id": "EOQHeo_oezcu",
    "tags": []
   },
   "source": [
    "# 1. Load the dataset"
   ]
  },
  {
   "cell_type": "code",
   "execution_count": 3,
   "metadata": {
    "colab": {
     "base_uri": "https://localhost:8080/"
    },
    "executionInfo": {
     "elapsed": 3612,
     "status": "ok",
     "timestamp": 1649695576790,
     "user": {
      "displayName": "武兴宇",
      "userId": "13491807285349578879"
     },
     "user_tz": -60
    },
    "id": "fOHqzPA7fUYH",
    "outputId": "ed973a63-27f2-473a-b87a-0038762897f2"
   },
   "outputs": [],
   "source": [
    "### if use google colab:\n",
    "# from google.colab import drive\n",
    "# drive.mount('/content/drive')\n",
    "# path = \"/content/drive/MyDrive/AMLS_II_assignment21_22\"\n",
    "# os.chdir(path)\n",
    "# print(os.getcwd())"
   ]
  },
  {
   "cell_type": "code",
   "execution_count": 4,
   "metadata": {
    "executionInfo": {
     "elapsed": 214,
     "status": "ok",
     "timestamp": 1649694971525,
     "user": {
      "displayName": "武兴宇",
      "userId": "13491807285349578879"
     },
     "user_tz": -60
    },
    "id": "JrTPCAAXezcv"
   },
   "outputs": [],
   "source": [
    "### unzip training and test datasets.\n",
    "# !apt-get install unzip\n",
    "# !unzip ./Datasets/sentiment-analysis-on-movie-reviews/test.tsv.zip test.tsv\n",
    "# !unzip ./Datasets/sentiment-analysis-on-movie-reviews/train.tsv.zip train.tsv"
   ]
  },
  {
   "cell_type": "code",
   "execution_count": 5,
   "metadata": {
    "executionInfo": {
     "elapsed": 2042,
     "status": "ok",
     "timestamp": 1649695761123,
     "user": {
      "displayName": "武兴宇",
      "userId": "13491807285349578879"
     },
     "user_tz": -60
    },
    "id": "jzkPxlRRezcv"
   },
   "outputs": [],
   "source": [
    "df = pd.read_csv('./Datasets/train.tsv', sep='\\t')\n",
    "df_test=pd.read_csv('./Datasets/test.tsv', sep='\\t')\n",
    "# sample_submission = pd.read_csv('./Datasets/sampleSubmission.csv')"
   ]
  },
  {
   "cell_type": "code",
   "execution_count": 6,
   "metadata": {
    "colab": {
     "base_uri": "https://localhost:8080/",
     "height": 206
    },
    "executionInfo": {
     "elapsed": 220,
     "status": "ok",
     "timestamp": 1649695768053,
     "user": {
      "displayName": "武兴宇",
      "userId": "13491807285349578879"
     },
     "user_tz": -60
    },
    "id": "9bSWuM2jezcw",
    "outputId": "377833b8-fb9e-451e-d32d-a780740ec5b4"
   },
   "outputs": [
    {
     "data": {
      "text/html": [
       "<div>\n",
       "<style scoped>\n",
       "    .dataframe tbody tr th:only-of-type {\n",
       "        vertical-align: middle;\n",
       "    }\n",
       "\n",
       "    .dataframe tbody tr th {\n",
       "        vertical-align: top;\n",
       "    }\n",
       "\n",
       "    .dataframe thead th {\n",
       "        text-align: right;\n",
       "    }\n",
       "</style>\n",
       "<table border=\"1\" class=\"dataframe\">\n",
       "  <thead>\n",
       "    <tr style=\"text-align: right;\">\n",
       "      <th></th>\n",
       "      <th>PhraseId</th>\n",
       "      <th>SentenceId</th>\n",
       "      <th>Phrase</th>\n",
       "      <th>Sentiment</th>\n",
       "    </tr>\n",
       "  </thead>\n",
       "  <tbody>\n",
       "    <tr>\n",
       "      <th>0</th>\n",
       "      <td>1</td>\n",
       "      <td>1</td>\n",
       "      <td>A series of escapades demonstrating the adage ...</td>\n",
       "      <td>1</td>\n",
       "    </tr>\n",
       "    <tr>\n",
       "      <th>1</th>\n",
       "      <td>2</td>\n",
       "      <td>1</td>\n",
       "      <td>A series of escapades demonstrating the adage ...</td>\n",
       "      <td>2</td>\n",
       "    </tr>\n",
       "    <tr>\n",
       "      <th>2</th>\n",
       "      <td>3</td>\n",
       "      <td>1</td>\n",
       "      <td>A series</td>\n",
       "      <td>2</td>\n",
       "    </tr>\n",
       "    <tr>\n",
       "      <th>3</th>\n",
       "      <td>4</td>\n",
       "      <td>1</td>\n",
       "      <td>A</td>\n",
       "      <td>2</td>\n",
       "    </tr>\n",
       "    <tr>\n",
       "      <th>4</th>\n",
       "      <td>5</td>\n",
       "      <td>1</td>\n",
       "      <td>series</td>\n",
       "      <td>2</td>\n",
       "    </tr>\n",
       "  </tbody>\n",
       "</table>\n",
       "</div>"
      ],
      "text/plain": [
       "   PhraseId  SentenceId                                             Phrase  \\\n",
       "0         1           1  A series of escapades demonstrating the adage ...   \n",
       "1         2           1  A series of escapades demonstrating the adage ...   \n",
       "2         3           1                                           A series   \n",
       "3         4           1                                                  A   \n",
       "4         5           1                                             series   \n",
       "\n",
       "   Sentiment  \n",
       "0          1  \n",
       "1          2  \n",
       "2          2  \n",
       "3          2  \n",
       "4          2  "
      ]
     },
     "execution_count": 6,
     "metadata": {},
     "output_type": "execute_result"
    }
   ],
   "source": [
    "df.head()"
   ]
  },
  {
   "cell_type": "code",
   "execution_count": 7,
   "metadata": {
    "colab": {
     "base_uri": "https://localhost:8080/",
     "height": 214
    },
    "executionInfo": {
     "elapsed": 227,
     "status": "ok",
     "timestamp": 1649695769384,
     "user": {
      "displayName": "武兴宇",
      "userId": "13491807285349578879"
     },
     "user_tz": -60
    },
    "id": "5BghpbV5ezcw",
    "outputId": "9a0e8688-34fe-4ebd-8b0f-f1fa1d3dfeea"
   },
   "outputs": [
    {
     "data": {
      "text/html": [
       "<div>\n",
       "<style scoped>\n",
       "    .dataframe tbody tr th:only-of-type {\n",
       "        vertical-align: middle;\n",
       "    }\n",
       "\n",
       "    .dataframe tbody tr th {\n",
       "        vertical-align: top;\n",
       "    }\n",
       "\n",
       "    .dataframe thead th {\n",
       "        text-align: right;\n",
       "    }\n",
       "</style>\n",
       "<table border=\"1\" class=\"dataframe\">\n",
       "  <thead>\n",
       "    <tr style=\"text-align: right;\">\n",
       "      <th></th>\n",
       "      <th>PhraseId</th>\n",
       "      <th>SentenceId</th>\n",
       "      <th>Phrase</th>\n",
       "    </tr>\n",
       "  </thead>\n",
       "  <tbody>\n",
       "    <tr>\n",
       "      <th>0</th>\n",
       "      <td>156061</td>\n",
       "      <td>8545</td>\n",
       "      <td>An intermittently pleasing but mostly routine ...</td>\n",
       "    </tr>\n",
       "    <tr>\n",
       "      <th>1</th>\n",
       "      <td>156062</td>\n",
       "      <td>8545</td>\n",
       "      <td>An intermittently pleasing but mostly routine ...</td>\n",
       "    </tr>\n",
       "    <tr>\n",
       "      <th>2</th>\n",
       "      <td>156063</td>\n",
       "      <td>8545</td>\n",
       "      <td>An</td>\n",
       "    </tr>\n",
       "    <tr>\n",
       "      <th>3</th>\n",
       "      <td>156064</td>\n",
       "      <td>8545</td>\n",
       "      <td>intermittently pleasing but mostly routine effort</td>\n",
       "    </tr>\n",
       "    <tr>\n",
       "      <th>4</th>\n",
       "      <td>156065</td>\n",
       "      <td>8545</td>\n",
       "      <td>intermittently pleasing but mostly routine</td>\n",
       "    </tr>\n",
       "  </tbody>\n",
       "</table>\n",
       "</div>"
      ],
      "text/plain": [
       "   PhraseId  SentenceId                                             Phrase\n",
       "0    156061        8545  An intermittently pleasing but mostly routine ...\n",
       "1    156062        8545  An intermittently pleasing but mostly routine ...\n",
       "2    156063        8545                                                 An\n",
       "3    156064        8545  intermittently pleasing but mostly routine effort\n",
       "4    156065        8545         intermittently pleasing but mostly routine"
      ]
     },
     "execution_count": 7,
     "metadata": {},
     "output_type": "execute_result"
    }
   ],
   "source": [
    "df_test.head()"
   ]
  },
  {
   "cell_type": "code",
   "execution_count": 8,
   "metadata": {
    "colab": {
     "base_uri": "https://localhost:8080/"
    },
    "executionInfo": {
     "elapsed": 339,
     "status": "ok",
     "timestamp": 1649695792591,
     "user": {
      "displayName": "武兴宇",
      "userId": "13491807285349578879"
     },
     "user_tz": -60
    },
    "id": "FmXd90Uxezcx",
    "outputId": "4011124a-e0ec-4316-a063-d84883859f7b"
   },
   "outputs": [
    {
     "data": {
      "text/plain": [
       "((156060, 4), (66292, 3))"
      ]
     },
     "execution_count": 8,
     "metadata": {},
     "output_type": "execute_result"
    }
   ],
   "source": [
    "df.shape, df_test.shape"
   ]
  },
  {
   "cell_type": "markdown",
   "metadata": {
    "id": "PKUHt8vYezcx",
    "tags": []
   },
   "source": [
    "# 2. Split into train(validation within it) and test"
   ]
  },
  {
   "cell_type": "markdown",
   "metadata": {
    "pycharm": {
     "name": "#%% md\n"
    }
   },
   "source": [
    "We can see that df_test's Sentiment/label is not available, thus we need to create our own test dataset for evaluation."
   ]
  },
  {
   "cell_type": "code",
   "execution_count": 9,
   "metadata": {
    "executionInfo": {
     "elapsed": 256,
     "status": "ok",
     "timestamp": 1649695794821,
     "user": {
      "displayName": "武兴宇",
      "userId": "13491807285349578879"
     },
     "user_tz": -60
    },
    "id": "AZKpWo4Dezcy"
   },
   "outputs": [],
   "source": [
    "df_train, df_test = train_test_split(df, test_size = 0.1, random_state = 3) #test:train = 1:9"
   ]
  },
  {
   "cell_type": "markdown",
   "metadata": {
    "id": "ZRTwXuCYezcy",
    "tags": []
   },
   "source": [
    "# 3. Data Analytics"
   ]
  },
  {
   "cell_type": "markdown",
   "metadata": {
    "id": "Ib6OHkkVezcy"
   },
   "source": [
    "## 3.1 Dataset overview"
   ]
  },
  {
   "cell_type": "code",
   "execution_count": 10,
   "metadata": {
    "colab": {
     "base_uri": "https://localhost:8080/"
    },
    "executionInfo": {
     "elapsed": 236,
     "status": "ok",
     "timestamp": 1649695875918,
     "user": {
      "displayName": "武兴宇",
      "userId": "13491807285349578879"
     },
     "user_tz": -60
    },
    "id": "SyDhsImKezcy",
    "outputId": "4daeafa1-9127-42fd-b58e-66b4b670a696"
   },
   "outputs": [
    {
     "data": {
      "text/plain": [
       "((140454, 4), (15606, 4))"
      ]
     },
     "execution_count": 10,
     "metadata": {},
     "output_type": "execute_result"
    }
   ],
   "source": [
    "df_train.shape, df_test.shape"
   ]
  },
  {
   "cell_type": "code",
   "execution_count": 11,
   "metadata": {
    "colab": {
     "base_uri": "https://localhost:8080/",
     "height": 206
    },
    "executionInfo": {
     "elapsed": 2,
     "status": "ok",
     "timestamp": 1649695876669,
     "user": {
      "displayName": "武兴宇",
      "userId": "13491807285349578879"
     },
     "user_tz": -60
    },
    "id": "pyu-I5x8ezcy",
    "outputId": "4a8ed1fd-6fbf-4fb9-8ff6-6d4248fd4358"
   },
   "outputs": [
    {
     "data": {
      "text/html": [
       "<div>\n",
       "<style scoped>\n",
       "    .dataframe tbody tr th:only-of-type {\n",
       "        vertical-align: middle;\n",
       "    }\n",
       "\n",
       "    .dataframe tbody tr th {\n",
       "        vertical-align: top;\n",
       "    }\n",
       "\n",
       "    .dataframe thead th {\n",
       "        text-align: right;\n",
       "    }\n",
       "</style>\n",
       "<table border=\"1\" class=\"dataframe\">\n",
       "  <thead>\n",
       "    <tr style=\"text-align: right;\">\n",
       "      <th></th>\n",
       "      <th>PhraseId</th>\n",
       "      <th>SentenceId</th>\n",
       "      <th>Phrase</th>\n",
       "      <th>Sentiment</th>\n",
       "    </tr>\n",
       "  </thead>\n",
       "  <tbody>\n",
       "    <tr>\n",
       "      <th>151793</th>\n",
       "      <td>151794</td>\n",
       "      <td>8283</td>\n",
       "      <td>messy emotions</td>\n",
       "      <td>2</td>\n",
       "    </tr>\n",
       "    <tr>\n",
       "      <th>144411</th>\n",
       "      <td>144412</td>\n",
       "      <td>7840</td>\n",
       "      <td>Man , Heart</td>\n",
       "      <td>2</td>\n",
       "    </tr>\n",
       "    <tr>\n",
       "      <th>116367</th>\n",
       "      <td>116368</td>\n",
       "      <td>6205</td>\n",
       "      <td>annoyed</td>\n",
       "      <td>1</td>\n",
       "    </tr>\n",
       "    <tr>\n",
       "      <th>37456</th>\n",
       "      <td>37457</td>\n",
       "      <td>1778</td>\n",
       "      <td>its exquisite acting , inventive screenplay , ...</td>\n",
       "      <td>4</td>\n",
       "    </tr>\n",
       "    <tr>\n",
       "      <th>2961</th>\n",
       "      <td>2962</td>\n",
       "      <td>112</td>\n",
       "      <td>postcard</td>\n",
       "      <td>2</td>\n",
       "    </tr>\n",
       "  </tbody>\n",
       "</table>\n",
       "</div>"
      ],
      "text/plain": [
       "        PhraseId  SentenceId  \\\n",
       "151793    151794        8283   \n",
       "144411    144412        7840   \n",
       "116367    116368        6205   \n",
       "37456      37457        1778   \n",
       "2961        2962         112   \n",
       "\n",
       "                                                   Phrase  Sentiment  \n",
       "151793                                     messy emotions          2  \n",
       "144411                                        Man , Heart          2  \n",
       "116367                                            annoyed          1  \n",
       "37456   its exquisite acting , inventive screenplay , ...          4  \n",
       "2961                                             postcard          2  "
      ]
     },
     "execution_count": 11,
     "metadata": {},
     "output_type": "execute_result"
    }
   ],
   "source": [
    "df_train.head()"
   ]
  },
  {
   "cell_type": "code",
   "execution_count": 12,
   "metadata": {
    "colab": {
     "base_uri": "https://localhost:8080/",
     "height": 206
    },
    "executionInfo": {
     "elapsed": 7,
     "status": "ok",
     "timestamp": 1649695878233,
     "user": {
      "displayName": "武兴宇",
      "userId": "13491807285349578879"
     },
     "user_tz": -60
    },
    "id": "c10pOimeezcy",
    "outputId": "256aede1-68ab-461c-8d37-0b249d9461d9"
   },
   "outputs": [
    {
     "data": {
      "text/html": [
       "<div>\n",
       "<style scoped>\n",
       "    .dataframe tbody tr th:only-of-type {\n",
       "        vertical-align: middle;\n",
       "    }\n",
       "\n",
       "    .dataframe tbody tr th {\n",
       "        vertical-align: top;\n",
       "    }\n",
       "\n",
       "    .dataframe thead th {\n",
       "        text-align: right;\n",
       "    }\n",
       "</style>\n",
       "<table border=\"1\" class=\"dataframe\">\n",
       "  <thead>\n",
       "    <tr style=\"text-align: right;\">\n",
       "      <th></th>\n",
       "      <th>PhraseId</th>\n",
       "      <th>SentenceId</th>\n",
       "      <th>Phrase</th>\n",
       "      <th>Sentiment</th>\n",
       "    </tr>\n",
       "  </thead>\n",
       "  <tbody>\n",
       "    <tr>\n",
       "      <th>104526</th>\n",
       "      <td>104527</td>\n",
       "      <td>5516</td>\n",
       "      <td>bomb</td>\n",
       "      <td>0</td>\n",
       "    </tr>\n",
       "    <tr>\n",
       "      <th>135932</th>\n",
       "      <td>135933</td>\n",
       "      <td>7343</td>\n",
       "      <td>as a bonus ,</td>\n",
       "      <td>2</td>\n",
       "    </tr>\n",
       "    <tr>\n",
       "      <th>150608</th>\n",
       "      <td>150609</td>\n",
       "      <td>8209</td>\n",
       "      <td>Even on its own ludicrous terms</td>\n",
       "      <td>2</td>\n",
       "    </tr>\n",
       "    <tr>\n",
       "      <th>62279</th>\n",
       "      <td>62280</td>\n",
       "      <td>3148</td>\n",
       "      <td>Quitting hits home with disorienting force .</td>\n",
       "      <td>3</td>\n",
       "    </tr>\n",
       "    <tr>\n",
       "      <th>109780</th>\n",
       "      <td>109781</td>\n",
       "      <td>5816</td>\n",
       "      <td>found writer-director Mitch Davis 's wall of k...</td>\n",
       "      <td>1</td>\n",
       "    </tr>\n",
       "  </tbody>\n",
       "</table>\n",
       "</div>"
      ],
      "text/plain": [
       "        PhraseId  SentenceId  \\\n",
       "104526    104527        5516   \n",
       "135932    135933        7343   \n",
       "150608    150609        8209   \n",
       "62279      62280        3148   \n",
       "109780    109781        5816   \n",
       "\n",
       "                                                   Phrase  Sentiment  \n",
       "104526                                               bomb          0  \n",
       "135932                                       as a bonus ,          2  \n",
       "150608                    Even on its own ludicrous terms          2  \n",
       "62279        Quitting hits home with disorienting force .          3  \n",
       "109780  found writer-director Mitch Davis 's wall of k...          1  "
      ]
     },
     "execution_count": 12,
     "metadata": {},
     "output_type": "execute_result"
    }
   ],
   "source": [
    "df_test.head()"
   ]
  },
  {
   "cell_type": "markdown",
   "metadata": {
    "id": "snaUYyBTezcy"
   },
   "source": [
    "Above we can see that Phrase and Sentiment columns are all we need from the file in order to train the models later, therefore we will use these as feature (X) and label (Y) when fitting the transformer."
   ]
  },
  {
   "cell_type": "markdown",
   "metadata": {
    "id": "HRPgSGFGezcz"
   },
   "source": [
    "## 3.2 Check if there is null/empty value"
   ]
  },
  {
   "cell_type": "code",
   "execution_count": 13,
   "metadata": {
    "colab": {
     "base_uri": "https://localhost:8080/"
    },
    "executionInfo": {
     "elapsed": 201,
     "status": "ok",
     "timestamp": 1649695879901,
     "user": {
      "displayName": "武兴宇",
      "userId": "13491807285349578879"
     },
     "user_tz": -60
    },
    "id": "10EieiOUezcz",
    "outputId": "11329442-ce96-4207-f1f8-639046806fae"
   },
   "outputs": [
    {
     "name": "stdout",
     "output_type": "stream",
     "text": [
      "<class 'pandas.core.frame.DataFrame'>\n",
      "Int64Index: 140454 entries, 151793 to 71530\n",
      "Data columns (total 4 columns):\n",
      " #   Column      Non-Null Count   Dtype \n",
      "---  ------      --------------   ----- \n",
      " 0   PhraseId    140454 non-null  int64 \n",
      " 1   SentenceId  140454 non-null  int64 \n",
      " 2   Phrase      140454 non-null  object\n",
      " 3   Sentiment   140454 non-null  int64 \n",
      "dtypes: int64(3), object(1)\n",
      "memory usage: 5.4+ MB\n"
     ]
    },
    {
     "data": {
      "text/plain": [
       "(None,\n",
       " PhraseId      0\n",
       " SentenceId    0\n",
       " Phrase        0\n",
       " Sentiment     0\n",
       " dtype: int64)"
      ]
     },
     "execution_count": 13,
     "metadata": {},
     "output_type": "execute_result"
    }
   ],
   "source": [
    "df_train.info(), df_train.isnull().sum()"
   ]
  },
  {
   "cell_type": "markdown",
   "metadata": {
    "id": "oPR74X7Hezcz"
   },
   "source": [
    "## 3.3 Class Distribution"
   ]
  },
  {
   "cell_type": "markdown",
   "metadata": {
    "id": "lLNc3oKsezcz"
   },
   "source": [
    "The dataset looks good and we need to know how are distributed the 5 classes in the label so as to know it's balanced or not."
   ]
  },
  {
   "cell_type": "code",
   "execution_count": 14,
   "metadata": {
    "colab": {
     "base_uri": "https://localhost:8080/"
    },
    "executionInfo": {
     "elapsed": 1,
     "status": "ok",
     "timestamp": 1649695880773,
     "user": {
      "displayName": "武兴宇",
      "userId": "13491807285349578879"
     },
     "user_tz": -60
    },
    "id": "cABHEkctezcz",
    "outputId": "44a8e084-a745-4285-b1e4-a5d589c6008f"
   },
   "outputs": [
    {
     "data": {
      "text/plain": [
       "2    71624\n",
       "3    29626\n",
       "1    24545\n",
       "4     8288\n",
       "0     6371\n",
       "Name: Sentiment, dtype: int64"
      ]
     },
     "execution_count": 14,
     "metadata": {},
     "output_type": "execute_result"
    }
   ],
   "source": [
    "df_train.Sentiment.value_counts()"
   ]
  },
  {
   "cell_type": "markdown",
   "metadata": {
    "id": "jgRLh__Rezcz"
   },
   "source": [
    "The sentiment labels are:\n",
    "\n",
    "0 - negative\n",
    "1 - somewhat negative\n",
    "2 - neutral\n",
    "3 - somewhat positive\n",
    "4 - positive"
   ]
  },
  {
   "cell_type": "code",
   "execution_count": 15,
   "metadata": {
    "colab": {
     "base_uri": "https://localhost:8080/",
     "height": 717
    },
    "executionInfo": {
     "elapsed": 440,
     "status": "ok",
     "timestamp": 1649695881486,
     "user": {
      "displayName": "武兴宇",
      "userId": "13491807285349578879"
     },
     "user_tz": -60
    },
    "id": "Z1FfPs73ezcz",
    "outputId": "6f9422f0-8b58-4c49-f742-4f9cac55cb16"
   },
   "outputs": [
    {
     "data": {
      "text/plain": [
       "<AxesSubplot:title={'center':'Pie chart of Sentiment Class'}, ylabel='Sentiment'>"
      ]
     },
     "execution_count": 15,
     "metadata": {},
     "output_type": "execute_result"
    },
    {
     "data": {
      "image/png": "[encoded data removed]",
      "text/plain": [
       "<Figure size 864x864 with 1 Axes>"
      ]
     },
     "metadata": {},
     "output_type": "display_data"
    }
   ],
   "source": [
    "df2 = df_train.copy(deep = True) ## copy the dataset deeply\n",
    "pie1 = pd.DataFrame(df2['Sentiment'].replace(0,'Negative').replace(1,'Somewhat Negative').replace(2,'Neutral').replace(3,'Somewhat Positive').replace(4,'Positive').value_counts())\n",
    "pie1.reset_index(inplace = True)\n",
    "pie1.plot(kind = 'pie', title = 'Pie chart of Sentiment Class',y = 'Sentiment',\n",
    "          autopct = '%1.1f%%', shadow = False, labels = pie1['index'], legend = False, fontsize = 14, figsize = (12,12))"
   ]
  },
  {
   "cell_type": "markdown",
   "metadata": {
    "id": "Raf7zHmcezc0"
   },
   "source": [
    "The label is considerably unbalanced, only 'Neutral' corresponds to more than 50% of instances and there is a slightly skewed towards positive reviews. Early we can say the class to be predicted will be sidetracked toward the more frequent classes, this is why we need a text balancing technique just like 'SMOTE' for numerical features."
   ]
  },
  {
   "cell_type": "markdown",
   "metadata": {
    "id": "8AZ01fCjezc0"
   },
   "source": [
    "## 3.4 No.words Distribution"
   ]
  },
  {
   "cell_type": "markdown",
   "metadata": {
    "id": "qEcZgWWxezc0"
   },
   "source": [
    "Time now to find out the number of words in reviews, in order to understand a bit better we will plot histograms for each class"
   ]
  },
  {
   "cell_type": "code",
   "execution_count": 16,
   "metadata": {
    "executionInfo": {
     "elapsed": 2,
     "status": "ok",
     "timestamp": 1649695882825,
     "user": {
      "displayName": "武兴宇",
      "userId": "13491807285349578879"
     },
     "user_tz": -60
    },
    "id": "BjX6uvkNezc0"
   },
   "outputs": [],
   "source": [
    "# df_train[df_train['Sentiment'] == 0]['Phrase'].str.split().map(lambda x: len(x))"
   ]
  },
  {
   "cell_type": "code",
   "execution_count": 17,
   "metadata": {
    "colab": {
     "base_uri": "https://localhost:8080/",
     "height": 405
    },
    "executionInfo": {
     "elapsed": 2336,
     "status": "ok",
     "timestamp": 1649695885362,
     "user": {
      "displayName": "武兴宇",
      "userId": "13491807285349578879"
     },
     "user_tz": -60
    },
    "id": "311slfckezc0",
    "outputId": "039394c8-0751-4d2d-9381-87178c81c946"
   },
   "outputs": [
    {
     "data": {
      "text/plain": [
       "Text(0.5, 0.98, 'Histogram number of words in reviews')"
      ]
     },
     "execution_count": 17,
     "metadata": {},
     "output_type": "execute_result"
    },
    {
     "data": {
      "image/png": "[encoded data removed]",
      "text/plain": [
       "<Figure size 1800x576 with 5 Axes>"
      ]
     },
     "metadata": {
      "needs_background": "light"
     },
     "output_type": "display_data"
    }
   ],
   "source": [
    "f, (ax1, ax2, ax3, ax4, ax5) = plt.subplots(1,5,figsize=(25,8))\n",
    "\n",
    "ax1.hist(df_train[df_train['Sentiment'] == 0]['Phrase'].str.split().map(lambda x: len(x)), bins=50, color='b')\n",
    "ax1.set_title('Negative Reviews')\n",
    "\n",
    "ax2.hist(df_train[df_train['Sentiment'] == 1]['Phrase'].str.split().map(lambda x: len(x)), bins=50, color='r')\n",
    "ax2.set_title('Somewhat Negative Reviews')\n",
    "\n",
    "ax3.hist(df_train[df_train['Sentiment'] == 2]['Phrase'].str.split().map(lambda x: len(x)), bins=50, color='g')\n",
    "ax3.set_title('Neutral Reviews')\n",
    "\n",
    "ax4.hist(df_train[df_train['Sentiment'] == 3]['Phrase'].str.split().map(lambda x: len(x)), bins=50, color='y')\n",
    "ax4.set_title('Somewhat Positive Reviews')\n",
    "\n",
    "ax5.hist(df_train[df_train['Sentiment'] == 4]['Phrase'].str.split().map(lambda x: len(x)), bins=50, color='k')\n",
    "ax5.set_title('Positive Reviews')\n",
    "\n",
    "f.suptitle('Histogram number of words in reviews')"
   ]
  },
  {
   "cell_type": "markdown",
   "metadata": {
    "id": "jKs3XKlgezc0"
   },
   "source": [
    "In the 5 histograms we can see the distribution behaves like a negative exponential function decreasing significantly as the x-axis increases. It seems like the longest sentence in Phrase column corresponds to a class 'Negative Reviews' and is around 52 words, now let's obtain the longest one by using the max() function:"
   ]
  },
  {
   "cell_type": "code",
   "execution_count": 18,
   "metadata": {
    "colab": {
     "base_uri": "https://localhost:8080/"
    },
    "executionInfo": {
     "elapsed": 579,
     "status": "ok",
     "timestamp": 1649695885939,
     "user": {
      "displayName": "武兴宇",
      "userId": "13491807285349578879"
     },
     "user_tz": -60
    },
    "id": "AcC6z8Cmezc0",
    "outputId": "a20fa57c-46ad-467e-b7ce-64f1b5eea401"
   },
   "outputs": [
    {
     "data": {
      "text/plain": [
       "52"
      ]
     },
     "execution_count": 18,
     "metadata": {},
     "output_type": "execute_result"
    }
   ],
   "source": [
    "df_train['Phrase'].str.split().map(lambda x: len(x)).max()"
   ]
  },
  {
   "cell_type": "markdown",
   "metadata": {
    "id": "zQrtLzmgezc0"
   },
   "source": [
    "Effectively was 52 words, this means if we would Tokenize by word the max_length should be 52, however as transformers consider sub-words tokenization such number could be increased depending on the words being used which can increase such length to 60 or even more, thus we have to take that into account when modeling as it could cause our model to take significatively a long time to train, therefore we have to find a trade-off between training time and performance."
   ]
  },
  {
   "cell_type": "code",
   "execution_count": 19,
   "metadata": {},
   "outputs": [
    {
     "data": {
      "image/png": "[encoded data removed]",
      "text/plain": [
       "<Figure size 720x288 with 1 Axes>"
      ]
     },
     "metadata": {
      "needs_background": "light"
     },
     "output_type": "display_data"
    }
   ],
   "source": [
    "f, (ax1) = plt.subplots(figsize=(10,4))\n",
    "\n",
    "ax1.hist(df_train['Phrase'].str.split().map(lambda x: len(x)), bins=25, color='#008080')\n",
    "# ax1.set_title('')\n",
    "ax1.tick_params(labelsize=14)\n",
    "ax1.set_xlabel('Number of Words', fontsize = 18)\n",
    "ax1.set_ylabel('Number of Phrases', fontsize = 18)\n",
    "\n",
    "plt.tight_layout()\n",
    "plt.savefig(\"./images/words_num.pdf\")"
   ]
  },
  {
   "cell_type": "code",
   "execution_count": 20,
   "metadata": {
    "colab": {
     "base_uri": "https://localhost:8080/"
    },
    "executionInfo": {
     "elapsed": 3046,
     "status": "ok",
     "timestamp": 1649695889168,
     "user": {
      "displayName": "武兴宇",
      "userId": "13491807285349578879"
     },
     "user_tz": -60
    },
    "id": "98u4HkKfezc0",
    "outputId": "a4004939-f864-41cd-822f-d0062d570592"
   },
   "outputs": [
    {
     "name": "stdout",
     "output_type": "stream",
     "text": [
      "Number of sentences which contain more than 20 words:  10311\n",
      " \n",
      "Number of sentences which contain more than 30 words:  2315\n",
      " \n",
      "Number of sentences which contain more than 40 words:  316\n",
      " \n",
      "Number of sentences which contain more than 50 words:  16\n",
      " \n",
      "Number of sentences which contain 52 words:  3\n",
      " \n"
     ]
    }
   ],
   "source": [
    "df20=pd.DataFrame(df_train['Phrase'].str.split().map(lambda x: len(x))>=20)\n",
    "print('Number of sentences which contain more than 20 words: ', df20.loc[df20['Phrase']==True].shape[0])\n",
    "print(' ')\n",
    "df30=pd.DataFrame(df_train['Phrase'].str.split().map(lambda x: len(x))>=30)\n",
    "print('Number of sentences which contain more than 30 words: ', df30.loc[df30['Phrase']==True].shape[0])\n",
    "print(' ')\n",
    "df40=pd.DataFrame(df_train['Phrase'].str.split().map(lambda x: len(x))>=40)\n",
    "print('Number of sentences which contain more than 40 words: ', df40.loc[df40['Phrase']==True].shape[0])\n",
    "print(' ')\n",
    "df50=pd.DataFrame(df_train['Phrase'].str.split().map(lambda x: len(x))>=50)\n",
    "print('Number of sentences which contain more than 50 words: ', df50.loc[df50['Phrase']==True].shape[0])\n",
    "print(' ')\n",
    "df52=pd.DataFrame(df_train['Phrase'].str.split().map(lambda x: len(x))==52)\n",
    "print('Number of sentences which contain 52 words: ', df52.loc[df52['Phrase']==True].shape[0])\n",
    "print(' ')\n",
    "#dfff.loc[dfff['Phrase']==True]"
   ]
  },
  {
   "cell_type": "markdown",
   "metadata": {
    "id": "k4vyKjZBezc0"
   },
   "source": [
    "Above we see 316 reviews contain more than 40 words and only 16 reviews above 50 words, these two number corresponds to a tiny proportion of the total number of instances (140,454), therefore setting to these numbers will not affect too much the classification. Below we can see an example of a sentence containing 52 words, observe there are misspelled words, acronyms and some of them can be decomposed into sub-words:"
   ]
  },
  {
   "cell_type": "code",
   "execution_count": 21,
   "metadata": {
    "colab": {
     "base_uri": "https://localhost:8080/"
    },
    "executionInfo": {
     "elapsed": 216,
     "status": "ok",
     "timestamp": 1649695891455,
     "user": {
      "displayName": "武兴宇",
      "userId": "13491807285349578879"
     },
     "user_tz": -60
    },
    "id": "di0bxp2jezc1",
    "outputId": "9f1631d6-72ae-4408-dee6-9fbd5f307192"
   },
   "outputs": [
    {
     "name": "stdout",
     "output_type": "stream",
     "text": [
      "There are n't too many films that can be as simultaneously funny , offbeat and heartwarming -LRB- without a thick shmear of the goo , at least -RRB- , but `` Elling '' manages to do all three quite well , making it one of the year 's most enjoyable releases .\n"
     ]
    }
   ],
   "source": [
    "print(df_train.loc[87835,'Phrase'])"
   ]
  },
  {
   "cell_type": "markdown",
   "metadata": {
    "id": "knK69kxoezc1",
    "tags": []
   },
   "source": [
    "# 4. Preparation"
   ]
  },
  {
   "cell_type": "markdown",
   "metadata": {
    "id": "WgNN1wB_ezc1"
   },
   "source": [
    "## 4.1 Install transformers and import tensorflow.keras"
   ]
  },
  {
   "cell_type": "markdown",
   "metadata": {
    "id": "QMgLxFRcezc1"
   },
   "source": [
    "Firstly, we have to install the transformers library offered by HuggingFace so as enable all useful functions when building the four models."
   ]
  },
  {
   "cell_type": "code",
   "execution_count": 22,
   "metadata": {
    "colab": {
     "base_uri": "https://localhost:8080/"
    },
    "executionInfo": {
     "elapsed": 10419,
     "status": "ok",
     "timestamp": 1649695904642,
     "user": {
      "displayName": "武兴宇",
      "userId": "13491807285349578879"
     },
     "user_tz": -60
    },
    "id": "Tx86cy1Bezc1",
    "outputId": "fefc5d10-4beb-490e-9ca6-5ada6b62ce7c"
   },
   "outputs": [],
   "source": [
    "# !pip install transformers"
   ]
  },
  {
   "cell_type": "markdown",
   "metadata": {
    "pycharm": {
     "name": "#%% md\n"
    }
   },
   "source": [
    "Then what we need from tensorflow.keras:"
   ]
  },
  {
   "cell_type": "code",
   "execution_count": 23,
   "metadata": {
    "pycharm": {
     "name": "#%%\n"
    }
   },
   "outputs": [],
   "source": [
    "from tensorflow.keras.layers import Input, Dropout, Dense\n",
    "from tensorflow.keras.models import Model\n",
    "from tensorflow.keras.optimizers import Adam\n",
    "from tensorflow.keras.callbacks import EarlyStopping\n",
    "from tensorflow.keras.initializers import TruncatedNormal\n",
    "from tensorflow.keras.losses import CategoricalCrossentropy\n",
    "from tensorflow.keras.metrics import CategoricalAccuracy\n",
    "from tensorflow.keras.utils import to_categorical"
   ]
  },
  {
   "cell_type": "markdown",
   "metadata": {
    "id": "zl98BgHwezc1"
   },
   "source": [
    "## 4.2 Extract useful features and labels"
   ]
  },
  {
   "cell_type": "markdown",
   "metadata": {
    "id": "vrKC5Voeezc1"
   },
   "source": [
    "Now we have to gather from the dataset only the two columns useful for training (Phrase and Sentiment):"
   ]
  },
  {
   "cell_type": "code",
   "execution_count": 24,
   "metadata": {
    "colab": {
     "base_uri": "https://localhost:8080/"
    },
    "executionInfo": {
     "elapsed": 256,
     "status": "ok",
     "timestamp": 1649695910342,
     "user": {
      "displayName": "武兴宇",
      "userId": "13491807285349578879"
     },
     "user_tz": -60
    },
    "id": "fd54fS6Tezc1",
    "outputId": "c849843b-72e7-4515-fa58-1fc6e4dac379"
   },
   "outputs": [],
   "source": [
    "data = df_train[['Phrase', 'Sentiment']]\n",
    "data = data.copy()\n",
    "\n",
    "# Set your model output as categorical and save in new label col\n",
    "data['Sentiment_label'] = pd.Categorical(data['Sentiment'])\n",
    "\n",
    "# Transform your output to numeric\n",
    "data['Sentiment'] = data['Sentiment_label'].cat.codes"
   ]
  },
  {
   "cell_type": "code",
   "execution_count": 25,
   "metadata": {
    "colab": {
     "base_uri": "https://localhost:8080/",
     "height": 423
    },
    "executionInfo": {
     "elapsed": 206,
     "status": "ok",
     "timestamp": 1649695917434,
     "user": {
      "displayName": "武兴宇",
      "userId": "13491807285349578879"
     },
     "user_tz": -60
    },
    "id": "D7itDzrKezc1",
    "outputId": "c3c91011-17ab-4f54-a53b-5c87a61b6add"
   },
   "outputs": [
    {
     "data": {
      "text/html": [
       "<div>\n",
       "<style scoped>\n",
       "    .dataframe tbody tr th:only-of-type {\n",
       "        vertical-align: middle;\n",
       "    }\n",
       "\n",
       "    .dataframe tbody tr th {\n",
       "        vertical-align: top;\n",
       "    }\n",
       "\n",
       "    .dataframe thead th {\n",
       "        text-align: right;\n",
       "    }\n",
       "</style>\n",
       "<table border=\"1\" class=\"dataframe\">\n",
       "  <thead>\n",
       "    <tr style=\"text-align: right;\">\n",
       "      <th></th>\n",
       "      <th>Phrase</th>\n",
       "      <th>Sentiment</th>\n",
       "      <th>Sentiment_label</th>\n",
       "    </tr>\n",
       "  </thead>\n",
       "  <tbody>\n",
       "    <tr>\n",
       "      <th>151793</th>\n",
       "      <td>messy emotions</td>\n",
       "      <td>2</td>\n",
       "      <td>2</td>\n",
       "    </tr>\n",
       "    <tr>\n",
       "      <th>144411</th>\n",
       "      <td>Man , Heart</td>\n",
       "      <td>2</td>\n",
       "      <td>2</td>\n",
       "    </tr>\n",
       "    <tr>\n",
       "      <th>116367</th>\n",
       "      <td>annoyed</td>\n",
       "      <td>1</td>\n",
       "      <td>1</td>\n",
       "    </tr>\n",
       "    <tr>\n",
       "      <th>37456</th>\n",
       "      <td>its exquisite acting , inventive screenplay , ...</td>\n",
       "      <td>4</td>\n",
       "      <td>4</td>\n",
       "    </tr>\n",
       "    <tr>\n",
       "      <th>2961</th>\n",
       "      <td>postcard</td>\n",
       "      <td>2</td>\n",
       "      <td>2</td>\n",
       "    </tr>\n",
       "    <tr>\n",
       "      <th>...</th>\n",
       "      <td>...</td>\n",
       "      <td>...</td>\n",
       "      <td>...</td>\n",
       "    </tr>\n",
       "    <tr>\n",
       "      <th>11261</th>\n",
       "      <td>the years</td>\n",
       "      <td>2</td>\n",
       "      <td>2</td>\n",
       "    </tr>\n",
       "    <tr>\n",
       "      <th>104704</th>\n",
       "      <td>best sequel</td>\n",
       "      <td>4</td>\n",
       "      <td>4</td>\n",
       "    </tr>\n",
       "    <tr>\n",
       "      <th>48056</th>\n",
       "      <td>the last 100 years</td>\n",
       "      <td>2</td>\n",
       "      <td>2</td>\n",
       "    </tr>\n",
       "    <tr>\n",
       "      <th>77049</th>\n",
       "      <td>in which murder is casual and fun</td>\n",
       "      <td>2</td>\n",
       "      <td>2</td>\n",
       "    </tr>\n",
       "    <tr>\n",
       "      <th>71530</th>\n",
       "      <td>seems to be missing a great deal of the acerbi...</td>\n",
       "      <td>1</td>\n",
       "      <td>1</td>\n",
       "    </tr>\n",
       "  </tbody>\n",
       "</table>\n",
       "<p>140454 rows × 3 columns</p>\n",
       "</div>"
      ],
      "text/plain": [
       "                                                   Phrase  Sentiment  \\\n",
       "151793                                     messy emotions          2   \n",
       "144411                                        Man , Heart          2   \n",
       "116367                                            annoyed          1   \n",
       "37456   its exquisite acting , inventive screenplay , ...          4   \n",
       "2961                                             postcard          2   \n",
       "...                                                   ...        ...   \n",
       "11261                                           the years          2   \n",
       "104704                                        best sequel          4   \n",
       "48056                                  the last 100 years          2   \n",
       "77049                   in which murder is casual and fun          2   \n",
       "71530   seems to be missing a great deal of the acerbi...          1   \n",
       "\n",
       "       Sentiment_label  \n",
       "151793               2  \n",
       "144411               2  \n",
       "116367               1  \n",
       "37456                4  \n",
       "2961                 2  \n",
       "...                ...  \n",
       "11261                2  \n",
       "104704               4  \n",
       "48056                2  \n",
       "77049                2  \n",
       "71530                1  \n",
       "\n",
       "[140454 rows x 3 columns]"
      ]
     },
     "execution_count": 25,
     "metadata": {},
     "output_type": "execute_result"
    }
   ],
   "source": [
    "data"
   ]
  },
  {
   "cell_type": "markdown",
   "metadata": {
    "id": "KmA7Au7jezc1"
   },
   "source": [
    "## 4.3 Split the training set into training and validation dataset"
   ]
  },
  {
   "cell_type": "markdown",
   "metadata": {
    "id": "leyY_iOqezc1"
   },
   "source": [
    "Split into train and validation set, as the file contains more than 140 thousand instances we can consider only a small portion of it as validation and still the number is relatively long, because of this we will set the test_size to 10% as follows:"
   ]
  },
  {
   "cell_type": "code",
   "execution_count": 26,
   "metadata": {
    "executionInfo": {
     "elapsed": 219,
     "status": "ok",
     "timestamp": 1649695920104,
     "user": {
      "displayName": "武兴宇",
      "userId": "13491807285349578879"
     },
     "user_tz": -60
    },
    "id": "IGo_KToBezc1"
   },
   "outputs": [],
   "source": [
    "data_train, data_val = train_test_split(data, test_size = 0.1, random_state = 1)"
   ]
  },
  {
   "cell_type": "markdown",
   "metadata": {
    "id": "ke-zd4I8ezc1"
   },
   "source": [
    "# 5. Bert"
   ]
  },
  {
   "cell_type": "markdown",
   "metadata": {
    "pycharm": {
     "name": "#%% md\n"
    },
    "tags": []
   },
   "source": [
    "## 5.1 Model Setups"
   ]
  },
  {
   "cell_type": "markdown",
   "metadata": {
    "id": "tfckdO3Nezc1"
   },
   "source": [
    "As first step we have to import the Model, Config and Tokenizer corresponding to Bert in order to build properly the model."
   ]
  },
  {
   "cell_type": "code",
   "execution_count": 49,
   "metadata": {
    "executionInfo": {
     "elapsed": 6828,
     "status": "ok",
     "timestamp": 1649695929026,
     "user": {
      "displayName": "武兴宇",
      "userId": "13491807285349578879"
     },
     "user_tz": -60
    },
    "id": "0PTHfbFiezc1"
   },
   "outputs": [],
   "source": [
    "from transformers import TFBertModel,  BertConfig, BertTokenizerFast"
   ]
  },
  {
   "cell_type": "markdown",
   "metadata": {
    "id": "9KaU0GGxezc1"
   },
   "source": [
    "The model we will use is 'bert_base_uncased' and the max_length chosen is 45 as there are only a very small number of larger sequences."
   ]
  },
  {
   "cell_type": "code",
   "execution_count": 50,
   "metadata": {
    "colab": {
     "base_uri": "https://localhost:8080/",
     "height": 286
    },
    "executionInfo": {
     "elapsed": 23572,
     "status": "ok",
     "timestamp": 1649695954622,
     "user": {
      "displayName": "武兴宇",
      "userId": "13491807285349578879"
     },
     "user_tz": -60
    },
    "id": "vpF4XxsPezc1",
    "outputId": "64b0df24-dac1-45dd-92d8-d89e34b8bde0"
   },
   "outputs": [
    {
     "name": "stderr",
     "output_type": "stream",
     "text": [
      "Some layers from the model checkpoint at bert-base-uncased were not used when initializing TFBertModel: ['nsp___cls', 'mlm___cls']\n",
      "- This IS expected if you are initializing TFBertModel from the checkpoint of a model trained on another task or with another architecture (e.g. initializing a BertForSequenceClassification model from a BertForPreTraining model).\n",
      "- This IS NOT expected if you are initializing TFBertModel from the checkpoint of a model that you expect to be exactly identical (initializing a BertForSequenceClassification model from a BertForSequenceClassification model).\n",
      "All the layers of TFBertModel were initialized from the model checkpoint at bert-base-uncased.\n",
      "If your task is similar to the task the model of the checkpoint was trained on, you can already use TFBertModel for predictions without further training.\n"
     ]
    }
   ],
   "source": [
    "# Name of the BERT model to use\n",
    "model_name = 'bert-base-uncased'\n",
    "\n",
    "# Max length of tokens\n",
    "max_length = 45\n",
    "\n",
    "# Load transformers config and set output_hidden_states to False\n",
    "config = BertConfig.from_pretrained(model_name)\n",
    "config.output_hidden_states = False\n",
    "\n",
    "# Load BERT tokenizer\n",
    "tokenizer = BertTokenizerFast.from_pretrained(pretrained_model_name_or_path = model_name, config = config)\n",
    "\n",
    "# Load the Transformers BERT model\n",
    "transformer_bert_model = TFBertModel.from_pretrained(model_name, config = config)"
   ]
  },
  {
   "cell_type": "code",
   "execution_count": 29,
   "metadata": {},
   "outputs": [
    {
     "data": {
      "text/plain": [
       "'makes Barbershop so likable'"
      ]
     },
     "execution_count": 29,
     "metadata": {},
     "output_type": "execute_result"
    }
   ],
   "source": [
    "data_train.loc[54053, 'Phrase']"
   ]
  },
  {
   "cell_type": "code",
   "execution_count": 30,
   "metadata": {},
   "outputs": [
    {
     "data": {
      "text/plain": [
       "{'input_ids': [101, 3084, 13362, 22231, 2361, 2061, 5622, 2912, 3468, 102], 'token_type_ids': [0, 0, 0, 0, 0, 0, 0, 0, 0, 0], 'attention_mask': [1, 1, 1, 1, 1, 1, 1, 1, 1, 1]}"
      ]
     },
     "execution_count": 30,
     "metadata": {},
     "output_type": "execute_result"
    }
   ],
   "source": [
    "text_test_1 = data_train.loc[54053, 'Phrase']\n",
    "tokens = tokenizer(text_test_1)\n",
    "tokens"
   ]
  },
  {
   "cell_type": "code",
   "execution_count": 35,
   "metadata": {
    "pycharm": {
     "name": "#%%\n"
    }
   },
   "outputs": [],
   "source": [
    "# bert(inputs)\n",
    "# TFBaseModelOutputWithPoolingAndCrossAttentions(last_hidden_state=<KerasTensor: shape=(None, 45, 768) dtype=float32 (created by layer 'bert')>, pooler_output=<KerasTensor: shape=(None, 768) dtype=float32 (created by layer 'bert')>, past_key_values=None, hidden_states=None, attentions=None, cross_attentions=None)\n",
    "# why bert(inputs)[1], my understanding is our task is classification, so we need to choose pooler_output for classification\n",
    "# BertPooler层主要是为了提取句子的第一个token作为[CLS]，是一个可选部分，只针对分类任务。"
   ]
  },
  {
   "cell_type": "markdown",
   "metadata": {
    "pycharm": {
     "name": "#%% md\n"
    },
    "tags": []
   },
   "source": [
    "## 5.2 Build the Model"
   ]
  },
  {
   "cell_type": "markdown",
   "metadata": {},
   "source": [
    "Now that our model has been loaded we can start the processes of building and tuning according to our dataset and task using the functional API of keras.\n",
    "\n",
    "As we see below the input layer must consider the max_length of sequences and then this is fed to the bert model, a dropout layer to reduce overfitting (0.1) and finally a dense layer with number of neurons equal to number of classes in our label (5)."
   ]
  },
  {
   "cell_type": "code",
   "execution_count": 51,
   "metadata": {
    "colab": {
     "base_uri": "https://localhost:8080/"
    },
    "executionInfo": {
     "elapsed": 6818,
     "status": "ok",
     "timestamp": 1649696118599,
     "user": {
      "displayName": "武兴宇",
      "userId": "13491807285349578879"
     },
     "user_tz": -60
    },
    "id": "H1mwYhe1ezc1",
    "outputId": "b0c33387-78b6-45f7-8a6b-00fff8960ca0"
   },
   "outputs": [
    {
     "name": "stdout",
     "output_type": "stream",
     "text": [
      "Model: \"BERT_MultiClass\"\n",
      "_________________________________________________________________\n",
      "Layer (type)                 Output Shape              Param #   \n",
      "=================================================================\n",
      "input_ids (InputLayer)       [(None, 45)]              0         \n",
      "_________________________________________________________________\n",
      "bert (TFBertMainLayer)       TFBaseModelOutputWithPool 109482240 \n",
      "_________________________________________________________________\n",
      "pooled_output (Dropout)      (None, 768)               0         \n",
      "_________________________________________________________________\n",
      "Sentiment (Dense)            (None, 5)                 3845      \n",
      "=================================================================\n",
      "Total params: 109,486,085\n",
      "Trainable params: 109,486,085\n",
      "Non-trainable params: 0\n",
      "_________________________________________________________________\n"
     ]
    }
   ],
   "source": [
    "### ------- Build the model ------- ###\n",
    "\n",
    "# Load the MainLayer\n",
    "bert = transformer_bert_model.layers[0]\n",
    "\n",
    "# Build your model input\n",
    "input_ids = Input(shape=(max_length,), name='input_ids', dtype='int32')\n",
    "inputs = {'input_ids': input_ids}\n",
    "\n",
    "# Load the Transformers BERT model as a layer in a Keras model\n",
    "bert_model = bert(inputs)[1] # inputs --> bert(with pooler_output for classification)\n",
    "dropout = Dropout(config.hidden_dropout_prob, name='pooled_output') # dropout probability for all fully connected layers, defaults to 0.1\n",
    "pooled_output = dropout(bert_model, training=False) # bert --> Dropout\n",
    "\n",
    "# Then build your model output\n",
    "# Output Layer: Dense with units = 5 connected to pooled_output\n",
    "Sentiments = Dense(units=len(data_train.Sentiment_label.value_counts()), kernel_initializer=TruncatedNormal(stddev=config.initializer_range), name='Sentiment')(pooled_output) # Dropout --> Dense(Output)\n",
    "outputs = {'Sentiment': Sentiments}\n",
    "\n",
    "# And combine it all in a model object\n",
    "model = Model(inputs=inputs, outputs=outputs, name='BERT_MultiClass')\n",
    "\n",
    "# Take a look at the model\n",
    "model.summary()"
   ]
  },
  {
   "cell_type": "markdown",
   "metadata": {
    "pycharm": {
     "name": "#%% md\n"
    }
   },
   "source": [
    "## 5.3 Train the Model"
   ]
  },
  {
   "cell_type": "code",
   "execution_count": 54,
   "metadata": {
    "pycharm": {
     "name": "#%%\n"
    }
   },
   "outputs": [],
   "source": [
    "# Callback\n",
    "from keras import callbacks\n",
    "\n",
    "### Custom callback to save logs for drawing training curves.\n",
    "class LossAndAccHistory(callbacks.Callback):  # Inherited from the Callback class\n",
    "\n",
    "    '''\n",
    "    Define four attributes at the beginning of the model,\n",
    "    each attribute is a dictionary type, storing the corresponding value and epoch\n",
    "    '''\n",
    "\n",
    "    def on_train_begin(self, logs={}):\n",
    "        self.loss = {'batch': [], 'epoch': []}\n",
    "        self.accuracy = {'batch': [], 'epoch': []}\n",
    "        self.val_loss = {'batch': [], 'epoch': []}\n",
    "        self.val_accuracy = {'batch': [], 'epoch': []}\n",
    "\n",
    "    # Record the corresponding value after each batch\n",
    "    def on_batch_end(self, batch, logs={}):\n",
    "        self.loss['batch'].append(logs.get('loss'))\n",
    "        self.accuracy['batch'].append(logs.get('accuracy'))\n",
    "        self.val_loss['batch'].append(logs.get('val_loss'))\n",
    "        self.val_accuracy['batch'].append(logs.get('val_accuracy'))\n",
    "\n",
    "    # Record the corresponding value after each epoch\n",
    "    def on_epoch_end(self, batch, logs={}):\n",
    "        self.loss['batch'].append(logs.get('loss'))\n",
    "        self.accuracy['batch'].append(logs.get('accuracy'))\n",
    "        self.val_loss['batch'].append(logs.get('val_loss'))\n",
    "        self.val_accuracy['batch'].append(logs.get('val_accuracy'))\n",
    "\n",
    "history = LossAndAccHistory()"
   ]
  },
  {
   "cell_type": "code",
   "execution_count": 38,
   "metadata": {
    "colab": {
     "background_save": true,
     "base_uri": "https://localhost:8080/"
    },
    "id": "jsE5pIlSi6aE"
   },
   "outputs": [
    {
     "name": "stdout",
     "output_type": "stream",
     "text": [
      "Epoch 1/20\n",
      "3951/3951 [==============================] - 1020s 256ms/step - loss: 0.8095 - accuracy: 0.6649 - val_loss: 0.7567 - val_accuracy: 0.6813\n",
      "Epoch 2/20\n",
      "3951/3951 [==============================] - 1000s 253ms/step - loss: 0.7274 - accuracy: 0.6985 - val_loss: 0.7485 - val_accuracy: 0.6836\n",
      "Epoch 3/20\n",
      "3951/3951 [==============================] - 1001s 253ms/step - loss: 0.7101 - accuracy: 0.7063 - val_loss: 0.7458 - val_accuracy: 0.6861\n",
      "Epoch 4/20\n",
      "3951/3951 [==============================] - 1000s 253ms/step - loss: 0.6999 - accuracy: 0.7103 - val_loss: 0.7438 - val_accuracy: 0.6862\n",
      "Epoch 5/20\n",
      "3951/3951 [==============================] - 1002s 254ms/step - loss: 0.6929 - accuracy: 0.7129 - val_loss: 0.7449 - val_accuracy: 0.6846\n",
      "Epoch 6/20\n",
      "3951/3951 [==============================] - 1002s 254ms/step - loss: 0.6887 - accuracy: 0.7148 - val_loss: 0.7434 - val_accuracy: 0.6865\n",
      "Epoch 7/20\n",
      "3951/3951 [==============================] - 1002s 254ms/step - loss: 0.6851 - accuracy: 0.7169 - val_loss: 0.7418 - val_accuracy: 0.6867\n",
      "Epoch 8/20\n",
      "3951/3951 [==============================] - 1003s 254ms/step - loss: 0.6822 - accuracy: 0.7179 - val_loss: 0.7441 - val_accuracy: 0.6848\n",
      "Epoch 9/20\n",
      "3951/3951 [==============================] - 1002s 254ms/step - loss: 0.6778 - accuracy: 0.7210 - val_loss: 0.7429 - val_accuracy: 0.6865\n",
      "Epoch 10/20\n",
      "3951/3951 [==============================] - 1002s 254ms/step - loss: 0.6757 - accuracy: 0.7217 - val_loss: 0.7430 - val_accuracy: 0.6866\n",
      "Epoch 11/20\n",
      "3951/3951 [==============================] - 1002s 254ms/step - loss: 0.6733 - accuracy: 0.7218 - val_loss: 0.7433 - val_accuracy: 0.6867\n",
      "Epoch 12/20\n",
      "3951/3951 [==============================] - 1002s 254ms/step - loss: 0.6717 - accuracy: 0.7228 - val_loss: 0.7409 - val_accuracy: 0.6893\n",
      "Epoch 13/20\n",
      "3951/3951 [==============================] - 1004s 254ms/step - loss: 0.6713 - accuracy: 0.7233 - val_loss: 0.7416 - val_accuracy: 0.6884\n",
      "Epoch 14/20\n",
      "3951/3951 [==============================] - 1002s 254ms/step - loss: 0.6688 - accuracy: 0.7244 - val_loss: 0.7418 - val_accuracy: 0.6872\n",
      "Epoch 15/20\n",
      "3951/3951 [==============================] - 1002s 254ms/step - loss: 0.6680 - accuracy: 0.7246 - val_loss: 0.7425 - val_accuracy: 0.6867\n",
      "Epoch 16/20\n",
      "3951/3951 [==============================] - 1002s 254ms/step - loss: 0.6669 - accuracy: 0.7250 - val_loss: 0.7405 - val_accuracy: 0.6892\n",
      "Epoch 17/20\n",
      "3951/3951 [==============================] - 1003s 254ms/step - loss: 0.6656 - accuracy: 0.7248 - val_loss: 0.7407 - val_accuracy: 0.6893\n",
      "Epoch 18/20\n",
      "3951/3951 [==============================] - 1003s 254ms/step - loss: 0.6641 - accuracy: 0.7255 - val_loss: 0.7417 - val_accuracy: 0.6884\n",
      "Epoch 19/20\n",
      "3951/3951 [==============================] - 1003s 254ms/step - loss: 0.6636 - accuracy: 0.7264 - val_loss: 0.7424 - val_accuracy: 0.6877\n",
      "Epoch 20/20\n",
      "3951/3951 [==============================] - 1004s 254ms/step - loss: 0.6617 - accuracy: 0.7274 - val_loss: 0.7394 - val_accuracy: 0.6897\n"
     ]
    }
   ],
   "source": [
    "### ------- Train the model ------- ###\n",
    "\n",
    "# Set an optimizer\n",
    "optimizer = Adam(learning_rate=5e-05,epsilon=1e-08,decay=0.01,clipnorm=1.0)\n",
    "\n",
    "# Set loss and metrics\n",
    "loss = {'Sentiment': CategoricalCrossentropy(from_logits = True)}\n",
    "\n",
    "# Compile the model\n",
    "model.compile(optimizer = optimizer, loss = loss, metrics = ['accuracy'])\n",
    "\n",
    "# Ready output data for the model\n",
    "y_train = to_categorical(data_train['Sentiment'])\n",
    "\n",
    "# Tokenize the input (takes some time)\n",
    "x_train = tokenizer(\n",
    "          text=data_train['Phrase'].to_list(),\n",
    "          add_special_tokens=True,\n",
    "          max_length=max_length,\n",
    "          truncation=True,\n",
    "          padding=True, \n",
    "          return_tensors='tf',\n",
    "          return_token_type_ids = False,\n",
    "          return_attention_mask = True,\n",
    "          verbose = True)\n",
    "\n",
    "y_val = to_categorical(data_val['Sentiment'])\n",
    "\n",
    "x_val = tokenizer(\n",
    "          text=data_val['Phrase'].to_list(),\n",
    "          add_special_tokens=True,\n",
    "          max_length=max_length,\n",
    "          truncation=True,\n",
    "          padding=True, \n",
    "          return_tensors='tf',\n",
    "          return_token_type_ids = False,\n",
    "          return_attention_mask = True,\n",
    "          verbose = True)\n",
    "\n",
    "# Fit the model\n",
    "epoch = 2\n",
    "batch_size = 32\n",
    "history = model.fit(\n",
    "    x={'input_ids': x_train['input_ids']},\n",
    "    y={'Sentiment': y_train},\n",
    "    validation_data=({'input_ids': x_val['input_ids']},{'Sentiment': y_val}),\n",
    "    batch_size=32,\n",
    "    epochs=20,\n",
    "    verbose=1)\n",
    "# model.fit(\n",
    "#     x={'input_ids': x_train['input_ids']},\n",
    "#     y={'Sentiment': y_train},\n",
    "#     validation_data=({'input_ids': x_val['input_ids']},{'Sentiment': y_val}),\n",
    "#     batch_size = batch_size,\n",
    "#     epochs = epoch,\n",
    "#     verbose=1,\n",
    "#     callbacks= [history])"
   ]
  },
  {
   "cell_type": "code",
   "execution_count": 106,
   "metadata": {},
   "outputs": [
    {
     "data": {
      "image/png": "[encoded data removed]",
      "text/plain": [
       "<Figure size 720x252 with 2 Axes>"
      ]
     },
     "metadata": {
      "needs_background": "light"
     },
     "output_type": "display_data"
    }
   ],
   "source": [
    "fig, (ax1, ax2) = plt.subplots(1, 2, sharey=False, figsize=(10, 3.5))\n",
    "ax1.plot(history.history['accuracy'], color = '#4169E1')\n",
    "ax1.plot(history.history['val_accuracy'], color = '#00E0C7')\n",
    "ax1.set_title('model accuracy of BERT', fontsize = 18)\n",
    "ax1.set_ylabel('accuracy', fontsize = 18)\n",
    "ax1.set_xlabel('epoch', fontsize = 18)\n",
    "ax1.legend(['train', 'val'], loc='upper left', fontsize = 14)\n",
    "ax1.tick_params(labelsize=14)\n",
    "\n",
    "ax2.plot(history.history['loss'], color = '#4169E1')\n",
    "ax2.plot(history.history['val_loss'], color = '#00E0C7')\n",
    "ax2.set_title('model loss of BERT', fontsize = 18)\n",
    "# ax2.set_ylabel('loss', fontsize = 18)\n",
    "ax2.set_xlabel('epoch', fontsize = 18)\n",
    "ax2.legend(['train loss', 'val loss'], loc='upper right', fontsize = 14)\n",
    "ax2.tick_params(labelsize=14)\n",
    "\n",
    "plt.tight_layout()\n",
    "plt.savefig(\"./images/train_val_accuracy.pdf\")"
   ]
  },
  {
   "cell_type": "markdown",
   "metadata": {
    "pycharm": {
     "name": "#%% md\n"
    }
   },
   "source": [
    "The model took 36 minutes and 22 seconds to train for 2 epochs."
   ]
  },
  {
   "cell_type": "markdown",
   "metadata": {
    "pycharm": {
     "name": "#%% md\n"
    }
   },
   "source": [
    "## 5.4 Save the trained model and logs"
   ]
  },
  {
   "cell_type": "code",
   "execution_count": 32,
   "metadata": {
    "pycharm": {
     "name": "#%%\n"
    }
   },
   "outputs": [],
   "source": [
    "model.save('./model_trained/bert_epoch{}_batch{}.h5'.format(epoch, batch_size))"
   ]
  },
  {
   "cell_type": "code",
   "execution_count": 33,
   "metadata": {
    "pycharm": {
     "name": "#%%\n"
    }
   },
   "outputs": [],
   "source": [
    "np.save('./model_logs/bert_epoch{}_batch{}_train_acc.npy'.format(epoch, batch_size), history.accuracy['batch'])\n",
    "np.save('./model_logs/bert_epoch{}_batch{}_train_loss.npy'.format(epoch, batch_size), history.loss['batch'])"
   ]
  },
  {
   "cell_type": "markdown",
   "metadata": {
    "pycharm": {
     "name": "#%% md\n"
    }
   },
   "source": [
    "## 5.5 Plot the training accuracy and loss"
   ]
  },
  {
   "cell_type": "code",
   "execution_count": 111,
   "metadata": {
    "pycharm": {
     "name": "#%%\n"
    }
   },
   "outputs": [
    {
     "data": {
      "image/png": "[encoded data removed]",
      "text/plain": [
       "<Figure size 432x288 with 1 Axes>"
      ]
     },
     "metadata": {
      "needs_background": "light"
     },
     "output_type": "display_data"
    }
   ],
   "source": [
    "plt.plot(history.accuracy['batch'])\n",
    "plt.title('training accuracy of bert')\n",
    "plt.ylabel('accuracy')\n",
    "plt.xlabel('batch')\n",
    "plt.legend(['train acc'], loc='upper left')\n",
    "plt.show()"
   ]
  },
  {
   "cell_type": "code",
   "execution_count": 35,
   "metadata": {
    "pycharm": {
     "name": "#%%\n"
    }
   },
   "outputs": [
    {
     "data": {
      "image/png": "[encoded data removed]",
      "text/plain": [
       "<Figure size 432x288 with 1 Axes>"
      ]
     },
     "metadata": {
      "needs_background": "light"
     },
     "output_type": "display_data"
    }
   ],
   "source": [
    "plt.plot(history.loss['batch'])\n",
    "plt.title('training loss of bert')\n",
    "plt.ylabel('loss')\n",
    "plt.xlabel('batch')\n",
    "plt.legend(['train loss'], loc='upper left')\n",
    "plt.show()"
   ]
  },
  {
   "cell_type": "markdown",
   "metadata": {
    "pycharm": {
     "name": "#%% md\n"
    }
   },
   "source": [
    "## 5.6 Inference on test dataset"
   ]
  },
  {
   "cell_type": "code",
   "execution_count": 52,
   "metadata": {
    "pycharm": {
     "name": "#%%\n"
    }
   },
   "outputs": [],
   "source": [
    "model.load_weights('./model_trained/bert_epoch2_batch32.h5')\n",
    "# model_load = load_model('./model_trained/bert_epoch2_batch32.h5')\n",
    "x_test = tokenizer(\n",
    "          text=df_test['Phrase'].to_list(),\n",
    "          add_special_tokens=True,\n",
    "          max_length=max_length,\n",
    "          truncation=True,\n",
    "          padding=True,\n",
    "          return_tensors='tf',\n",
    "          return_token_type_ids = False,\n",
    "          return_attention_mask = False,\n",
    "          verbose = True)\n",
    "label_predicted = model.predict(\n",
    "    x={'input_ids': x_test['input_ids']},\n",
    ")\n",
    "np.save('./model_logs/y_score_bert.npy', label_predicted['Sentiment'])"
   ]
  },
  {
   "cell_type": "code",
   "execution_count": 54,
   "metadata": {
    "pycharm": {
     "name": "#%%\n"
    }
   },
   "outputs": [],
   "source": [
    "label_pred_max=[np.argmax(i) for i in label_predicted['Sentiment']]"
   ]
  },
  {
   "cell_type": "markdown",
   "metadata": {
    "pycharm": {
     "name": "#%% md\n"
    }
   },
   "source": [
    "## 5.7 Submission with the competition format"
   ]
  },
  {
   "cell_type": "code",
   "execution_count": 55,
   "metadata": {},
   "outputs": [],
   "source": [
    "submission = df_test[['PhraseId', 'Sentiment']]"
   ]
  },
  {
   "cell_type": "code",
   "execution_count": null,
   "metadata": {
    "pycharm": {
     "name": "#%%\n"
    }
   },
   "outputs": [],
   "source": [
    "submission['Sentiment_bert'] = label_pred_max\n",
    "# submission.head(10)"
   ]
  },
  {
   "cell_type": "code",
   "execution_count": null,
   "metadata": {
    "pycharm": {
     "name": "#%%\n"
    }
   },
   "outputs": [],
   "source": [
    "del model\n",
    "gc.collect()\n",
    "K.clear_session()"
   ]
  },
  {
   "cell_type": "markdown",
   "metadata": {
    "pycharm": {
     "name": "#%% md\n"
    }
   },
   "source": [
    "# 6. RoBERTa"
   ]
  },
  {
   "cell_type": "code",
   "execution_count": 44,
   "metadata": {
    "pycharm": {
     "name": "#%%\n"
    }
   },
   "outputs": [],
   "source": [
    "from transformers import RobertaTokenizer, TFRobertaModel, RobertaConfig"
   ]
  },
  {
   "cell_type": "code",
   "execution_count": 45,
   "metadata": {
    "pycharm": {
     "name": "#%%\n"
    }
   },
   "outputs": [
    {
     "name": "stderr",
     "output_type": "stream",
     "text": [
      "Some layers from the model checkpoint at roberta-base were not used when initializing TFRobertaModel: ['lm_head']\n",
      "- This IS expected if you are initializing TFRobertaModel from the checkpoint of a model trained on another task or with another architecture (e.g. initializing a BertForSequenceClassification model from a BertForPreTraining model).\n",
      "- This IS NOT expected if you are initializing TFRobertaModel from the checkpoint of a model that you expect to be exactly identical (initializing a BertForSequenceClassification model from a BertForSequenceClassification model).\n",
      "All the layers of TFRobertaModel were initialized from the model checkpoint at roberta-base.\n",
      "If your task is similar to the task the model of the checkpoint was trained on, you can already use TFRobertaModel for predictions without further training.\n"
     ]
    }
   ],
   "source": [
    "### --------- Setup Roberta ---------- ###\n",
    "\n",
    "model_name = 'roberta-base'\n",
    "\n",
    "# Max length of tokens\n",
    "max_length = 45\n",
    "\n",
    "# Load transformers config and set output_hidden_states to False\n",
    "config = RobertaConfig.from_pretrained(model_name)\n",
    "config.output_hidden_states = False\n",
    "\n",
    "# Load Roberta tokenizer\n",
    "tokenizer = RobertaTokenizer.from_pretrained(pretrained_model_name_or_path = model_name, config = config)\n",
    "\n",
    "# Load the Roberta model\n",
    "transformer_roberta_model = TFRobertaModel.from_pretrained(model_name, config = config)"
   ]
  },
  {
   "cell_type": "code",
   "execution_count": 46,
   "metadata": {
    "pycharm": {
     "name": "#%%\n"
    }
   },
   "outputs": [
    {
     "name": "stdout",
     "output_type": "stream",
     "text": [
      "Model: \"RoBERTa_MultiClass\"\n",
      "_________________________________________________________________\n",
      "Layer (type)                 Output Shape              Param #   \n",
      "=================================================================\n",
      "input_ids (InputLayer)       [(None, 45)]              0         \n",
      "_________________________________________________________________\n",
      "roberta (TFRobertaMainLayer) TFBaseModelOutputWithPool 124645632 \n",
      "_________________________________________________________________\n",
      "pooled_output (Dropout)      (None, 768)               0         \n",
      "_________________________________________________________________\n",
      "Sentiment (Dense)            (None, 5)                 3845      \n",
      "=================================================================\n",
      "Total params: 124,649,477\n",
      "Trainable params: 124,649,477\n",
      "Non-trainable params: 0\n",
      "_________________________________________________________________\n"
     ]
    }
   ],
   "source": [
    "### ------- Build the model ------- ###\n",
    "\n",
    "# Load the MainLayer\n",
    "roberta = transformer_roberta_model.layers[0]\n",
    "\n",
    "# Build your model input\n",
    "input_ids = Input(shape=(max_length,), name='input_ids', dtype='int32')\n",
    "inputs = {'input_ids': input_ids}\n",
    "\n",
    "# Load the Transformers RoBERTa model as a layer in a Keras model\n",
    "roberta_model = roberta(inputs)[1]\n",
    "dropout = Dropout(config.hidden_dropout_prob, name='pooled_output')\n",
    "pooled_output = dropout(roberta_model, training=False)\n",
    "\n",
    "# Then build your model output\n",
    "Sentiments = Dense(units=len(data_train.Sentiment_label.value_counts()), kernel_initializer=TruncatedNormal(stddev=config.initializer_range), name='Sentiment')(pooled_output)\n",
    "outputs = {'Sentiment': Sentiments}\n",
    "\n",
    "# And combine it all in a model object\n",
    "model2 = Model(inputs=inputs, outputs=outputs, name='RoBERTa_MultiClass')\n",
    "\n",
    "# Take a look at the model\n",
    "model2.summary()"
   ]
  },
  {
   "cell_type": "code",
   "execution_count": 33,
   "metadata": {
    "pycharm": {
     "name": "#%%\n"
    }
   },
   "outputs": [
    {
     "name": "stdout",
     "output_type": "stream",
     "text": [
      "Epoch 1/2\n",
      "3951/3951 [==============================] - 942s 236ms/step - loss: 0.8222 - accuracy: 0.6607 - val_loss: 0.7641 - val_accuracy: 0.6745\n",
      "Epoch 2/2\n",
      "3951/3951 [==============================] - 922s 233ms/step - loss: 0.7384 - accuracy: 0.6935 - val_loss: 0.7483 - val_accuracy: 0.6810\n"
     ]
    },
    {
     "data": {
      "text/plain": [
       "<tensorflow.python.keras.callbacks.History at 0x20e5c616910>"
      ]
     },
     "execution_count": 33,
     "metadata": {},
     "output_type": "execute_result"
    }
   ],
   "source": [
    "### ------- Train the model ------- ###\n",
    "\n",
    "# Set an optimizer\n",
    "optimizer = Adam(learning_rate=5e-05,epsilon=1e-08,decay=0.01,clipnorm=1.0)\n",
    "\n",
    "# Set loss and metrics\n",
    "loss = {'Sentiment': CategoricalCrossentropy(from_logits = True)}\n",
    "\n",
    "# Compile the model\n",
    "model2.compile(optimizer = optimizer, loss = loss, metrics = ['accuracy'])\n",
    "\n",
    "# Ready output data for the model\n",
    "y_train = to_categorical(data_train['Sentiment'])\n",
    "\n",
    "# Tokenize the input (takes some time)\n",
    "x_train = tokenizer(\n",
    "          text=data_train['Phrase'].to_list(),\n",
    "          add_special_tokens=True,\n",
    "          max_length=max_length,\n",
    "          truncation=True,\n",
    "          padding=True,\n",
    "          return_tensors='tf',\n",
    "          return_token_type_ids = False,\n",
    "          return_attention_mask = True,\n",
    "          verbose = True)\n",
    "\n",
    "y_val = to_categorical(data_val['Sentiment'])\n",
    "\n",
    "x_val = tokenizer(\n",
    "          text=data_val['Phrase'].to_list(),\n",
    "          add_special_tokens=True,\n",
    "          max_length=max_length,\n",
    "          truncation=True,\n",
    "          padding=True,\n",
    "          return_tensors='tf',\n",
    "          return_token_type_ids = False,\n",
    "          return_attention_mask = True,\n",
    "          verbose = True)\n",
    "\n",
    "# Fit the model\n",
    "epoch = 2\n",
    "batch_size = 32\n",
    "model2.fit(\n",
    "    x={'input_ids': x_train['input_ids']},\n",
    "    y={'Sentiment': y_train},\n",
    "    validation_data=({'input_ids': x_val['input_ids']},{'Sentiment': y_val}),\n",
    "    batch_size= batch_size,\n",
    "    epochs = epoch,\n",
    "    verbose=1,\n",
    "    callbacks=[history])"
   ]
  },
  {
   "cell_type": "markdown",
   "metadata": {},
   "source": [
    "The model took 31 minutes and 4 seconds to train for 2 epochs."
   ]
  },
  {
   "cell_type": "code",
   "execution_count": 34,
   "metadata": {},
   "outputs": [],
   "source": [
    "model2.save('./model_trained/RoBERTa_epoch{}_batch{}.h5'.format(epoch, batch_size))\n",
    "np.save('./model_logs/RoBERTa_epoch{}_batch{}_train_acc.npy'.format(epoch, batch_size), history.accuracy['batch'])\n",
    "np.save('./model_logs/RoBERTa_epoch{}_batch{}_train_loss.npy'.format(epoch, batch_size), history.loss['batch'])"
   ]
  },
  {
   "cell_type": "code",
   "execution_count": 35,
   "metadata": {},
   "outputs": [
    {
     "data": {
      "image/png": "[encoded data removed]",
      "text/plain": [
       "<Figure size 432x288 with 1 Axes>"
      ]
     },
     "metadata": {
      "needs_background": "light"
     },
     "output_type": "display_data"
    }
   ],
   "source": [
    "plt.plot(history.accuracy['batch'])\n",
    "plt.title('training accuracy of RoBERTa')\n",
    "plt.ylabel('accuracy')\n",
    "plt.xlabel('batch')\n",
    "plt.legend(['train acc'], loc='upper left')\n",
    "plt.show()"
   ]
  },
  {
   "cell_type": "code",
   "execution_count": 36,
   "metadata": {},
   "outputs": [
    {
     "data": {
      "image/png": "[encoded data removed]",
      "text/plain": [
       "<Figure size 432x288 with 1 Axes>"
      ]
     },
     "metadata": {
      "needs_background": "light"
     },
     "output_type": "display_data"
    }
   ],
   "source": [
    "plt.plot(history.loss['batch'])\n",
    "plt.title('training loss of RoBERTa')\n",
    "plt.ylabel('loss')\n",
    "plt.xlabel('batch')\n",
    "plt.legend(['train loss'], loc='upper left')\n",
    "plt.show()"
   ]
  },
  {
   "cell_type": "code",
   "execution_count": null,
   "metadata": {},
   "outputs": [],
   "source": [
    "model2.load_weights('./model_trained/RoBERTa_epoch2_batch32.h5')\n",
    "x_test = tokenizer(\n",
    "          text=df_test['Phrase'].to_list(),\n",
    "          add_special_tokens=True,\n",
    "          max_length=max_length,\n",
    "          truncation=True,\n",
    "          padding=True,\n",
    "          return_tensors='tf',\n",
    "          return_token_type_ids = False,\n",
    "          return_attention_mask = False,\n",
    "          verbose = True)\n",
    "label_predicted = model2.predict(\n",
    "    x={'input_ids': x_test['input_ids']},\n",
    ")\n",
    "np.save('./model_logs/y_score_RoBERTa.npy', label_predicted['Sentiment'])\n",
    "label_pred_max=[np.argmax(i) for i in label_predicted['Sentiment']]\n",
    "submission['Sentiment_RoBERTa'] = label_pred_max\n",
    "# submission.head(10)"
   ]
  },
  {
   "cell_type": "code",
   "execution_count": 49,
   "metadata": {},
   "outputs": [],
   "source": [
    "del model2\n",
    "gc.collect()\n",
    "K.clear_session()"
   ]
  },
  {
   "cell_type": "markdown",
   "metadata": {},
   "source": [
    "# 7. DistilBERT"
   ]
  },
  {
   "cell_type": "code",
   "execution_count": 40,
   "metadata": {},
   "outputs": [],
   "source": [
    "from transformers import DistilBertTokenizer, TFDistilBertModel, DistilBertConfig "
   ]
  },
  {
   "cell_type": "code",
   "execution_count": 41,
   "metadata": {},
   "outputs": [
    {
     "name": "stderr",
     "output_type": "stream",
     "text": [
      "Some layers from the model checkpoint at distilbert-base-uncased were not used when initializing TFDistilBertModel: ['vocab_layer_norm', 'vocab_projector', 'activation_13', 'vocab_transform']\n",
      "- This IS expected if you are initializing TFDistilBertModel from the checkpoint of a model trained on another task or with another architecture (e.g. initializing a BertForSequenceClassification model from a BertForPreTraining model).\n",
      "- This IS NOT expected if you are initializing TFDistilBertModel from the checkpoint of a model that you expect to be exactly identical (initializing a BertForSequenceClassification model from a BertForSequenceClassification model).\n",
      "All the layers of TFDistilBertModel were initialized from the model checkpoint at distilbert-base-uncased.\n",
      "If your task is similar to the task the model of the checkpoint was trained on, you can already use TFDistilBertModel for predictions without further training.\n"
     ]
    }
   ],
   "source": [
    "### --------- Setup DistilBERT ---------- ###\n",
    "\n",
    "model_name = 'distilbert-base-uncased'\n",
    "\n",
    "# Max length of tokens\n",
    "max_length = 45\n",
    "\n",
    "# Load transformers config and set output_hidden_states to False\n",
    "config = DistilBertConfig.from_pretrained(model_name)\n",
    "config.output_hidden_states = False\n",
    "\n",
    "# Load Distilbert tokenizer\n",
    "tokenizer = DistilBertTokenizer.from_pretrained(pretrained_model_name_or_path = model_name, config = config)\n",
    "\n",
    "# Load the Distilbert model\n",
    "transformer_distilbert_model = TFDistilBertModel.from_pretrained(model_name, config = config)"
   ]
  },
  {
   "cell_type": "code",
   "execution_count": 42,
   "metadata": {},
   "outputs": [
    {
     "name": "stdout",
     "output_type": "stream",
     "text": [
      "Model: \"DistilBERT_MultiClass\"\n",
      "_________________________________________________________________\n",
      "Layer (type)                 Output Shape              Param #   \n",
      "=================================================================\n",
      "input_ids (InputLayer)       [(None, 45)]              0         \n",
      "_________________________________________________________________\n",
      "distilbert (TFDistilBertMain TFBaseModelOutput(last_hi 66362880  \n",
      "_________________________________________________________________\n",
      "tf.__operators__.getitem_1 ( (None, 768)               0         \n",
      "_________________________________________________________________\n",
      "pooled_output (Dropout)      (None, 768)               0         \n",
      "_________________________________________________________________\n",
      "Sentiment (Dense)            (None, 5)                 3845      \n",
      "=================================================================\n",
      "Total params: 66,366,725\n",
      "Trainable params: 66,366,725\n",
      "Non-trainable params: 0\n",
      "_________________________________________________________________\n"
     ]
    }
   ],
   "source": [
    "### ------- Build the model ------- ###\n",
    "\n",
    "# Load the MainLayer\n",
    "distilbert = transformer_distilbert_model.layers[0]\n",
    "\n",
    "# Build your model input\n",
    "input_ids = Input(shape=(max_length,), name='input_ids', dtype='int32')\n",
    "inputs = {'input_ids': input_ids}\n",
    "\n",
    "# Load the Transformers DistilBERT model as a layer in a Keras model\n",
    "distilbert_model = distilbert(inputs)[0][:,0,:]\n",
    "dropout = Dropout(0.1, name='pooled_output')\n",
    "pooled_output = dropout(distilbert_model, training=False)\n",
    "\n",
    "# Then build your model output\n",
    "Sentiments = Dense(units=len(data_train.Sentiment_label.value_counts()), kernel_initializer=TruncatedNormal(stddev=config.initializer_range), name='Sentiment')(pooled_output)\n",
    "outputs = {'Sentiment': Sentiments}\n",
    "\n",
    "# And combine it all in a model object\n",
    "model3 = Model(inputs=inputs, outputs=outputs, name='DistilBERT_MultiClass')\n",
    "\n",
    "# Take a look at the model\n",
    "model3.summary()"
   ]
  },
  {
   "cell_type": "code",
   "execution_count": 35,
   "metadata": {},
   "outputs": [
    {
     "name": "stdout",
     "output_type": "stream",
     "text": [
      "Epoch 1/2\n",
      "3951/3951 [==============================] - 536s 134ms/step - loss: 0.8280 - accuracy: 0.6586 - val_loss: 0.7841 - val_accuracy: 0.6742\n",
      "Epoch 2/2\n",
      "3951/3951 [==============================] - 532s 135ms/step - loss: 0.7574 - accuracy: 0.6868 - val_loss: 0.7779 - val_accuracy: 0.6759\n"
     ]
    },
    {
     "data": {
      "text/plain": [
       "<tensorflow.python.keras.callbacks.History at 0x1a1e5558dc0>"
      ]
     },
     "execution_count": 35,
     "metadata": {},
     "output_type": "execute_result"
    }
   ],
   "source": [
    "### ------- Train the model ------- ###\n",
    "\n",
    "# Set an optimizer\n",
    "optimizer = Adam(learning_rate=5e-05,epsilon=1e-08,decay=0.01,clipnorm=1.0)\n",
    "\n",
    "# Set loss and metrics\n",
    "loss = {'Sentiment': CategoricalCrossentropy(from_logits = True)}\n",
    "\n",
    "# Compile the model\n",
    "model3.compile(optimizer = optimizer, loss = loss, metrics = ['accuracy'])\n",
    "\n",
    "# Ready output data for the model\n",
    "y_train = to_categorical(data_train['Sentiment'])\n",
    "\n",
    "# Tokenize the input (takes some time)\n",
    "x_train = tokenizer(\n",
    "          text=data_train['Phrase'].to_list(),\n",
    "          add_special_tokens=True,\n",
    "          max_length=max_length,\n",
    "          truncation=True,\n",
    "          padding=True, \n",
    "          return_tensors='tf',\n",
    "          return_token_type_ids = False,\n",
    "          return_attention_mask = True,\n",
    "          verbose = True)\n",
    "\n",
    "y_val = to_categorical(data_val['Sentiment'])\n",
    "\n",
    "x_val = tokenizer(\n",
    "          text=data_val['Phrase'].to_list(),\n",
    "          add_special_tokens=True,\n",
    "          max_length=max_length,\n",
    "          truncation=True,\n",
    "          padding=True, \n",
    "          return_tensors='tf',\n",
    "          return_token_type_ids = False,\n",
    "          return_attention_mask = True,\n",
    "          verbose = True)\n",
    "\n",
    "# Fit the model\n",
    "epoch = 2\n",
    "batch_size = 32\n",
    "model3.fit(\n",
    "    x={'input_ids': x_train['input_ids']},\n",
    "    y={'Sentiment': y_train},\n",
    "    validation_data=({'input_ids': x_val['input_ids']},{'Sentiment': y_val}),\n",
    "    batch_size=batch_size,\n",
    "    epochs=epoch,\n",
    "    verbose=1,\n",
    "    callbacks= [history])"
   ]
  },
  {
   "cell_type": "markdown",
   "metadata": {},
   "source": [
    "The model took 17 minutes and 48 seconds to train for 2 epochs."
   ]
  },
  {
   "cell_type": "code",
   "execution_count": 36,
   "metadata": {},
   "outputs": [],
   "source": [
    "model3.save('./model_trained/DistilBERT_epoch{}_batch{}.h5'.format(epoch, batch_size))\n",
    "np.save('./model_logs/DistilBERT_epoch{}_batch{}_train_acc.npy'.format(epoch, batch_size), history.accuracy['batch'])\n",
    "np.save('./model_logs/DistilBERT_epoch{}_batch{}_train_loss.npy'.format(epoch, batch_size), history.loss['batch'])"
   ]
  },
  {
   "cell_type": "code",
   "execution_count": 116,
   "metadata": {},
   "outputs": [],
   "source": [
    "history_accuracy = np.load('./model_logs/DistilBERT_epoch2_batch32_train_acc.npy')\n",
    "history_loss = np.load('./model_logs/DistilBERT_epoch2_batch32_train_loss.npy')"
   ]
  },
  {
   "cell_type": "code",
   "execution_count": 121,
   "metadata": {},
   "outputs": [
    {
     "data": {
      "image/png": "[encoded data removed]",
      "text/plain": [
       "<Figure size 720x252 with 2 Axes>"
      ]
     },
     "metadata": {
      "needs_background": "light"
     },
     "output_type": "display_data"
    }
   ],
   "source": [
    "fig, (ax1, ax2) = plt.subplots(1, 2, sharey=False, figsize=(10, 3.5))\n",
    "\n",
    "# ax1.plot(history.accuracy['batch'])\n",
    "ax1.plot(history_accuracy, color = '#4169E1')\n",
    "ax1.set_title('training accuracy of DistilBERT', fontsize = 18)\n",
    "ax1.set_ylabel('accuracy', fontsize = 18)\n",
    "ax1.set_xlabel('batch', fontsize = 18)\n",
    "ax1.legend(['train acc'], loc='lower right', fontsize = 14)\n",
    "ax1.tick_params(labelsize=14)\n",
    "\n",
    "# ax2.plot(history.loss['batch'])\n",
    "ax2.plot(history_loss, color = '#008080')\n",
    "ax2.set_title('training loss of DistilBERT', fontsize = 18)\n",
    "ax2.set_ylabel('loss', fontsize = 18)\n",
    "ax2.set_xlabel('batch', fontsize = 18)\n",
    "ax2.legend(['train loss'], loc='upper right', fontsize = 14)\n",
    "ax2.tick_params(labelsize=14)\n",
    "\n",
    "plt.tight_layout()\n",
    "plt.savefig(\"./images/DistilBERT_train.pdf\")"
   ]
  },
  {
   "cell_type": "code",
   "execution_count": null,
   "metadata": {},
   "outputs": [],
   "source": [
    "model3.load_weights('./model_trained/DistilBERT_epoch2_batch32.h5')\n",
    "x_test = tokenizer(\n",
    "          text=df_test['Phrase'].to_list(),\n",
    "          add_special_tokens=True,\n",
    "          max_length=max_length,\n",
    "          truncation=True,\n",
    "          padding=True,\n",
    "          return_tensors='tf',\n",
    "          return_token_type_ids = False,\n",
    "          return_attention_mask = False,\n",
    "          verbose = True)\n",
    "label_predicted = model3.predict(\n",
    "    x={'input_ids': x_test['input_ids']},\n",
    ")\n",
    "np.save('./model_logs/y_score_DistilBERT.npy', label_predicted['Sentiment'])\n",
    "label_pred_max=[np.argmax(i) for i in label_predicted['Sentiment']]\n",
    "submission['Sentiment_DistilBERT'] = label_pred_max\n",
    "submission.head(10)"
   ]
  },
  {
   "cell_type": "code",
   "execution_count": 55,
   "metadata": {},
   "outputs": [],
   "source": [
    "del model3\n",
    "gc.collect()\n",
    "K.clear_session()"
   ]
  },
  {
   "cell_type": "markdown",
   "metadata": {},
   "source": [
    "# 8. XLNet"
   ]
  },
  {
   "cell_type": "code",
   "execution_count": 31,
   "metadata": {},
   "outputs": [],
   "source": [
    "# !pip install sentencepiece"
   ]
  },
  {
   "cell_type": "code",
   "execution_count": 27,
   "metadata": {},
   "outputs": [],
   "source": [
    "from transformers import XLNetTokenizer, TFXLNetModel, XLNetConfig\n",
    "import sentencepiece"
   ]
  },
  {
   "cell_type": "code",
   "execution_count": 28,
   "metadata": {},
   "outputs": [
    {
     "name": "stderr",
     "output_type": "stream",
     "text": [
      "Some layers from the model checkpoint at xlnet-base-cased were not used when initializing TFXLNetModel: ['lm_loss']\n",
      "- This IS expected if you are initializing TFXLNetModel from the checkpoint of a model trained on another task or with another architecture (e.g. initializing a BertForSequenceClassification model from a BertForPreTraining model).\n",
      "- This IS NOT expected if you are initializing TFXLNetModel from the checkpoint of a model that you expect to be exactly identical (initializing a BertForSequenceClassification model from a BertForSequenceClassification model).\n",
      "All the layers of TFXLNetModel were initialized from the model checkpoint at xlnet-base-cased.\n",
      "If your task is similar to the task the model of the checkpoint was trained on, you can already use TFXLNetModel for predictions without further training.\n"
     ]
    }
   ],
   "source": [
    "### --------- Setup XLNet ---------- ###\n",
    "\n",
    "model_name = 'xlnet-base-cased'\n",
    "\n",
    "# Max length of tokens\n",
    "max_length = 45\n",
    "\n",
    "# Load transformers config and set output_hidden_states to False\n",
    "config = XLNetConfig.from_pretrained(model_name)\n",
    "config.output_hidden_states = False\n",
    "\n",
    "# Load XLNet tokenizer\n",
    "tokenizer = XLNetTokenizer.from_pretrained(pretrained_model_name_or_path = model_name, config = config)\n",
    "\n",
    "# tokenizer = DistilBertTokenizer.from_pretrained(pretrained_model_name_or_path = model_name, config = config)\n",
    "\n",
    "# Load the XLNet model\n",
    "transformer_xlnet_model = TFXLNetModel.from_pretrained(model_name, config = config)"
   ]
  },
  {
   "cell_type": "code",
   "execution_count": 29,
   "metadata": {},
   "outputs": [
    {
     "name": "stdout",
     "output_type": "stream",
     "text": [
      "WARNING:tensorflow:From F:\\anaconda3\\envs\\tfgpu\\lib\\site-packages\\tensorflow\\python\\ops\\array_ops.py:5043: calling gather (from tensorflow.python.ops.array_ops) with validate_indices is deprecated and will be removed in a future version.\n",
      "Instructions for updating:\n",
      "The `validate_indices` argument has no effect. Indices are always validated on CPU and never validated on GPU.\n",
      "Model: \"XLNet_MultiClass\"\n",
      "_________________________________________________________________\n",
      "Layer (type)                 Output Shape              Param #   \n",
      "=================================================================\n",
      "input_ids (InputLayer)       [(None, 45)]              0         \n",
      "_________________________________________________________________\n",
      "transformer (TFXLNetMainLaye TFXLNetModelOutput(last_h 116718336 \n",
      "_________________________________________________________________\n",
      "tf.__operators__.getitem (Sl (None, 1, 768)            0         \n",
      "_________________________________________________________________\n",
      "tf.compat.v1.squeeze (TFOpLa (None, 768)               0         \n",
      "_________________________________________________________________\n",
      "pooled_output (Dropout)      (None, 768)               0         \n",
      "_________________________________________________________________\n",
      "Sentiment (Dense)            (None, 5)                 3845      \n",
      "=================================================================\n",
      "Total params: 116,722,181\n",
      "Trainable params: 116,722,181\n",
      "Non-trainable params: 0\n",
      "_________________________________________________________________\n"
     ]
    }
   ],
   "source": [
    "### ------- Build the model ------- ###\n",
    "\n",
    "# Load the MainLayer\n",
    "xlnet = transformer_xlnet_model.layers[0]\n",
    "\n",
    "# Build your model input\n",
    "input_ids = Input(shape=(max_length,), name='input_ids', dtype='int32')\n",
    "inputs = {'input_ids': input_ids}\n",
    "\n",
    "# Load the Transformers XLNet model as a layer in a Keras model\n",
    "xlnet_model = xlnet(inputs)[0]\n",
    "xlnet_model = tf.squeeze(xlnet_model[:, -1:, :], axis=1)\n",
    "dropout = Dropout(0.1, name='pooled_output')\n",
    "pooled_output = dropout(xlnet_model, training=False)\n",
    "\n",
    "# Then build your model output\n",
    "Sentiments = Dense(units=len(data_train.Sentiment_label.value_counts()), kernel_initializer=TruncatedNormal(stddev=config.initializer_range), name='Sentiment')(pooled_output)\n",
    "outputs = {'Sentiment': Sentiments}\n",
    "\n",
    "# And combine it all in a model object\n",
    "model4 = Model(inputs=inputs, outputs=outputs, name='XLNet_MultiClass')\n",
    "\n",
    "# Take a look at the model\n",
    "model4.summary()"
   ]
  },
  {
   "cell_type": "code",
   "execution_count": 31,
   "metadata": {},
   "outputs": [
    {
     "name": "stdout",
     "output_type": "stream",
     "text": [
      "Epoch 1/2\n",
      "WARNING:tensorflow:Gradients do not exist for variables ['tfxl_net_model/transformer/mask_emb:0', 'tfxl_net_model/transformer/layer_._0/rel_attn/r_s_bias:0', 'tfxl_net_model/transformer/layer_._0/rel_attn/seg_embed:0', 'tfxl_net_model/transformer/layer_._1/rel_attn/r_s_bias:0', 'tfxl_net_model/transformer/layer_._1/rel_attn/seg_embed:0', 'tfxl_net_model/transformer/layer_._2/rel_attn/r_s_bias:0', 'tfxl_net_model/transformer/layer_._2/rel_attn/seg_embed:0', 'tfxl_net_model/transformer/layer_._3/rel_attn/r_s_bias:0', 'tfxl_net_model/transformer/layer_._3/rel_attn/seg_embed:0', 'tfxl_net_model/transformer/layer_._4/rel_attn/r_s_bias:0', 'tfxl_net_model/transformer/layer_._4/rel_attn/seg_embed:0', 'tfxl_net_model/transformer/layer_._5/rel_attn/r_s_bias:0', 'tfxl_net_model/transformer/layer_._5/rel_attn/seg_embed:0', 'tfxl_net_model/transformer/layer_._6/rel_attn/r_s_bias:0', 'tfxl_net_model/transformer/layer_._6/rel_attn/seg_embed:0', 'tfxl_net_model/transformer/layer_._7/rel_attn/r_s_bias:0', 'tfxl_net_model/transformer/layer_._7/rel_attn/seg_embed:0', 'tfxl_net_model/transformer/layer_._8/rel_attn/r_s_bias:0', 'tfxl_net_model/transformer/layer_._8/rel_attn/seg_embed:0', 'tfxl_net_model/transformer/layer_._9/rel_attn/r_s_bias:0', 'tfxl_net_model/transformer/layer_._9/rel_attn/seg_embed:0', 'tfxl_net_model/transformer/layer_._10/rel_attn/r_s_bias:0', 'tfxl_net_model/transformer/layer_._10/rel_attn/seg_embed:0', 'tfxl_net_model/transformer/layer_._11/rel_attn/r_s_bias:0', 'tfxl_net_model/transformer/layer_._11/rel_attn/seg_embed:0'] when minimizing the loss.\n",
      "WARNING:tensorflow:Gradients do not exist for variables ['tfxl_net_model/transformer/mask_emb:0', 'tfxl_net_model/transformer/layer_._0/rel_attn/r_s_bias:0', 'tfxl_net_model/transformer/layer_._0/rel_attn/seg_embed:0', 'tfxl_net_model/transformer/layer_._1/rel_attn/r_s_bias:0', 'tfxl_net_model/transformer/layer_._1/rel_attn/seg_embed:0', 'tfxl_net_model/transformer/layer_._2/rel_attn/r_s_bias:0', 'tfxl_net_model/transformer/layer_._2/rel_attn/seg_embed:0', 'tfxl_net_model/transformer/layer_._3/rel_attn/r_s_bias:0', 'tfxl_net_model/transformer/layer_._3/rel_attn/seg_embed:0', 'tfxl_net_model/transformer/layer_._4/rel_attn/r_s_bias:0', 'tfxl_net_model/transformer/layer_._4/rel_attn/seg_embed:0', 'tfxl_net_model/transformer/layer_._5/rel_attn/r_s_bias:0', 'tfxl_net_model/transformer/layer_._5/rel_attn/seg_embed:0', 'tfxl_net_model/transformer/layer_._6/rel_attn/r_s_bias:0', 'tfxl_net_model/transformer/layer_._6/rel_attn/seg_embed:0', 'tfxl_net_model/transformer/layer_._7/rel_attn/r_s_bias:0', 'tfxl_net_model/transformer/layer_._7/rel_attn/seg_embed:0', 'tfxl_net_model/transformer/layer_._8/rel_attn/r_s_bias:0', 'tfxl_net_model/transformer/layer_._8/rel_attn/seg_embed:0', 'tfxl_net_model/transformer/layer_._9/rel_attn/r_s_bias:0', 'tfxl_net_model/transformer/layer_._9/rel_attn/seg_embed:0', 'tfxl_net_model/transformer/layer_._10/rel_attn/r_s_bias:0', 'tfxl_net_model/transformer/layer_._10/rel_attn/seg_embed:0', 'tfxl_net_model/transformer/layer_._11/rel_attn/r_s_bias:0', 'tfxl_net_model/transformer/layer_._11/rel_attn/seg_embed:0'] when minimizing the loss.\n",
      "3951/3951 [==============================] - 1115s 280ms/step - loss: 0.8024 - accuracy: 0.6664 - val_loss: 0.7646 - val_accuracy: 0.6751\n",
      "Epoch 2/2\n",
      "3951/3951 [==============================] - 1113s 282ms/step - loss: 0.7290 - accuracy: 0.6964 - val_loss: 0.7566 - val_accuracy: 0.6783\n"
     ]
    },
    {
     "data": {
      "text/plain": [
       "<tensorflow.python.keras.callbacks.History at 0x1b6e03948e0>"
      ]
     },
     "execution_count": 31,
     "metadata": {},
     "output_type": "execute_result"
    }
   ],
   "source": [
    "### ------- Train the model ------- ###\n",
    "\n",
    "# Set an optimizer\n",
    "optimizer = Adam(learning_rate=5e-05,epsilon=1e-08,decay=0.01,clipnorm=1.0)\n",
    "\n",
    "# Set loss and metrics\n",
    "loss = {'Sentiment': CategoricalCrossentropy(from_logits = True)}\n",
    "\n",
    "# Compile the model\n",
    "model4.compile(optimizer = optimizer, loss = loss, metrics = ['accuracy'])\n",
    "\n",
    "# Ready output data for the model\n",
    "y_train = to_categorical(data_train['Sentiment'])\n",
    "\n",
    "# Tokenize the input (takes some time)\n",
    "x_train = tokenizer(\n",
    "          text=data_train['Phrase'].to_list(),\n",
    "          add_special_tokens=True,\n",
    "          max_length=max_length,\n",
    "          truncation=True,\n",
    "          padding=True, \n",
    "          return_tensors='tf',\n",
    "          return_token_type_ids = False,\n",
    "          return_attention_mask = False,\n",
    "          verbose = True)\n",
    "\n",
    "y_val = to_categorical(data_val['Sentiment'])\n",
    "\n",
    "x_val = tokenizer(\n",
    "          text=data_val['Phrase'].to_list(),\n",
    "          add_special_tokens=True,\n",
    "          max_length=max_length,\n",
    "          truncation=True,\n",
    "          padding=True, \n",
    "          return_tensors='tf',\n",
    "          return_token_type_ids = False,\n",
    "          return_attention_mask = True,\n",
    "          verbose = True)\n",
    "\n",
    "# Fit the model\n",
    "epoch = 2\n",
    "batch_size = 32\n",
    "model4.fit(\n",
    "    x={'input_ids': x_train['input_ids']},\n",
    "    y={'Sentiment': y_train},\n",
    "    validation_data=({'input_ids': x_val['input_ids']},{'Sentiment': y_val}),\n",
    "    batch_size=batch_size,\n",
    "    epochs=epoch,\n",
    "    verbose=1,\n",
    "    callbacks= [history])"
   ]
  },
  {
   "cell_type": "markdown",
   "metadata": {},
   "source": [
    "The model took 37 minutes and 8 seconds to train for 2 epochs."
   ]
  },
  {
   "cell_type": "code",
   "execution_count": 32,
   "metadata": {},
   "outputs": [],
   "source": [
    "model4.save('./model_trained/XLNet_epoch{}_batch{}.h5'.format(epoch, batch_size))\n",
    "np.save('./model_logs/XLNet_epoch{}_batch{}_train_acc.npy'.format(epoch, batch_size), history.accuracy['batch'])\n",
    "np.save('./model_logs/XLNet_epoch{}_batch{}_train_loss.npy'.format(epoch, batch_size), history.loss['batch'])"
   ]
  },
  {
   "cell_type": "code",
   "execution_count": 33,
   "metadata": {},
   "outputs": [
    {
     "data": {
      "image/png": "[encoded data removed]",
      "text/plain": [
       "<Figure size 432x288 with 1 Axes>"
      ]
     },
     "metadata": {
      "needs_background": "light"
     },
     "output_type": "display_data"
    }
   ],
   "source": [
    "plt.plot(history.accuracy['batch'])\n",
    "plt.title('training accuracy of XLNet')\n",
    "plt.ylabel('accuracy')\n",
    "plt.xlabel('batch')\n",
    "plt.legend(['train acc'], loc='upper left')\n",
    "plt.show()"
   ]
  },
  {
   "cell_type": "code",
   "execution_count": 34,
   "metadata": {},
   "outputs": [
    {
     "data": {
      "image/png": "[encoded data removed]",
      "text/plain": [
       "<Figure size 432x288 with 1 Axes>"
      ]
     },
     "metadata": {
      "needs_background": "light"
     },
     "output_type": "display_data"
    }
   ],
   "source": [
    "plt.plot(history.loss['batch'])\n",
    "plt.title('training loss of XLNet')\n",
    "plt.ylabel('loss')\n",
    "plt.xlabel('batch')\n",
    "plt.legend(['train loss'], loc='upper left')\n",
    "plt.show()"
   ]
  },
  {
   "cell_type": "code",
   "execution_count": 39,
   "metadata": {},
   "outputs": [
    {
     "data": {
      "text/html": [
       "<div>\n",
       "<style scoped>\n",
       "    .dataframe tbody tr th:only-of-type {\n",
       "        vertical-align: middle;\n",
       "    }\n",
       "\n",
       "    .dataframe tbody tr th {\n",
       "        vertical-align: top;\n",
       "    }\n",
       "\n",
       "    .dataframe thead th {\n",
       "        text-align: right;\n",
       "    }\n",
       "</style>\n",
       "<table border=\"1\" class=\"dataframe\">\n",
       "  <thead>\n",
       "    <tr style=\"text-align: right;\">\n",
       "      <th></th>\n",
       "      <th>PhraseId</th>\n",
       "      <th>Sentiment</th>\n",
       "      <th>Sentiment_bert</th>\n",
       "      <th>Sentiment_RoBERTa</th>\n",
       "      <th>Sentiment_DistilBERT</th>\n",
       "      <th>Sentiment_XLNet</th>\n",
       "    </tr>\n",
       "  </thead>\n",
       "  <tbody>\n",
       "    <tr>\n",
       "      <th>0</th>\n",
       "      <td>104527</td>\n",
       "      <td>0</td>\n",
       "      <td>2</td>\n",
       "      <td>2</td>\n",
       "      <td>2</td>\n",
       "      <td>2</td>\n",
       "    </tr>\n",
       "    <tr>\n",
       "      <th>1</th>\n",
       "      <td>135933</td>\n",
       "      <td>2</td>\n",
       "      <td>2</td>\n",
       "      <td>2</td>\n",
       "      <td>2</td>\n",
       "      <td>2</td>\n",
       "    </tr>\n",
       "    <tr>\n",
       "      <th>2</th>\n",
       "      <td>150609</td>\n",
       "      <td>2</td>\n",
       "      <td>1</td>\n",
       "      <td>1</td>\n",
       "      <td>2</td>\n",
       "      <td>1</td>\n",
       "    </tr>\n",
       "    <tr>\n",
       "      <th>3</th>\n",
       "      <td>62280</td>\n",
       "      <td>3</td>\n",
       "      <td>1</td>\n",
       "      <td>3</td>\n",
       "      <td>1</td>\n",
       "      <td>2</td>\n",
       "    </tr>\n",
       "    <tr>\n",
       "      <th>4</th>\n",
       "      <td>109781</td>\n",
       "      <td>1</td>\n",
       "      <td>1</td>\n",
       "      <td>1</td>\n",
       "      <td>1</td>\n",
       "      <td>1</td>\n",
       "    </tr>\n",
       "    <tr>\n",
       "      <th>5</th>\n",
       "      <td>31032</td>\n",
       "      <td>3</td>\n",
       "      <td>4</td>\n",
       "      <td>4</td>\n",
       "      <td>3</td>\n",
       "      <td>4</td>\n",
       "    </tr>\n",
       "    <tr>\n",
       "      <th>6</th>\n",
       "      <td>102472</td>\n",
       "      <td>2</td>\n",
       "      <td>2</td>\n",
       "      <td>2</td>\n",
       "      <td>1</td>\n",
       "      <td>2</td>\n",
       "    </tr>\n",
       "    <tr>\n",
       "      <th>7</th>\n",
       "      <td>79883</td>\n",
       "      <td>3</td>\n",
       "      <td>3</td>\n",
       "      <td>3</td>\n",
       "      <td>3</td>\n",
       "      <td>3</td>\n",
       "    </tr>\n",
       "    <tr>\n",
       "      <th>8</th>\n",
       "      <td>97765</td>\n",
       "      <td>2</td>\n",
       "      <td>2</td>\n",
       "      <td>2</td>\n",
       "      <td>2</td>\n",
       "      <td>2</td>\n",
       "    </tr>\n",
       "    <tr>\n",
       "      <th>9</th>\n",
       "      <td>62322</td>\n",
       "      <td>1</td>\n",
       "      <td>1</td>\n",
       "      <td>1</td>\n",
       "      <td>1</td>\n",
       "      <td>1</td>\n",
       "    </tr>\n",
       "  </tbody>\n",
       "</table>\n",
       "</div>"
      ],
      "text/plain": [
       "   PhraseId  Sentiment  Sentiment_bert  Sentiment_RoBERTa  \\\n",
       "0    104527          0               2                  2   \n",
       "1    135933          2               2                  2   \n",
       "2    150609          2               1                  1   \n",
       "3     62280          3               1                  3   \n",
       "4    109781          1               1                  1   \n",
       "5     31032          3               4                  4   \n",
       "6    102472          2               2                  2   \n",
       "7     79883          3               3                  3   \n",
       "8     97765          2               2                  2   \n",
       "9     62322          1               1                  1   \n",
       "\n",
       "   Sentiment_DistilBERT  Sentiment_XLNet  \n",
       "0                     2                2  \n",
       "1                     2                2  \n",
       "2                     2                1  \n",
       "3                     1                2  \n",
       "4                     1                1  \n",
       "5                     3                4  \n",
       "6                     1                2  \n",
       "7                     3                3  \n",
       "8                     2                2  \n",
       "9                     1                1  "
      ]
     },
     "execution_count": 39,
     "metadata": {},
     "output_type": "execute_result"
    }
   ],
   "source": [
    "model4.load_weights('./model_trained/XLNet_epoch2_batch32.h5')\n",
    "x_test = tokenizer(\n",
    "          text=df_test['Phrase'].to_list(),\n",
    "          add_special_tokens=True,\n",
    "          max_length=max_length,\n",
    "          truncation=True,\n",
    "          padding=True,\n",
    "          return_tensors='tf',\n",
    "          return_token_type_ids = False,\n",
    "          return_attention_mask = False,\n",
    "          verbose = True)\n",
    "label_predicted = model4.predict(\n",
    "    x={'input_ids': x_test['input_ids']},\n",
    ")\n",
    "np.save('./model_logs/y_score_XLNet.npy', label_predicted['Sentiment'])\n",
    "label_pred_max=[np.argmax(i) for i in label_predicted['Sentiment']]\n",
    "submission['Sentiment_XLNet'] = label_pred_max\n",
    "submission.head(10)"
   ]
  },
  {
   "cell_type": "code",
   "execution_count": 60,
   "metadata": {},
   "outputs": [],
   "source": [
    "del model4\n",
    "gc.collect()\n",
    "K.clear_session()"
   ]
  },
  {
   "cell_type": "code",
   "execution_count": 63,
   "metadata": {},
   "outputs": [
    {
     "name": "stdout",
     "output_type": "stream",
     "text": [
      "Submission is ready!\n"
     ]
    }
   ],
   "source": [
    "submission.to_csv(\"./submission/submission.csv\", index=False, header=True)\n",
    "print('Submission is ready!')"
   ]
  },
  {
   "cell_type": "markdown",
   "metadata": {},
   "source": [
    "# 9. Evaluation on Test Dataset"
   ]
  },
  {
   "cell_type": "code",
   "execution_count": 81,
   "metadata": {},
   "outputs": [],
   "source": [
    "submission = pd.read_csv('./submission/submission.csv')"
   ]
  },
  {
   "cell_type": "code",
   "execution_count": 74,
   "metadata": {},
   "outputs": [],
   "source": [
    "def evaluation(model_name, y_true, y_pred, y_score):\n",
    "\n",
    "    # classification report\n",
    "    report = classification_report(y_true, y_pred)\n",
    "    print('{}\\n'.format(model_name), report)\n",
    "    \n",
    "    # Confusion Matrix\n",
    "    disp = ConfusionMatrixDisplay(confusion_matrix=confusion_matrix(y_true, y_pred), display_labels=np.unique(y_true))\n",
    "    disp.plot(cmap='Blues') \n",
    "    plt.grid(False)\n",
    "    # plt.tight_layout()\n",
    "    plt.savefig('./images/confusion_{}.pdf'.format(model_name))\n",
    "    plt.show()\n",
    "    plt.close()\n",
    "    \n",
    "    # Multi-class ROC\n",
    "    classes = ['Negative', 'Somewhat Negative', 'Neural', 'Somewhat Positive', 'Positive']\n",
    "    for i in range(0, 5):\n",
    "        fpr, tpr, thresholds = roc_curve(y_true, y_score[:, i], pos_label=i)\n",
    "        auc_ = auc(fpr, tpr)\n",
    "        lw = 2\n",
    "        plt.plot(fpr, tpr,\n",
    "                 lw=lw, label='ROC curve of {} (area = %0.2f)'.format(classes[i]) % auc_)\n",
    "        plt.legend(loc=\"lower right\")\n",
    "    plt.plot([0, 1], [0, 1], color='navy', lw=lw, linestyle='--')\n",
    "    plt.xlim([0.0, 1.0])\n",
    "    plt.ylim([0.0, 1.05])\n",
    "    plt.xlabel('False Positive Rate')\n",
    "    plt.ylabel('True Positive Rate')\n",
    "    plt.title('Multiclass ROC of {}'.format(model_name))\n",
    "    plt.tight_layout()\n",
    "    plt.savefig('./images/ROC_{}.pdf'.format(model_name))\n",
    "    plt.show()\n",
    "    plt.close()"
   ]
  },
  {
   "cell_type": "markdown",
   "metadata": {},
   "source": [
    "## 9.1 bert"
   ]
  },
  {
   "cell_type": "code",
   "execution_count": 75,
   "metadata": {},
   "outputs": [],
   "source": [
    "y_score_bert = np.load('./model_logs/y_score_bert.npy')"
   ]
  },
  {
   "cell_type": "code",
   "execution_count": 76,
   "metadata": {},
   "outputs": [
    {
     "name": "stdout",
     "output_type": "stream",
     "text": [
      "bert\n",
      "               precision    recall  f1-score   support\n",
      "\n",
      "           0       0.54      0.40      0.46       701\n",
      "           1       0.56      0.63      0.59      2728\n",
      "           2       0.78      0.79      0.79      7958\n",
      "           3       0.62      0.59      0.60      3301\n",
      "           4       0.58      0.57      0.57       918\n",
      "\n",
      "    accuracy                           0.69     15606\n",
      "   macro avg       0.62      0.59      0.60     15606\n",
      "weighted avg       0.69      0.69      0.69     15606\n",
      "\n"
     ]
    },
    {
     "data": {
      "image/png": "[encoded data removed]",
      "text/plain": [
       "<Figure size 432x288 with 2 Axes>"
      ]
     },
     "metadata": {
      "needs_background": "light"
     },
     "output_type": "display_data"
    },
    {
     "data": {
      "image/png": "[encoded data removed]",
      "text/plain": [
       "<Figure size 432x288 with 1 Axes>"
      ]
     },
     "metadata": {
      "needs_background": "light"
     },
     "output_type": "display_data"
    }
   ],
   "source": [
    "evaluation('bert', submission['Sentiment'], submission['Sentiment_bert'], y_score_bert)"
   ]
  },
  {
   "cell_type": "markdown",
   "metadata": {},
   "source": [
    "## 9.2 RoBERTa"
   ]
  },
  {
   "cell_type": "code",
   "execution_count": 82,
   "metadata": {},
   "outputs": [
    {
     "name": "stdout",
     "output_type": "stream",
     "text": [
      "RoBERTa\n",
      "               precision    recall  f1-score   support\n",
      "\n",
      "           0       0.56      0.44      0.50       701\n",
      "           1       0.57      0.62      0.59      2728\n",
      "           2       0.79      0.78      0.79      7958\n",
      "           3       0.62      0.61      0.61      3301\n",
      "           4       0.57      0.59      0.58       918\n",
      "\n",
      "    accuracy                           0.69     15606\n",
      "   macro avg       0.62      0.61      0.61     15606\n",
      "weighted avg       0.69      0.69      0.69     15606\n",
      "\n"
     ]
    },
    {
     "data": {
      "image/png": "[encoded data removed]",
      "text/plain": [
       "<Figure size 432x288 with 2 Axes>"
      ]
     },
     "metadata": {
      "needs_background": "light"
     },
     "output_type": "display_data"
    },
    {
     "data": {
      "image/png": "[encoded data removed]",
      "text/plain": [
       "<Figure size 432x288 with 1 Axes>"
      ]
     },
     "metadata": {
      "needs_background": "light"
     },
     "output_type": "display_data"
    }
   ],
   "source": [
    "y_score_RoBERTa = np.load('./model_logs/y_score_RoBERTa.npy')\n",
    "evaluation('RoBERTa', submission['Sentiment'], submission['Sentiment_RoBERTa'], y_score_RoBERTa)"
   ]
  },
  {
   "cell_type": "markdown",
   "metadata": {},
   "source": [
    "## 9.3 DistilBERT"
   ]
  },
  {
   "cell_type": "code",
   "execution_count": 83,
   "metadata": {},
   "outputs": [
    {
     "name": "stdout",
     "output_type": "stream",
     "text": [
      "DistilBERT\n",
      "               precision    recall  f1-score   support\n",
      "\n",
      "           0       0.57      0.33      0.42       701\n",
      "           1       0.56      0.56      0.56      2728\n",
      "           2       0.76      0.80      0.78      7958\n",
      "           3       0.59      0.61      0.60      3301\n",
      "           4       0.60      0.49      0.54       918\n",
      "\n",
      "    accuracy                           0.68     15606\n",
      "   macro avg       0.62      0.56      0.58     15606\n",
      "weighted avg       0.67      0.68      0.67     15606\n",
      "\n"
     ]
    },
    {
     "data": {
      "image/png": "[encoded data removed]",
      "text/plain": [
       "<Figure size 432x288 with 2 Axes>"
      ]
     },
     "metadata": {
      "needs_background": "light"
     },
     "output_type": "display_data"
    },
    {
     "data": {
      "image/png": "[encoded data removed]",
      "text/plain": [
       "<Figure size 432x288 with 1 Axes>"
      ]
     },
     "metadata": {
      "needs_background": "light"
     },
     "output_type": "display_data"
    }
   ],
   "source": [
    "y_score_DistilBERT = np.load('./model_logs/y_score_DistilBERT.npy')\n",
    "evaluation('DistilBERT', submission['Sentiment'], submission['Sentiment_DistilBERT'], y_score_DistilBERT)"
   ]
  },
  {
   "cell_type": "markdown",
   "metadata": {},
   "source": [
    "## 9.4 XLNet"
   ]
  },
  {
   "cell_type": "code",
   "execution_count": 84,
   "metadata": {},
   "outputs": [
    {
     "name": "stdout",
     "output_type": "stream",
     "text": [
      "XLNet\n",
      "               precision    recall  f1-score   support\n",
      "\n",
      "           0       0.53      0.46      0.49       701\n",
      "           1       0.59      0.59      0.59      2728\n",
      "           2       0.79      0.79      0.79      7958\n",
      "           3       0.62      0.56      0.59      3301\n",
      "           4       0.52      0.71      0.60       918\n",
      "\n",
      "    accuracy                           0.69     15606\n",
      "   macro avg       0.61      0.62      0.61     15606\n",
      "weighted avg       0.69      0.69      0.69     15606\n",
      "\n"
     ]
    },
    {
     "data": {
      "image/png": "[encoded data removed]",
      "text/plain": [
       "<Figure size 432x288 with 2 Axes>"
      ]
     },
     "metadata": {
      "needs_background": "light"
     },
     "output_type": "display_data"
    },
    {
     "data": {
      "image/png": "[encoded data removed]",
      "text/plain": [
       "<Figure size 432x288 with 1 Axes>"
      ]
     },
     "metadata": {
      "needs_background": "light"
     },
     "output_type": "display_data"
    }
   ],
   "source": [
    "y_score_XLNet = np.load('./model_logs/y_score_XLNet.npy')\n",
    "evaluation('XLNet', submission['Sentiment'], submission['Sentiment_XLNet'], y_score_XLNet)"
   ]
  }
 ],
 "metadata": {
  "colab": {
   "name": "test.ipynb",
   "version": ""
  },
  "kernelspec": {
   "display_name": "Python 3 (ipykernel)",
   "language": "python",
   "name": "python3"
  },
  "language_info": {
   "codemirror_mode": {
    "name": "ipython",
    "version": 3
   },
   "file_extension": ".py",
   "mimetype": "text/x-python",
   "name": "python",
   "nbconvert_exporter": "python",
   "pygments_lexer": "ipython3",
   "version": "3.8.13"
  },
  "widgets": {
   "application/vnd.jupyter.widget-state+json": {
    "05670602f7534d03a2a86925f78e681f": {
     "model_module": "@jupyter-widgets/controls",
     "model_module_version": "1.5.0",
     "model_name": "HTMLModel",
     "state": {
      "_dom_classes": [],
      "_model_module": "@jupyter-widgets/controls",
      "_model_module_version": "1.5.0",
      "_model_name": "HTMLModel",
      "_view_count": null,
      "_view_module": "@jupyter-widgets/controls",
      "_view_module_version": "1.5.0",
      "_view_name": "HTMLView",
      "description": "",
      "description_tooltip": null,
      "layout": "IPY_MODEL_9434393dccd247a3950334260952713b",
      "placeholder": "​",
      "style": "IPY_MODEL_d44ba67c459548b6af61b26f8645a2be",
      "value": " 511M/511M [00:14&lt;00:00, 43.8MB/s]"
     }
    },
    "079fe1ce0b2f43388f52fc48f6435cee": {
     "model_module": "@jupyter-widgets/controls",
     "model_module_version": "1.5.0",
     "model_name": "DescriptionStyleModel",
     "state": {
      "_model_module": "@jupyter-widgets/controls",
      "_model_module_version": "1.5.0",
      "_model_name": "DescriptionStyleModel",
      "_view_count": null,
      "_view_module": "@jupyter-widgets/base",
      "_view_module_version": "1.2.0",
      "_view_name": "StyleView",
      "description_width": ""
     }
    },
    "0c1d1707f8914e28ae74340913b46d94": {
     "model_module": "@jupyter-widgets/base",
     "model_module_version": "1.2.0",
     "model_name": "LayoutModel",
     "state": {
      "_model_module": "@jupyter-widgets/base",
      "_model_module_version": "1.2.0",
      "_model_name": "LayoutModel",
      "_view_count": null,
      "_view_module": "@jupyter-widgets/base",
      "_view_module_version": "1.2.0",
      "_view_name": "LayoutView",
      "align_content": null,
      "align_items": null,
      "align_self": null,
      "border": null,
      "bottom": null,
      "display": null,
      "flex": null,
      "flex_flow": null,
      "grid_area": null,
      "grid_auto_columns": null,
      "grid_auto_flow": null,
      "grid_auto_rows": null,
      "grid_column": null,
      "grid_gap": null,
      "grid_row": null,
      "grid_template_areas": null,
      "grid_template_columns": null,
      "grid_template_rows": null,
      "height": null,
      "justify_content": null,
      "justify_items": null,
      "left": null,
      "margin": null,
      "max_height": null,
      "max_width": null,
      "min_height": null,
      "min_width": null,
      "object_fit": null,
      "object_position": null,
      "order": null,
      "overflow": null,
      "overflow_x": null,
      "overflow_y": null,
      "padding": null,
      "right": null,
      "top": null,
      "visibility": null,
      "width": null
     }
    },
    "199a092c08b2410bbef72449598b63ea": {
     "model_module": "@jupyter-widgets/controls",
     "model_module_version": "1.5.0",
     "model_name": "FloatProgressModel",
     "state": {
      "_dom_classes": [],
      "_model_module": "@jupyter-widgets/controls",
      "_model_module_version": "1.5.0",
      "_model_name": "FloatProgressModel",
      "_view_count": null,
      "_view_module": "@jupyter-widgets/controls",
      "_view_module_version": "1.5.0",
      "_view_name": "ProgressView",
      "bar_style": "success",
      "description": "",
      "description_tooltip": null,
      "layout": "IPY_MODEL_c3bfb49276fd4ffc8070914fc9d99df4",
      "max": 231508,
      "min": 0,
      "orientation": "horizontal",
      "style": "IPY_MODEL_a928c3860b87415c8c15b24f65a7ef87",
      "value": 231508
     }
    },
    "23cfb4ecf73545128fd320963a0591b1": {
     "model_module": "@jupyter-widgets/controls",
     "model_module_version": "1.5.0",
     "model_name": "HBoxModel",
     "state": {
      "_dom_classes": [],
      "_model_module": "@jupyter-widgets/controls",
      "_model_module_version": "1.5.0",
      "_model_name": "HBoxModel",
      "_view_count": null,
      "_view_module": "@jupyter-widgets/controls",
      "_view_module_version": "1.5.0",
      "_view_name": "HBoxView",
      "box_style": "",
      "children": [
       "IPY_MODEL_e2f45efc272b4d47a6c16be23fd0bb65",
       "IPY_MODEL_6f1a6b97ffdc4d33bd78234e16f5511a",
       "IPY_MODEL_3a2dabb6b62d4a83917753bfc8407c12"
      ],
      "layout": "IPY_MODEL_d972a51bf39944818d11abe6e1995df4"
     }
    },
    "2d32ca4156cd4846b3c5de6625e4a27e": {
     "model_module": "@jupyter-widgets/controls",
     "model_module_version": "1.5.0",
     "model_name": "DescriptionStyleModel",
     "state": {
      "_model_module": "@jupyter-widgets/controls",
      "_model_module_version": "1.5.0",
      "_model_name": "DescriptionStyleModel",
      "_view_count": null,
      "_view_module": "@jupyter-widgets/base",
      "_view_module_version": "1.2.0",
      "_view_name": "StyleView",
      "description_width": ""
     }
    },
    "3a2dabb6b62d4a83917753bfc8407c12": {
     "model_module": "@jupyter-widgets/controls",
     "model_module_version": "1.5.0",
     "model_name": "HTMLModel",
     "state": {
      "_dom_classes": [],
      "_model_module": "@jupyter-widgets/controls",
      "_model_module_version": "1.5.0",
      "_model_name": "HTMLModel",
      "_view_count": null,
      "_view_module": "@jupyter-widgets/controls",
      "_view_module_version": "1.5.0",
      "_view_name": "HTMLView",
      "description": "",
      "description_tooltip": null,
      "layout": "IPY_MODEL_e2bcb61d0b86405590e118ed446dde03",
      "placeholder": "​",
      "style": "IPY_MODEL_3e1e2f11f6c44cebabdb8317c15f8526",
      "value": " 570/570 [00:00&lt;00:00, 6.41kB/s]"
     }
    },
    "3e1e2f11f6c44cebabdb8317c15f8526": {
     "model_module": "@jupyter-widgets/controls",
     "model_module_version": "1.5.0",
     "model_name": "DescriptionStyleModel",
     "state": {
      "_model_module": "@jupyter-widgets/controls",
      "_model_module_version": "1.5.0",
      "_model_name": "DescriptionStyleModel",
      "_view_count": null,
      "_view_module": "@jupyter-widgets/base",
      "_view_module_version": "1.2.0",
      "_view_name": "StyleView",
      "description_width": ""
     }
    },
    "41af645dd0594c6282902a7ae32275a1": {
     "model_module": "@jupyter-widgets/base",
     "model_module_version": "1.2.0",
     "model_name": "LayoutModel",
     "state": {
      "_model_module": "@jupyter-widgets/base",
      "_model_module_version": "1.2.0",
      "_model_name": "LayoutModel",
      "_view_count": null,
      "_view_module": "@jupyter-widgets/base",
      "_view_module_version": "1.2.0",
      "_view_name": "LayoutView",
      "align_content": null,
      "align_items": null,
      "align_self": null,
      "border": null,
      "bottom": null,
      "display": null,
      "flex": null,
      "flex_flow": null,
      "grid_area": null,
      "grid_auto_columns": null,
      "grid_auto_flow": null,
      "grid_auto_rows": null,
      "grid_column": null,
      "grid_gap": null,
      "grid_row": null,
      "grid_template_areas": null,
      "grid_template_columns": null,
      "grid_template_rows": null,
      "height": null,
      "justify_content": null,
      "justify_items": null,
      "left": null,
      "margin": null,
      "max_height": null,
      "max_width": null,
      "min_height": null,
      "min_width": null,
      "object_fit": null,
      "object_position": null,
      "order": null,
      "overflow": null,
      "overflow_x": null,
      "overflow_y": null,
      "padding": null,
      "right": null,
      "top": null,
      "visibility": null,
      "width": null
     }
    },
    "42c06ce7ee804553a778bfca57161eca": {
     "model_module": "@jupyter-widgets/base",
     "model_module_version": "1.2.0",
     "model_name": "LayoutModel",
     "state": {
      "_model_module": "@jupyter-widgets/base",
      "_model_module_version": "1.2.0",
      "_model_name": "LayoutModel",
      "_view_count": null,
      "_view_module": "@jupyter-widgets/base",
      "_view_module_version": "1.2.0",
      "_view_name": "LayoutView",
      "align_content": null,
      "align_items": null,
      "align_self": null,
      "border": null,
      "bottom": null,
      "display": null,
      "flex": null,
      "flex_flow": null,
      "grid_area": null,
      "grid_auto_columns": null,
      "grid_auto_flow": null,
      "grid_auto_rows": null,
      "grid_column": null,
      "grid_gap": null,
      "grid_row": null,
      "grid_template_areas": null,
      "grid_template_columns": null,
      "grid_template_rows": null,
      "height": null,
      "justify_content": null,
      "justify_items": null,
      "left": null,
      "margin": null,
      "max_height": null,
      "max_width": null,
      "min_height": null,
      "min_width": null,
      "object_fit": null,
      "object_position": null,
      "order": null,
      "overflow": null,
      "overflow_x": null,
      "overflow_y": null,
      "padding": null,
      "right": null,
      "top": null,
      "visibility": null,
      "width": null
     }
    },
    "44522dac1cba474793535ebf176711f2": {
     "model_module": "@jupyter-widgets/controls",
     "model_module_version": "1.5.0",
     "model_name": "DescriptionStyleModel",
     "state": {
      "_model_module": "@jupyter-widgets/controls",
      "_model_module_version": "1.5.0",
      "_model_name": "DescriptionStyleModel",
      "_view_count": null,
      "_view_module": "@jupyter-widgets/base",
      "_view_module_version": "1.2.0",
      "_view_name": "StyleView",
      "description_width": ""
     }
    },
    "4f9280d86b754637b8f0846afa222691": {
     "model_module": "@jupyter-widgets/base",
     "model_module_version": "1.2.0",
     "model_name": "LayoutModel",
     "state": {
      "_model_module": "@jupyter-widgets/base",
      "_model_module_version": "1.2.0",
      "_model_name": "LayoutModel",
      "_view_count": null,
      "_view_module": "@jupyter-widgets/base",
      "_view_module_version": "1.2.0",
      "_view_name": "LayoutView",
      "align_content": null,
      "align_items": null,
      "align_self": null,
      "border": null,
      "bottom": null,
      "display": null,
      "flex": null,
      "flex_flow": null,
      "grid_area": null,
      "grid_auto_columns": null,
      "grid_auto_flow": null,
      "grid_auto_rows": null,
      "grid_column": null,
      "grid_gap": null,
      "grid_row": null,
      "grid_template_areas": null,
      "grid_template_columns": null,
      "grid_template_rows": null,
      "height": null,
      "justify_content": null,
      "justify_items": null,
      "left": null,
      "margin": null,
      "max_height": null,
      "max_width": null,
      "min_height": null,
      "min_width": null,
      "object_fit": null,
      "object_position": null,
      "order": null,
      "overflow": null,
      "overflow_x": null,
      "overflow_y": null,
      "padding": null,
      "right": null,
      "top": null,
      "visibility": null,
      "width": null
     }
    },
    "516caeb0c1604a9e8c8dd48cf708959b": {
     "model_module": "@jupyter-widgets/base",
     "model_module_version": "1.2.0",
     "model_name": "LayoutModel",
     "state": {
      "_model_module": "@jupyter-widgets/base",
      "_model_module_version": "1.2.0",
      "_model_name": "LayoutModel",
      "_view_count": null,
      "_view_module": "@jupyter-widgets/base",
      "_view_module_version": "1.2.0",
      "_view_name": "LayoutView",
      "align_content": null,
      "align_items": null,
      "align_self": null,
      "border": null,
      "bottom": null,
      "display": null,
      "flex": null,
      "flex_flow": null,
      "grid_area": null,
      "grid_auto_columns": null,
      "grid_auto_flow": null,
      "grid_auto_rows": null,
      "grid_column": null,
      "grid_gap": null,
      "grid_row": null,
      "grid_template_areas": null,
      "grid_template_columns": null,
      "grid_template_rows": null,
      "height": null,
      "justify_content": null,
      "justify_items": null,
      "left": null,
      "margin": null,
      "max_height": null,
      "max_width": null,
      "min_height": null,
      "min_width": null,
      "object_fit": null,
      "object_position": null,
      "order": null,
      "overflow": null,
      "overflow_x": null,
      "overflow_y": null,
      "padding": null,
      "right": null,
      "top": null,
      "visibility": null,
      "width": null
     }
    },
    "51886344d0b54d1bad795d939254b043": {
     "model_module": "@jupyter-widgets/base",
     "model_module_version": "1.2.0",
     "model_name": "LayoutModel",
     "state": {
      "_model_module": "@jupyter-widgets/base",
      "_model_module_version": "1.2.0",
      "_model_name": "LayoutModel",
      "_view_count": null,
      "_view_module": "@jupyter-widgets/base",
      "_view_module_version": "1.2.0",
      "_view_name": "LayoutView",
      "align_content": null,
      "align_items": null,
      "align_self": null,
      "border": null,
      "bottom": null,
      "display": null,
      "flex": null,
      "flex_flow": null,
      "grid_area": null,
      "grid_auto_columns": null,
      "grid_auto_flow": null,
      "grid_auto_rows": null,
      "grid_column": null,
      "grid_gap": null,
      "grid_row": null,
      "grid_template_areas": null,
      "grid_template_columns": null,
      "grid_template_rows": null,
      "height": null,
      "justify_content": null,
      "justify_items": null,
      "left": null,
      "margin": null,
      "max_height": null,
      "max_width": null,
      "min_height": null,
      "min_width": null,
      "object_fit": null,
      "object_position": null,
      "order": null,
      "overflow": null,
      "overflow_x": null,
      "overflow_y": null,
      "padding": null,
      "right": null,
      "top": null,
      "visibility": null,
      "width": null
     }
    },
    "530ba51e099e41c5bb92936d7645b857": {
     "model_module": "@jupyter-widgets/controls",
     "model_module_version": "1.5.0",
     "model_name": "HTMLModel",
     "state": {
      "_dom_classes": [],
      "_model_module": "@jupyter-widgets/controls",
      "_model_module_version": "1.5.0",
      "_model_name": "HTMLModel",
      "_view_count": null,
      "_view_module": "@jupyter-widgets/controls",
      "_view_module_version": "1.5.0",
      "_view_name": "HTMLView",
      "description": "",
      "description_tooltip": null,
      "layout": "IPY_MODEL_41af645dd0594c6282902a7ae32275a1",
      "placeholder": "​",
      "style": "IPY_MODEL_2d32ca4156cd4846b3c5de6625e4a27e",
      "value": "Downloading: 100%"
     }
    },
    "5ab0f529c5844025b18ec3c880c208ed": {
     "model_module": "@jupyter-widgets/base",
     "model_module_version": "1.2.0",
     "model_name": "LayoutModel",
     "state": {
      "_model_module": "@jupyter-widgets/base",
      "_model_module_version": "1.2.0",
      "_model_name": "LayoutModel",
      "_view_count": null,
      "_view_module": "@jupyter-widgets/base",
      "_view_module_version": "1.2.0",
      "_view_name": "LayoutView",
      "align_content": null,
      "align_items": null,
      "align_self": null,
      "border": null,
      "bottom": null,
      "display": null,
      "flex": null,
      "flex_flow": null,
      "grid_area": null,
      "grid_auto_columns": null,
      "grid_auto_flow": null,
      "grid_auto_rows": null,
      "grid_column": null,
      "grid_gap": null,
      "grid_row": null,
      "grid_template_areas": null,
      "grid_template_columns": null,
      "grid_template_rows": null,
      "height": null,
      "justify_content": null,
      "justify_items": null,
      "left": null,
      "margin": null,
      "max_height": null,
      "max_width": null,
      "min_height": null,
      "min_width": null,
      "object_fit": null,
      "object_position": null,
      "order": null,
      "overflow": null,
      "overflow_x": null,
      "overflow_y": null,
      "padding": null,
      "right": null,
      "top": null,
      "visibility": null,
      "width": null
     }
    },
    "5efd0b35938d436e855ba571a9a74ba2": {
     "model_module": "@jupyter-widgets/base",
     "model_module_version": "1.2.0",
     "model_name": "LayoutModel",
     "state": {
      "_model_module": "@jupyter-widgets/base",
      "_model_module_version": "1.2.0",
      "_model_name": "LayoutModel",
      "_view_count": null,
      "_view_module": "@jupyter-widgets/base",
      "_view_module_version": "1.2.0",
      "_view_name": "LayoutView",
      "align_content": null,
      "align_items": null,
      "align_self": null,
      "border": null,
      "bottom": null,
      "display": null,
      "flex": null,
      "flex_flow": null,
      "grid_area": null,
      "grid_auto_columns": null,
      "grid_auto_flow": null,
      "grid_auto_rows": null,
      "grid_column": null,
      "grid_gap": null,
      "grid_row": null,
      "grid_template_areas": null,
      "grid_template_columns": null,
      "grid_template_rows": null,
      "height": null,
      "justify_content": null,
      "justify_items": null,
      "left": null,
      "margin": null,
      "max_height": null,
      "max_width": null,
      "min_height": null,
      "min_width": null,
      "object_fit": null,
      "object_position": null,
      "order": null,
      "overflow": null,
      "overflow_x": null,
      "overflow_y": null,
      "padding": null,
      "right": null,
      "top": null,
      "visibility": null,
      "width": null
     }
    },
    "654a588cf22c420fb6311fb229bedd0a": {
     "model_module": "@jupyter-widgets/controls",
     "model_module_version": "1.5.0",
     "model_name": "FloatProgressModel",
     "state": {
      "_dom_classes": [],
      "_model_module": "@jupyter-widgets/controls",
      "_model_module_version": "1.5.0",
      "_model_name": "FloatProgressModel",
      "_view_count": null,
      "_view_module": "@jupyter-widgets/controls",
      "_view_module_version": "1.5.0",
      "_view_name": "ProgressView",
      "bar_style": "success",
      "description": "",
      "description_tooltip": null,
      "layout": "IPY_MODEL_6826a621d96c4b449b154c2cced6977a",
      "max": 28,
      "min": 0,
      "orientation": "horizontal",
      "style": "IPY_MODEL_7f4ca09645ce4de993f0ae1b7b8d4db1",
      "value": 28
     }
    },
    "6826a621d96c4b449b154c2cced6977a": {
     "model_module": "@jupyter-widgets/base",
     "model_module_version": "1.2.0",
     "model_name": "LayoutModel",
     "state": {
      "_model_module": "@jupyter-widgets/base",
      "_model_module_version": "1.2.0",
      "_model_name": "LayoutModel",
      "_view_count": null,
      "_view_module": "@jupyter-widgets/base",
      "_view_module_version": "1.2.0",
      "_view_name": "LayoutView",
      "align_content": null,
      "align_items": null,
      "align_self": null,
      "border": null,
      "bottom": null,
      "display": null,
      "flex": null,
      "flex_flow": null,
      "grid_area": null,
      "grid_auto_columns": null,
      "grid_auto_flow": null,
      "grid_auto_rows": null,
      "grid_column": null,
      "grid_gap": null,
      "grid_row": null,
      "grid_template_areas": null,
      "grid_template_columns": null,
      "grid_template_rows": null,
      "height": null,
      "justify_content": null,
      "justify_items": null,
      "left": null,
      "margin": null,
      "max_height": null,
      "max_width": null,
      "min_height": null,
      "min_width": null,
      "object_fit": null,
      "object_position": null,
      "order": null,
      "overflow": null,
      "overflow_x": null,
      "overflow_y": null,
      "padding": null,
      "right": null,
      "top": null,
      "visibility": null,
      "width": null
     }
    },
    "6ba8f87b264a45f2af3abfe34a14323a": {
     "model_module": "@jupyter-widgets/controls",
     "model_module_version": "1.5.0",
     "model_name": "DescriptionStyleModel",
     "state": {
      "_model_module": "@jupyter-widgets/controls",
      "_model_module_version": "1.5.0",
      "_model_name": "DescriptionStyleModel",
      "_view_count": null,
      "_view_module": "@jupyter-widgets/base",
      "_view_module_version": "1.2.0",
      "_view_name": "StyleView",
      "description_width": ""
     }
    },
    "6f1a6b97ffdc4d33bd78234e16f5511a": {
     "model_module": "@jupyter-widgets/controls",
     "model_module_version": "1.5.0",
     "model_name": "FloatProgressModel",
     "state": {
      "_dom_classes": [],
      "_model_module": "@jupyter-widgets/controls",
      "_model_module_version": "1.5.0",
      "_model_name": "FloatProgressModel",
      "_view_count": null,
      "_view_module": "@jupyter-widgets/controls",
      "_view_module_version": "1.5.0",
      "_view_name": "ProgressView",
      "bar_style": "success",
      "description": "",
      "description_tooltip": null,
      "layout": "IPY_MODEL_516caeb0c1604a9e8c8dd48cf708959b",
      "max": 570,
      "min": 0,
      "orientation": "horizontal",
      "style": "IPY_MODEL_dd44311324be454993c2ba566f45ac69",
      "value": 570
     }
    },
    "76c8375a41d347af92a048799617913f": {
     "model_module": "@jupyter-widgets/base",
     "model_module_version": "1.2.0",
     "model_name": "LayoutModel",
     "state": {
      "_model_module": "@jupyter-widgets/base",
      "_model_module_version": "1.2.0",
      "_model_name": "LayoutModel",
      "_view_count": null,
      "_view_module": "@jupyter-widgets/base",
      "_view_module_version": "1.2.0",
      "_view_name": "LayoutView",
      "align_content": null,
      "align_items": null,
      "align_self": null,
      "border": null,
      "bottom": null,
      "display": null,
      "flex": null,
      "flex_flow": null,
      "grid_area": null,
      "grid_auto_columns": null,
      "grid_auto_flow": null,
      "grid_auto_rows": null,
      "grid_column": null,
      "grid_gap": null,
      "grid_row": null,
      "grid_template_areas": null,
      "grid_template_columns": null,
      "grid_template_rows": null,
      "height": null,
      "justify_content": null,
      "justify_items": null,
      "left": null,
      "margin": null,
      "max_height": null,
      "max_width": null,
      "min_height": null,
      "min_width": null,
      "object_fit": null,
      "object_position": null,
      "order": null,
      "overflow": null,
      "overflow_x": null,
      "overflow_y": null,
      "padding": null,
      "right": null,
      "top": null,
      "visibility": null,
      "width": null
     }
    },
    "779e7c65e1774311b5d9931ef5ffcc95": {
     "model_module": "@jupyter-widgets/controls",
     "model_module_version": "1.5.0",
     "model_name": "DescriptionStyleModel",
     "state": {
      "_model_module": "@jupyter-widgets/controls",
      "_model_module_version": "1.5.0",
      "_model_name": "DescriptionStyleModel",
      "_view_count": null,
      "_view_module": "@jupyter-widgets/base",
      "_view_module_version": "1.2.0",
      "_view_name": "StyleView",
      "description_width": ""
     }
    },
    "788c9fc0a20d4f32a53cb3d02cb95267": {
     "model_module": "@jupyter-widgets/controls",
     "model_module_version": "1.5.0",
     "model_name": "HTMLModel",
     "state": {
      "_dom_classes": [],
      "_model_module": "@jupyter-widgets/controls",
      "_model_module_version": "1.5.0",
      "_model_name": "HTMLModel",
      "_view_count": null,
      "_view_module": "@jupyter-widgets/controls",
      "_view_module_version": "1.5.0",
      "_view_name": "HTMLView",
      "description": "",
      "description_tooltip": null,
      "layout": "IPY_MODEL_827242c660c942f6b02dc566cceaeaab",
      "placeholder": "​",
      "style": "IPY_MODEL_44522dac1cba474793535ebf176711f2",
      "value": "Downloading: 100%"
     }
    },
    "7b6bba4c98db4d0c97cdedef36982675": {
     "model_module": "@jupyter-widgets/controls",
     "model_module_version": "1.5.0",
     "model_name": "HTMLModel",
     "state": {
      "_dom_classes": [],
      "_model_module": "@jupyter-widgets/controls",
      "_model_module_version": "1.5.0",
      "_model_name": "HTMLModel",
      "_view_count": null,
      "_view_module": "@jupyter-widgets/controls",
      "_view_module_version": "1.5.0",
      "_view_name": "HTMLView",
      "description": "",
      "description_tooltip": null,
      "layout": "IPY_MODEL_a77b360f169e47a5a828ced9af39c8c2",
      "placeholder": "​",
      "style": "IPY_MODEL_779e7c65e1774311b5d9931ef5ffcc95",
      "value": " 28.0/28.0 [00:00&lt;00:00, 644B/s]"
     }
    },
    "7f4ca09645ce4de993f0ae1b7b8d4db1": {
     "model_module": "@jupyter-widgets/controls",
     "model_module_version": "1.5.0",
     "model_name": "ProgressStyleModel",
     "state": {
      "_model_module": "@jupyter-widgets/controls",
      "_model_module_version": "1.5.0",
      "_model_name": "ProgressStyleModel",
      "_view_count": null,
      "_view_module": "@jupyter-widgets/base",
      "_view_module_version": "1.2.0",
      "_view_name": "StyleView",
      "bar_color": null,
      "description_width": ""
     }
    },
    "827242c660c942f6b02dc566cceaeaab": {
     "model_module": "@jupyter-widgets/base",
     "model_module_version": "1.2.0",
     "model_name": "LayoutModel",
     "state": {
      "_model_module": "@jupyter-widgets/base",
      "_model_module_version": "1.2.0",
      "_model_name": "LayoutModel",
      "_view_count": null,
      "_view_module": "@jupyter-widgets/base",
      "_view_module_version": "1.2.0",
      "_view_name": "LayoutView",
      "align_content": null,
      "align_items": null,
      "align_self": null,
      "border": null,
      "bottom": null,
      "display": null,
      "flex": null,
      "flex_flow": null,
      "grid_area": null,
      "grid_auto_columns": null,
      "grid_auto_flow": null,
      "grid_auto_rows": null,
      "grid_column": null,
      "grid_gap": null,
      "grid_row": null,
      "grid_template_areas": null,
      "grid_template_columns": null,
      "grid_template_rows": null,
      "height": null,
      "justify_content": null,
      "justify_items": null,
      "left": null,
      "margin": null,
      "max_height": null,
      "max_width": null,
      "min_height": null,
      "min_width": null,
      "object_fit": null,
      "object_position": null,
      "order": null,
      "overflow": null,
      "overflow_x": null,
      "overflow_y": null,
      "padding": null,
      "right": null,
      "top": null,
      "visibility": null,
      "width": null
     }
    },
    "87645fb2f7d04f16aa1e995363a0b44c": {
     "model_module": "@jupyter-widgets/controls",
     "model_module_version": "1.5.0",
     "model_name": "HBoxModel",
     "state": {
      "_dom_classes": [],
      "_model_module": "@jupyter-widgets/controls",
      "_model_module_version": "1.5.0",
      "_model_name": "HBoxModel",
      "_view_count": null,
      "_view_module": "@jupyter-widgets/controls",
      "_view_module_version": "1.5.0",
      "_view_name": "HBoxView",
      "box_style": "",
      "children": [
       "IPY_MODEL_9304f39462ea408a899cf81d45473eea",
       "IPY_MODEL_654a588cf22c420fb6311fb229bedd0a",
       "IPY_MODEL_7b6bba4c98db4d0c97cdedef36982675"
      ],
      "layout": "IPY_MODEL_d36cdcaa507d4361a9808e58d0d20465"
     }
    },
    "8ba4e87065634e01a49a9110110c63fd": {
     "model_module": "@jupyter-widgets/controls",
     "model_module_version": "1.5.0",
     "model_name": "HTMLModel",
     "state": {
      "_dom_classes": [],
      "_model_module": "@jupyter-widgets/controls",
      "_model_module_version": "1.5.0",
      "_model_name": "HTMLModel",
      "_view_count": null,
      "_view_module": "@jupyter-widgets/controls",
      "_view_module_version": "1.5.0",
      "_view_name": "HTMLView",
      "description": "",
      "description_tooltip": null,
      "layout": "IPY_MODEL_5efd0b35938d436e855ba571a9a74ba2",
      "placeholder": "​",
      "style": "IPY_MODEL_d97653e34cf7488eb4ff5e58e392e81e",
      "value": "Downloading: 100%"
     }
    },
    "9304f39462ea408a899cf81d45473eea": {
     "model_module": "@jupyter-widgets/controls",
     "model_module_version": "1.5.0",
     "model_name": "HTMLModel",
     "state": {
      "_dom_classes": [],
      "_model_module": "@jupyter-widgets/controls",
      "_model_module_version": "1.5.0",
      "_model_name": "HTMLModel",
      "_view_count": null,
      "_view_module": "@jupyter-widgets/controls",
      "_view_module_version": "1.5.0",
      "_view_name": "HTMLView",
      "description": "",
      "description_tooltip": null,
      "layout": "IPY_MODEL_c7de087c8366430a8bba8c8be4f0526c",
      "placeholder": "​",
      "style": "IPY_MODEL_adc596d5a26440c0a8bf4bf9c6f4eb2b",
      "value": "Downloading: 100%"
     }
    },
    "9434393dccd247a3950334260952713b": {
     "model_module": "@jupyter-widgets/base",
     "model_module_version": "1.2.0",
     "model_name": "LayoutModel",
     "state": {
      "_model_module": "@jupyter-widgets/base",
      "_model_module_version": "1.2.0",
      "_model_name": "LayoutModel",
      "_view_count": null,
      "_view_module": "@jupyter-widgets/base",
      "_view_module_version": "1.2.0",
      "_view_name": "LayoutView",
      "align_content": null,
      "align_items": null,
      "align_self": null,
      "border": null,
      "bottom": null,
      "display": null,
      "flex": null,
      "flex_flow": null,
      "grid_area": null,
      "grid_auto_columns": null,
      "grid_auto_flow": null,
      "grid_auto_rows": null,
      "grid_column": null,
      "grid_gap": null,
      "grid_row": null,
      "grid_template_areas": null,
      "grid_template_columns": null,
      "grid_template_rows": null,
      "height": null,
      "justify_content": null,
      "justify_items": null,
      "left": null,
      "margin": null,
      "max_height": null,
      "max_width": null,
      "min_height": null,
      "min_width": null,
      "object_fit": null,
      "object_position": null,
      "order": null,
      "overflow": null,
      "overflow_x": null,
      "overflow_y": null,
      "padding": null,
      "right": null,
      "top": null,
      "visibility": null,
      "width": null
     }
    },
    "a09ace0c01d3440ca1f34d59fd435fa7": {
     "model_module": "@jupyter-widgets/controls",
     "model_module_version": "1.5.0",
     "model_name": "ProgressStyleModel",
     "state": {
      "_model_module": "@jupyter-widgets/controls",
      "_model_module_version": "1.5.0",
      "_model_name": "ProgressStyleModel",
      "_view_count": null,
      "_view_module": "@jupyter-widgets/base",
      "_view_module_version": "1.2.0",
      "_view_name": "StyleView",
      "bar_color": null,
      "description_width": ""
     }
    },
    "a44e80997a984060a730e84d6a882de2": {
     "model_module": "@jupyter-widgets/controls",
     "model_module_version": "1.5.0",
     "model_name": "HTMLModel",
     "state": {
      "_dom_classes": [],
      "_model_module": "@jupyter-widgets/controls",
      "_model_module_version": "1.5.0",
      "_model_name": "HTMLModel",
      "_view_count": null,
      "_view_module": "@jupyter-widgets/controls",
      "_view_module_version": "1.5.0",
      "_view_name": "HTMLView",
      "description": "",
      "description_tooltip": null,
      "layout": "IPY_MODEL_b0a5d5a031e94227943c884aa51edb4d",
      "placeholder": "​",
      "style": "IPY_MODEL_6ba8f87b264a45f2af3abfe34a14323a",
      "value": " 226k/226k [00:00&lt;00:00, 992kB/s]"
     }
    },
    "a77b360f169e47a5a828ced9af39c8c2": {
     "model_module": "@jupyter-widgets/base",
     "model_module_version": "1.2.0",
     "model_name": "LayoutModel",
     "state": {
      "_model_module": "@jupyter-widgets/base",
      "_model_module_version": "1.2.0",
      "_model_name": "LayoutModel",
      "_view_count": null,
      "_view_module": "@jupyter-widgets/base",
      "_view_module_version": "1.2.0",
      "_view_name": "LayoutView",
      "align_content": null,
      "align_items": null,
      "align_self": null,
      "border": null,
      "bottom": null,
      "display": null,
      "flex": null,
      "flex_flow": null,
      "grid_area": null,
      "grid_auto_columns": null,
      "grid_auto_flow": null,
      "grid_auto_rows": null,
      "grid_column": null,
      "grid_gap": null,
      "grid_row": null,
      "grid_template_areas": null,
      "grid_template_columns": null,
      "grid_template_rows": null,
      "height": null,
      "justify_content": null,
      "justify_items": null,
      "left": null,
      "margin": null,
      "max_height": null,
      "max_width": null,
      "min_height": null,
      "min_width": null,
      "object_fit": null,
      "object_position": null,
      "order": null,
      "overflow": null,
      "overflow_x": null,
      "overflow_y": null,
      "padding": null,
      "right": null,
      "top": null,
      "visibility": null,
      "width": null
     }
    },
    "a928c3860b87415c8c15b24f65a7ef87": {
     "model_module": "@jupyter-widgets/controls",
     "model_module_version": "1.5.0",
     "model_name": "ProgressStyleModel",
     "state": {
      "_model_module": "@jupyter-widgets/controls",
      "_model_module_version": "1.5.0",
      "_model_name": "ProgressStyleModel",
      "_view_count": null,
      "_view_module": "@jupyter-widgets/base",
      "_view_module_version": "1.2.0",
      "_view_name": "StyleView",
      "bar_color": null,
      "description_width": ""
     }
    },
    "adc596d5a26440c0a8bf4bf9c6f4eb2b": {
     "model_module": "@jupyter-widgets/controls",
     "model_module_version": "1.5.0",
     "model_name": "DescriptionStyleModel",
     "state": {
      "_model_module": "@jupyter-widgets/controls",
      "_model_module_version": "1.5.0",
      "_model_name": "DescriptionStyleModel",
      "_view_count": null,
      "_view_module": "@jupyter-widgets/base",
      "_view_module_version": "1.2.0",
      "_view_name": "StyleView",
      "description_width": ""
     }
    },
    "af9723e2233942318a99276c175f4618": {
     "model_module": "@jupyter-widgets/controls",
     "model_module_version": "1.5.0",
     "model_name": "HTMLModel",
     "state": {
      "_dom_classes": [],
      "_model_module": "@jupyter-widgets/controls",
      "_model_module_version": "1.5.0",
      "_model_name": "HTMLModel",
      "_view_count": null,
      "_view_module": "@jupyter-widgets/controls",
      "_view_module_version": "1.5.0",
      "_view_name": "HTMLView",
      "description": "",
      "description_tooltip": null,
      "layout": "IPY_MODEL_c3cdfc8ffa58423eaf8d828e7268e6df",
      "placeholder": "​",
      "style": "IPY_MODEL_eb6dd7f7d850429dbf6cffedaf0b7cf5",
      "value": " 455k/455k [00:01&lt;00:00, 320kB/s]"
     }
    },
    "b0a5d5a031e94227943c884aa51edb4d": {
     "model_module": "@jupyter-widgets/base",
     "model_module_version": "1.2.0",
     "model_name": "LayoutModel",
     "state": {
      "_model_module": "@jupyter-widgets/base",
      "_model_module_version": "1.2.0",
      "_model_name": "LayoutModel",
      "_view_count": null,
      "_view_module": "@jupyter-widgets/base",
      "_view_module_version": "1.2.0",
      "_view_name": "LayoutView",
      "align_content": null,
      "align_items": null,
      "align_self": null,
      "border": null,
      "bottom": null,
      "display": null,
      "flex": null,
      "flex_flow": null,
      "grid_area": null,
      "grid_auto_columns": null,
      "grid_auto_flow": null,
      "grid_auto_rows": null,
      "grid_column": null,
      "grid_gap": null,
      "grid_row": null,
      "grid_template_areas": null,
      "grid_template_columns": null,
      "grid_template_rows": null,
      "height": null,
      "justify_content": null,
      "justify_items": null,
      "left": null,
      "margin": null,
      "max_height": null,
      "max_width": null,
      "min_height": null,
      "min_width": null,
      "object_fit": null,
      "object_position": null,
      "order": null,
      "overflow": null,
      "overflow_x": null,
      "overflow_y": null,
      "padding": null,
      "right": null,
      "top": null,
      "visibility": null,
      "width": null
     }
    },
    "c3bfb49276fd4ffc8070914fc9d99df4": {
     "model_module": "@jupyter-widgets/base",
     "model_module_version": "1.2.0",
     "model_name": "LayoutModel",
     "state": {
      "_model_module": "@jupyter-widgets/base",
      "_model_module_version": "1.2.0",
      "_model_name": "LayoutModel",
      "_view_count": null,
      "_view_module": "@jupyter-widgets/base",
      "_view_module_version": "1.2.0",
      "_view_name": "LayoutView",
      "align_content": null,
      "align_items": null,
      "align_self": null,
      "border": null,
      "bottom": null,
      "display": null,
      "flex": null,
      "flex_flow": null,
      "grid_area": null,
      "grid_auto_columns": null,
      "grid_auto_flow": null,
      "grid_auto_rows": null,
      "grid_column": null,
      "grid_gap": null,
      "grid_row": null,
      "grid_template_areas": null,
      "grid_template_columns": null,
      "grid_template_rows": null,
      "height": null,
      "justify_content": null,
      "justify_items": null,
      "left": null,
      "margin": null,
      "max_height": null,
      "max_width": null,
      "min_height": null,
      "min_width": null,
      "object_fit": null,
      "object_position": null,
      "order": null,
      "overflow": null,
      "overflow_x": null,
      "overflow_y": null,
      "padding": null,
      "right": null,
      "top": null,
      "visibility": null,
      "width": null
     }
    },
    "c3cdfc8ffa58423eaf8d828e7268e6df": {
     "model_module": "@jupyter-widgets/base",
     "model_module_version": "1.2.0",
     "model_name": "LayoutModel",
     "state": {
      "_model_module": "@jupyter-widgets/base",
      "_model_module_version": "1.2.0",
      "_model_name": "LayoutModel",
      "_view_count": null,
      "_view_module": "@jupyter-widgets/base",
      "_view_module_version": "1.2.0",
      "_view_name": "LayoutView",
      "align_content": null,
      "align_items": null,
      "align_self": null,
      "border": null,
      "bottom": null,
      "display": null,
      "flex": null,
      "flex_flow": null,
      "grid_area": null,
      "grid_auto_columns": null,
      "grid_auto_flow": null,
      "grid_auto_rows": null,
      "grid_column": null,
      "grid_gap": null,
      "grid_row": null,
      "grid_template_areas": null,
      "grid_template_columns": null,
      "grid_template_rows": null,
      "height": null,
      "justify_content": null,
      "justify_items": null,
      "left": null,
      "margin": null,
      "max_height": null,
      "max_width": null,
      "min_height": null,
      "min_width": null,
      "object_fit": null,
      "object_position": null,
      "order": null,
      "overflow": null,
      "overflow_x": null,
      "overflow_y": null,
      "padding": null,
      "right": null,
      "top": null,
      "visibility": null,
      "width": null
     }
    },
    "c7de087c8366430a8bba8c8be4f0526c": {
     "model_module": "@jupyter-widgets/base",
     "model_module_version": "1.2.0",
     "model_name": "LayoutModel",
     "state": {
      "_model_module": "@jupyter-widgets/base",
      "_model_module_version": "1.2.0",
      "_model_name": "LayoutModel",
      "_view_count": null,
      "_view_module": "@jupyter-widgets/base",
      "_view_module_version": "1.2.0",
      "_view_name": "LayoutView",
      "align_content": null,
      "align_items": null,
      "align_self": null,
      "border": null,
      "bottom": null,
      "display": null,
      "flex": null,
      "flex_flow": null,
      "grid_area": null,
      "grid_auto_columns": null,
      "grid_auto_flow": null,
      "grid_auto_rows": null,
      "grid_column": null,
      "grid_gap": null,
      "grid_row": null,
      "grid_template_areas": null,
      "grid_template_columns": null,
      "grid_template_rows": null,
      "height": null,
      "justify_content": null,
      "justify_items": null,
      "left": null,
      "margin": null,
      "max_height": null,
      "max_width": null,
      "min_height": null,
      "min_width": null,
      "object_fit": null,
      "object_position": null,
      "order": null,
      "overflow": null,
      "overflow_x": null,
      "overflow_y": null,
      "padding": null,
      "right": null,
      "top": null,
      "visibility": null,
      "width": null
     }
    },
    "cd7eb93bf7d9401385cb3e14dc642c7c": {
     "model_module": "@jupyter-widgets/controls",
     "model_module_version": "1.5.0",
     "model_name": "FloatProgressModel",
     "state": {
      "_dom_classes": [],
      "_model_module": "@jupyter-widgets/controls",
      "_model_module_version": "1.5.0",
      "_model_name": "FloatProgressModel",
      "_view_count": null,
      "_view_module": "@jupyter-widgets/controls",
      "_view_module_version": "1.5.0",
      "_view_name": "ProgressView",
      "bar_style": "success",
      "description": "",
      "description_tooltip": null,
      "layout": "IPY_MODEL_76c8375a41d347af92a048799617913f",
      "max": 466062,
      "min": 0,
      "orientation": "horizontal",
      "style": "IPY_MODEL_d1782b4053004ce6bed17139397bd3eb",
      "value": 466062
     }
    },
    "d1782b4053004ce6bed17139397bd3eb": {
     "model_module": "@jupyter-widgets/controls",
     "model_module_version": "1.5.0",
     "model_name": "ProgressStyleModel",
     "state": {
      "_model_module": "@jupyter-widgets/controls",
      "_model_module_version": "1.5.0",
      "_model_name": "ProgressStyleModel",
      "_view_count": null,
      "_view_module": "@jupyter-widgets/base",
      "_view_module_version": "1.2.0",
      "_view_name": "StyleView",
      "bar_color": null,
      "description_width": ""
     }
    },
    "d36cdcaa507d4361a9808e58d0d20465": {
     "model_module": "@jupyter-widgets/base",
     "model_module_version": "1.2.0",
     "model_name": "LayoutModel",
     "state": {
      "_model_module": "@jupyter-widgets/base",
      "_model_module_version": "1.2.0",
      "_model_name": "LayoutModel",
      "_view_count": null,
      "_view_module": "@jupyter-widgets/base",
      "_view_module_version": "1.2.0",
      "_view_name": "LayoutView",
      "align_content": null,
      "align_items": null,
      "align_self": null,
      "border": null,
      "bottom": null,
      "display": null,
      "flex": null,
      "flex_flow": null,
      "grid_area": null,
      "grid_auto_columns": null,
      "grid_auto_flow": null,
      "grid_auto_rows": null,
      "grid_column": null,
      "grid_gap": null,
      "grid_row": null,
      "grid_template_areas": null,
      "grid_template_columns": null,
      "grid_template_rows": null,
      "height": null,
      "justify_content": null,
      "justify_items": null,
      "left": null,
      "margin": null,
      "max_height": null,
      "max_width": null,
      "min_height": null,
      "min_width": null,
      "object_fit": null,
      "object_position": null,
      "order": null,
      "overflow": null,
      "overflow_x": null,
      "overflow_y": null,
      "padding": null,
      "right": null,
      "top": null,
      "visibility": null,
      "width": null
     }
    },
    "d44ba67c459548b6af61b26f8645a2be": {
     "model_module": "@jupyter-widgets/controls",
     "model_module_version": "1.5.0",
     "model_name": "DescriptionStyleModel",
     "state": {
      "_model_module": "@jupyter-widgets/controls",
      "_model_module_version": "1.5.0",
      "_model_name": "DescriptionStyleModel",
      "_view_count": null,
      "_view_module": "@jupyter-widgets/base",
      "_view_module_version": "1.2.0",
      "_view_name": "StyleView",
      "description_width": ""
     }
    },
    "d6ce7767de2944978842875d845848a0": {
     "model_module": "@jupyter-widgets/controls",
     "model_module_version": "1.5.0",
     "model_name": "FloatProgressModel",
     "state": {
      "_dom_classes": [],
      "_model_module": "@jupyter-widgets/controls",
      "_model_module_version": "1.5.0",
      "_model_name": "FloatProgressModel",
      "_view_count": null,
      "_view_module": "@jupyter-widgets/controls",
      "_view_module_version": "1.5.0",
      "_view_name": "ProgressView",
      "bar_style": "success",
      "description": "",
      "description_tooltip": null,
      "layout": "IPY_MODEL_51886344d0b54d1bad795d939254b043",
      "max": 536063208,
      "min": 0,
      "orientation": "horizontal",
      "style": "IPY_MODEL_a09ace0c01d3440ca1f34d59fd435fa7",
      "value": 536063208
     }
    },
    "d8c2391d6e07433e9bbe2a7abb7219ef": {
     "model_module": "@jupyter-widgets/controls",
     "model_module_version": "1.5.0",
     "model_name": "HBoxModel",
     "state": {
      "_dom_classes": [],
      "_model_module": "@jupyter-widgets/controls",
      "_model_module_version": "1.5.0",
      "_model_name": "HBoxModel",
      "_view_count": null,
      "_view_module": "@jupyter-widgets/controls",
      "_view_module_version": "1.5.0",
      "_view_name": "HBoxView",
      "box_style": "",
      "children": [
       "IPY_MODEL_788c9fc0a20d4f32a53cb3d02cb95267",
       "IPY_MODEL_cd7eb93bf7d9401385cb3e14dc642c7c",
       "IPY_MODEL_af9723e2233942318a99276c175f4618"
      ],
      "layout": "IPY_MODEL_42c06ce7ee804553a778bfca57161eca"
     }
    },
    "d972a51bf39944818d11abe6e1995df4": {
     "model_module": "@jupyter-widgets/base",
     "model_module_version": "1.2.0",
     "model_name": "LayoutModel",
     "state": {
      "_model_module": "@jupyter-widgets/base",
      "_model_module_version": "1.2.0",
      "_model_name": "LayoutModel",
      "_view_count": null,
      "_view_module": "@jupyter-widgets/base",
      "_view_module_version": "1.2.0",
      "_view_name": "LayoutView",
      "align_content": null,
      "align_items": null,
      "align_self": null,
      "border": null,
      "bottom": null,
      "display": null,
      "flex": null,
      "flex_flow": null,
      "grid_area": null,
      "grid_auto_columns": null,
      "grid_auto_flow": null,
      "grid_auto_rows": null,
      "grid_column": null,
      "grid_gap": null,
      "grid_row": null,
      "grid_template_areas": null,
      "grid_template_columns": null,
      "grid_template_rows": null,
      "height": null,
      "justify_content": null,
      "justify_items": null,
      "left": null,
      "margin": null,
      "max_height": null,
      "max_width": null,
      "min_height": null,
      "min_width": null,
      "object_fit": null,
      "object_position": null,
      "order": null,
      "overflow": null,
      "overflow_x": null,
      "overflow_y": null,
      "padding": null,
      "right": null,
      "top": null,
      "visibility": null,
      "width": null
     }
    },
    "d97653e34cf7488eb4ff5e58e392e81e": {
     "model_module": "@jupyter-widgets/controls",
     "model_module_version": "1.5.0",
     "model_name": "DescriptionStyleModel",
     "state": {
      "_model_module": "@jupyter-widgets/controls",
      "_model_module_version": "1.5.0",
      "_model_name": "DescriptionStyleModel",
      "_view_count": null,
      "_view_module": "@jupyter-widgets/base",
      "_view_module_version": "1.2.0",
      "_view_name": "StyleView",
      "description_width": ""
     }
    },
    "dd44311324be454993c2ba566f45ac69": {
     "model_module": "@jupyter-widgets/controls",
     "model_module_version": "1.5.0",
     "model_name": "ProgressStyleModel",
     "state": {
      "_model_module": "@jupyter-widgets/controls",
      "_model_module_version": "1.5.0",
      "_model_name": "ProgressStyleModel",
      "_view_count": null,
      "_view_module": "@jupyter-widgets/base",
      "_view_module_version": "1.2.0",
      "_view_name": "StyleView",
      "bar_color": null,
      "description_width": ""
     }
    },
    "e2bcb61d0b86405590e118ed446dde03": {
     "model_module": "@jupyter-widgets/base",
     "model_module_version": "1.2.0",
     "model_name": "LayoutModel",
     "state": {
      "_model_module": "@jupyter-widgets/base",
      "_model_module_version": "1.2.0",
      "_model_name": "LayoutModel",
      "_view_count": null,
      "_view_module": "@jupyter-widgets/base",
      "_view_module_version": "1.2.0",
      "_view_name": "LayoutView",
      "align_content": null,
      "align_items": null,
      "align_self": null,
      "border": null,
      "bottom": null,
      "display": null,
      "flex": null,
      "flex_flow": null,
      "grid_area": null,
      "grid_auto_columns": null,
      "grid_auto_flow": null,
      "grid_auto_rows": null,
      "grid_column": null,
      "grid_gap": null,
      "grid_row": null,
      "grid_template_areas": null,
      "grid_template_columns": null,
      "grid_template_rows": null,
      "height": null,
      "justify_content": null,
      "justify_items": null,
      "left": null,
      "margin": null,
      "max_height": null,
      "max_width": null,
      "min_height": null,
      "min_width": null,
      "object_fit": null,
      "object_position": null,
      "order": null,
      "overflow": null,
      "overflow_x": null,
      "overflow_y": null,
      "padding": null,
      "right": null,
      "top": null,
      "visibility": null,
      "width": null
     }
    },
    "e2f45efc272b4d47a6c16be23fd0bb65": {
     "model_module": "@jupyter-widgets/controls",
     "model_module_version": "1.5.0",
     "model_name": "HTMLModel",
     "state": {
      "_dom_classes": [],
      "_model_module": "@jupyter-widgets/controls",
      "_model_module_version": "1.5.0",
      "_model_name": "HTMLModel",
      "_view_count": null,
      "_view_module": "@jupyter-widgets/controls",
      "_view_module_version": "1.5.0",
      "_view_name": "HTMLView",
      "description": "",
      "description_tooltip": null,
      "layout": "IPY_MODEL_5ab0f529c5844025b18ec3c880c208ed",
      "placeholder": "​",
      "style": "IPY_MODEL_079fe1ce0b2f43388f52fc48f6435cee",
      "value": "Downloading: 100%"
     }
    },
    "eb6dd7f7d850429dbf6cffedaf0b7cf5": {
     "model_module": "@jupyter-widgets/controls",
     "model_module_version": "1.5.0",
     "model_name": "DescriptionStyleModel",
     "state": {
      "_model_module": "@jupyter-widgets/controls",
      "_model_module_version": "1.5.0",
      "_model_name": "DescriptionStyleModel",
      "_view_count": null,
      "_view_module": "@jupyter-widgets/base",
      "_view_module_version": "1.2.0",
      "_view_name": "StyleView",
      "description_width": ""
     }
    },
    "ebecca8cf02d48e2a3659f7a19dd1ab1": {
     "model_module": "@jupyter-widgets/controls",
     "model_module_version": "1.5.0",
     "model_name": "HBoxModel",
     "state": {
      "_dom_classes": [],
      "_model_module": "@jupyter-widgets/controls",
      "_model_module_version": "1.5.0",
      "_model_name": "HBoxModel",
      "_view_count": null,
      "_view_module": "@jupyter-widgets/controls",
      "_view_module_version": "1.5.0",
      "_view_name": "HBoxView",
      "box_style": "",
      "children": [
       "IPY_MODEL_8ba4e87065634e01a49a9110110c63fd",
       "IPY_MODEL_199a092c08b2410bbef72449598b63ea",
       "IPY_MODEL_a44e80997a984060a730e84d6a882de2"
      ],
      "layout": "IPY_MODEL_4f9280d86b754637b8f0846afa222691"
     }
    },
    "eec6132d5198452291c8df4c14a544aa": {
     "model_module": "@jupyter-widgets/controls",
     "model_module_version": "1.5.0",
     "model_name": "HBoxModel",
     "state": {
      "_dom_classes": [],
      "_model_module": "@jupyter-widgets/controls",
      "_model_module_version": "1.5.0",
      "_model_name": "HBoxModel",
      "_view_count": null,
      "_view_module": "@jupyter-widgets/controls",
      "_view_module_version": "1.5.0",
      "_view_name": "HBoxView",
      "box_style": "",
      "children": [
       "IPY_MODEL_530ba51e099e41c5bb92936d7645b857",
       "IPY_MODEL_d6ce7767de2944978842875d845848a0",
       "IPY_MODEL_05670602f7534d03a2a86925f78e681f"
      ],
      "layout": "IPY_MODEL_0c1d1707f8914e28ae74340913b46d94"
     }
    }
   }
  }
 },
 "nbformat": 4,
 "nbformat_minor": 4
}
