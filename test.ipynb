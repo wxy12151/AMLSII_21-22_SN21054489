{
 "cells": [
  {
   "cell_type": "code",
   "execution_count": null,
   "metadata": {
    "collapsed": true,
    "pycharm": {
     "is_executing": true
    }
   },
   "outputs": [],
   "source": [
    "import pandas as pd\n",
    "import matplotlib\n",
    "import matplotlib.pyplot as plt\n",
    "\n",
    "from sklearn.model_selection import train_test_split\n",
    "\n",
    "import tensorflow as tf"
   ]
  },
  {
   "cell_type": "markdown",
   "source": [
    "# 1. Load the dataset"
   ],
   "metadata": {
    "collapsed": false
   }
  },
  {
   "cell_type": "code",
   "execution_count": null,
   "outputs": [],
   "source": [
    "### unzip training and test datasets.\n",
    "# !apt-get install unzip\n",
    "# !unzip ./sentiment-analysis-on-movie-reviews/test.tsv.zip test.tsv\n",
    "# !unzip ./sentiment-analysis-on-movie-reviews/train.tsv.zip train.tsv\n",
    "# !unzip ./sentiment-analysis-on-movie-reviews/train.tsv.zip train.tsv"
   ],
   "metadata": {
    "collapsed": false,
    "pycharm": {
     "name": "#%%\n",
     "is_executing": true
    }
   }
  },
  {
   "cell_type": "code",
   "execution_count": 14,
   "outputs": [],
   "source": [
    "df = pd.read_csv('train.tsv', sep='\\t')\n",
    "df_test=pd.read_csv('test.tsv', sep='\\t')\n",
    "sample_submission = pd.read_csv('./sentiment-analysis-on-movie-reviews/sampleSubmission.csv')"
   ],
   "metadata": {
    "collapsed": false,
    "pycharm": {
     "name": "#%%\n"
    }
   }
  },
  {
   "cell_type": "code",
   "execution_count": 15,
   "outputs": [
    {
     "data": {
      "text/plain": "   PhraseId  SentenceId                                             Phrase  \\\n0         1           1  A series of escapades demonstrating the adage ...   \n1         2           1  A series of escapades demonstrating the adage ...   \n2         3           1                                           A series   \n3         4           1                                                  A   \n4         5           1                                             series   \n\n   Sentiment  \n0          1  \n1          2  \n2          2  \n3          2  \n4          2  ",
      "text/html": "<div>\n<style scoped>\n    .dataframe tbody tr th:only-of-type {\n        vertical-align: middle;\n    }\n\n    .dataframe tbody tr th {\n        vertical-align: top;\n    }\n\n    .dataframe thead th {\n        text-align: right;\n    }\n</style>\n<table border=\"1\" class=\"dataframe\">\n  <thead>\n    <tr style=\"text-align: right;\">\n      <th></th>\n      <th>PhraseId</th>\n      <th>SentenceId</th>\n      <th>Phrase</th>\n      <th>Sentiment</th>\n    </tr>\n  </thead>\n  <tbody>\n    <tr>\n      <th>0</th>\n      <td>1</td>\n      <td>1</td>\n      <td>A series of escapades demonstrating the adage ...</td>\n      <td>1</td>\n    </tr>\n    <tr>\n      <th>1</th>\n      <td>2</td>\n      <td>1</td>\n      <td>A series of escapades demonstrating the adage ...</td>\n      <td>2</td>\n    </tr>\n    <tr>\n      <th>2</th>\n      <td>3</td>\n      <td>1</td>\n      <td>A series</td>\n      <td>2</td>\n    </tr>\n    <tr>\n      <th>3</th>\n      <td>4</td>\n      <td>1</td>\n      <td>A</td>\n      <td>2</td>\n    </tr>\n    <tr>\n      <th>4</th>\n      <td>5</td>\n      <td>1</td>\n      <td>series</td>\n      <td>2</td>\n    </tr>\n  </tbody>\n</table>\n</div>"
     },
     "execution_count": 15,
     "metadata": {},
     "output_type": "execute_result"
    }
   ],
   "source": [
    "df.head()"
   ],
   "metadata": {
    "collapsed": false,
    "pycharm": {
     "name": "#%%\n"
    }
   }
  },
  {
   "cell_type": "code",
   "execution_count": 16,
   "outputs": [
    {
     "data": {
      "text/plain": "   PhraseId  SentenceId                                             Phrase\n0    156061        8545  An intermittently pleasing but mostly routine ...\n1    156062        8545  An intermittently pleasing but mostly routine ...\n2    156063        8545                                                 An\n3    156064        8545  intermittently pleasing but mostly routine effort\n4    156065        8545         intermittently pleasing but mostly routine",
      "text/html": "<div>\n<style scoped>\n    .dataframe tbody tr th:only-of-type {\n        vertical-align: middle;\n    }\n\n    .dataframe tbody tr th {\n        vertical-align: top;\n    }\n\n    .dataframe thead th {\n        text-align: right;\n    }\n</style>\n<table border=\"1\" class=\"dataframe\">\n  <thead>\n    <tr style=\"text-align: right;\">\n      <th></th>\n      <th>PhraseId</th>\n      <th>SentenceId</th>\n      <th>Phrase</th>\n    </tr>\n  </thead>\n  <tbody>\n    <tr>\n      <th>0</th>\n      <td>156061</td>\n      <td>8545</td>\n      <td>An intermittently pleasing but mostly routine ...</td>\n    </tr>\n    <tr>\n      <th>1</th>\n      <td>156062</td>\n      <td>8545</td>\n      <td>An intermittently pleasing but mostly routine ...</td>\n    </tr>\n    <tr>\n      <th>2</th>\n      <td>156063</td>\n      <td>8545</td>\n      <td>An</td>\n    </tr>\n    <tr>\n      <th>3</th>\n      <td>156064</td>\n      <td>8545</td>\n      <td>intermittently pleasing but mostly routine effort</td>\n    </tr>\n    <tr>\n      <th>4</th>\n      <td>156065</td>\n      <td>8545</td>\n      <td>intermittently pleasing but mostly routine</td>\n    </tr>\n  </tbody>\n</table>\n</div>"
     },
     "execution_count": 16,
     "metadata": {},
     "output_type": "execute_result"
    }
   ],
   "source": [
    "df_test.head()"
   ],
   "metadata": {
    "collapsed": false,
    "pycharm": {
     "name": "#%%\n"
    }
   }
  },
  {
   "cell_type": "code",
   "execution_count": 17,
   "outputs": [
    {
     "data": {
      "text/plain": "((156060, 4), (66292, 3))"
     },
     "execution_count": 17,
     "metadata": {},
     "output_type": "execute_result"
    }
   ],
   "source": [
    "df.shape, df_test.shape"
   ],
   "metadata": {
    "collapsed": false,
    "pycharm": {
     "name": "#%%\n"
    }
   }
  },
  {
   "cell_type": "markdown",
   "source": [
    "We can see that df_test's Sentiment/label is not available, thus we need to create our own test dataset for evaluation."
   ],
   "metadata": {
    "collapsed": false,
    "pycharm": {
     "name": "#%% md\n"
    }
   }
  },
  {
   "cell_type": "markdown",
   "source": [
    "# 2. Split into train(validation within it) and test"
   ],
   "metadata": {
    "collapsed": false,
    "pycharm": {
     "name": "#%% md\n"
    }
   }
  },
  {
   "cell_type": "markdown",
   "source": [],
   "metadata": {
    "collapsed": false,
    "pycharm": {
     "name": "#%% md\n"
    }
   }
  },
  {
   "cell_type": "code",
   "execution_count": 20,
   "outputs": [],
   "source": [
    "df_train, df_test = train_test_split(df, test_size = 0.1, random_state = 3) #test:train = 1:9"
   ],
   "metadata": {
    "collapsed": false,
    "pycharm": {
     "name": "#%%\n"
    }
   }
  },
  {
   "cell_type": "markdown",
   "source": [
    "# 3. Data Analytics"
   ],
   "metadata": {
    "collapsed": false,
    "pycharm": {
     "name": "#%% md\n"
    }
   }
  },
  {
   "cell_type": "markdown",
   "source": [
    "## 3.1 Dataset overview"
   ],
   "metadata": {
    "collapsed": false,
    "pycharm": {
     "name": "#%% md\n"
    }
   }
  },
  {
   "cell_type": "code",
   "execution_count": 21,
   "outputs": [
    {
     "data": {
      "text/plain": "((140454, 4), (15606, 4))"
     },
     "execution_count": 21,
     "metadata": {},
     "output_type": "execute_result"
    }
   ],
   "source": [
    "df_train.shape, df_test.shape"
   ],
   "metadata": {
    "collapsed": false,
    "pycharm": {
     "name": "#%%\n"
    }
   }
  },
  {
   "cell_type": "code",
   "execution_count": 22,
   "outputs": [
    {
     "data": {
      "text/plain": "        PhraseId  SentenceId  \\\n151793    151794        8283   \n144411    144412        7840   \n116367    116368        6205   \n37456      37457        1778   \n2961        2962         112   \n\n                                                   Phrase  Sentiment  \n151793                                     messy emotions          2  \n144411                                        Man , Heart          2  \n116367                                            annoyed          1  \n37456   its exquisite acting , inventive screenplay , ...          4  \n2961                                             postcard          2  ",
      "text/html": "<div>\n<style scoped>\n    .dataframe tbody tr th:only-of-type {\n        vertical-align: middle;\n    }\n\n    .dataframe tbody tr th {\n        vertical-align: top;\n    }\n\n    .dataframe thead th {\n        text-align: right;\n    }\n</style>\n<table border=\"1\" class=\"dataframe\">\n  <thead>\n    <tr style=\"text-align: right;\">\n      <th></th>\n      <th>PhraseId</th>\n      <th>SentenceId</th>\n      <th>Phrase</th>\n      <th>Sentiment</th>\n    </tr>\n  </thead>\n  <tbody>\n    <tr>\n      <th>151793</th>\n      <td>151794</td>\n      <td>8283</td>\n      <td>messy emotions</td>\n      <td>2</td>\n    </tr>\n    <tr>\n      <th>144411</th>\n      <td>144412</td>\n      <td>7840</td>\n      <td>Man , Heart</td>\n      <td>2</td>\n    </tr>\n    <tr>\n      <th>116367</th>\n      <td>116368</td>\n      <td>6205</td>\n      <td>annoyed</td>\n      <td>1</td>\n    </tr>\n    <tr>\n      <th>37456</th>\n      <td>37457</td>\n      <td>1778</td>\n      <td>its exquisite acting , inventive screenplay , ...</td>\n      <td>4</td>\n    </tr>\n    <tr>\n      <th>2961</th>\n      <td>2962</td>\n      <td>112</td>\n      <td>postcard</td>\n      <td>2</td>\n    </tr>\n  </tbody>\n</table>\n</div>"
     },
     "execution_count": 22,
     "metadata": {},
     "output_type": "execute_result"
    }
   ],
   "source": [
    "df_train.head()"
   ],
   "metadata": {
    "collapsed": false,
    "pycharm": {
     "name": "#%%\n"
    }
   }
  },
  {
   "cell_type": "code",
   "execution_count": 23,
   "outputs": [
    {
     "data": {
      "text/plain": "        PhraseId  SentenceId  \\\n104526    104527        5516   \n135932    135933        7343   \n150608    150609        8209   \n62279      62280        3148   \n109780    109781        5816   \n\n                                                   Phrase  Sentiment  \n104526                                               bomb          0  \n135932                                       as a bonus ,          2  \n150608                    Even on its own ludicrous terms          2  \n62279        Quitting hits home with disorienting force .          3  \n109780  found writer-director Mitch Davis 's wall of k...          1  ",
      "text/html": "<div>\n<style scoped>\n    .dataframe tbody tr th:only-of-type {\n        vertical-align: middle;\n    }\n\n    .dataframe tbody tr th {\n        vertical-align: top;\n    }\n\n    .dataframe thead th {\n        text-align: right;\n    }\n</style>\n<table border=\"1\" class=\"dataframe\">\n  <thead>\n    <tr style=\"text-align: right;\">\n      <th></th>\n      <th>PhraseId</th>\n      <th>SentenceId</th>\n      <th>Phrase</th>\n      <th>Sentiment</th>\n    </tr>\n  </thead>\n  <tbody>\n    <tr>\n      <th>104526</th>\n      <td>104527</td>\n      <td>5516</td>\n      <td>bomb</td>\n      <td>0</td>\n    </tr>\n    <tr>\n      <th>135932</th>\n      <td>135933</td>\n      <td>7343</td>\n      <td>as a bonus ,</td>\n      <td>2</td>\n    </tr>\n    <tr>\n      <th>150608</th>\n      <td>150609</td>\n      <td>8209</td>\n      <td>Even on its own ludicrous terms</td>\n      <td>2</td>\n    </tr>\n    <tr>\n      <th>62279</th>\n      <td>62280</td>\n      <td>3148</td>\n      <td>Quitting hits home with disorienting force .</td>\n      <td>3</td>\n    </tr>\n    <tr>\n      <th>109780</th>\n      <td>109781</td>\n      <td>5816</td>\n      <td>found writer-director Mitch Davis 's wall of k...</td>\n      <td>1</td>\n    </tr>\n  </tbody>\n</table>\n</div>"
     },
     "execution_count": 23,
     "metadata": {},
     "output_type": "execute_result"
    }
   ],
   "source": [
    "df_test.head()"
   ],
   "metadata": {
    "collapsed": false,
    "pycharm": {
     "name": "#%%\n"
    }
   }
  },
  {
   "cell_type": "markdown",
   "source": [
    "Above we can see that Phrase and Sentiment columns are all we need from the file in order to train the models later, therefore we will use these as feature (X) and label (Y) when fitting the transformer."
   ],
   "metadata": {
    "collapsed": false,
    "pycharm": {
     "name": "#%% md\n"
    }
   }
  },
  {
   "cell_type": "markdown",
   "source": [
    "## 3.2 Check if there is null/empty value"
   ],
   "metadata": {
    "collapsed": false,
    "pycharm": {
     "name": "#%% md\n"
    }
   }
  },
  {
   "cell_type": "code",
   "execution_count": 24,
   "outputs": [
    {
     "name": "stdout",
     "output_type": "stream",
     "text": [
      "<class 'pandas.core.frame.DataFrame'>\n",
      "RangeIndex: 156060 entries, 0 to 156059\n",
      "Data columns (total 4 columns):\n",
      " #   Column      Non-Null Count   Dtype \n",
      "---  ------      --------------   ----- \n",
      " 0   PhraseId    156060 non-null  int64 \n",
      " 1   SentenceId  156060 non-null  int64 \n",
      " 2   Phrase      156060 non-null  object\n",
      " 3   Sentiment   156060 non-null  int64 \n",
      "dtypes: int64(3), object(1)\n",
      "memory usage: 4.8+ MB\n"
     ]
    },
    {
     "data": {
      "text/plain": "(None,\n PhraseId      0\n SentenceId    0\n Phrase        0\n Sentiment     0\n dtype: int64)"
     },
     "execution_count": 24,
     "metadata": {},
     "output_type": "execute_result"
    }
   ],
   "source": [
    "df_train.info(), df_train.isnull().sum()"
   ],
   "metadata": {
    "collapsed": false,
    "pycharm": {
     "name": "#%%\n"
    }
   }
  },
  {
   "cell_type": "markdown",
   "source": [
    "## 3.3 Class Distribution"
   ],
   "metadata": {
    "collapsed": false
   }
  },
  {
   "cell_type": "markdown",
   "source": [
    "The dataset looks good and we need to know how are distributed the 5 classes in the label so as to know it's balanced or not."
   ],
   "metadata": {
    "collapsed": false,
    "pycharm": {
     "name": "#%% md\n"
    }
   }
  },
  {
   "cell_type": "code",
   "execution_count": 25,
   "outputs": [
    {
     "data": {
      "text/plain": "2    71624\n3    29626\n1    24545\n4     8288\n0     6371\nName: Sentiment, dtype: int64"
     },
     "execution_count": 25,
     "metadata": {},
     "output_type": "execute_result"
    }
   ],
   "source": [
    "df_train.Sentiment.value_counts()"
   ],
   "metadata": {
    "collapsed": false,
    "pycharm": {
     "name": "#%%\n"
    }
   }
  },
  {
   "cell_type": "markdown",
   "source": [
    "The sentiment labels are:\n",
    "\n",
    "0 - negative\n",
    "1 - somewhat negative\n",
    "2 - neutral\n",
    "3 - somewhat positive\n",
    "4 - positive"
   ],
   "metadata": {
    "collapsed": false,
    "pycharm": {
     "name": "#%% md\n"
    }
   }
  },
  {
   "cell_type": "code",
   "execution_count": 28,
   "outputs": [
    {
     "data": {
      "text/plain": "<AxesSubplot:title={'center':'Pie chart of Sentiment Class'}, ylabel='Sentiment'>"
     },
     "execution_count": 28,
     "metadata": {},
     "output_type": "execute_result"
    },
    {
     "data": {
      "text/plain": "<Figure size 864x864 with 1 Axes>",
      "image/png": "[encoded data removed]"
     },
     "metadata": {},
     "output_type": "display_data"
    }
   ],
   "source": [
    "df2 = df_train.copy(deep = True) ## copy the dataset deeply\n",
    "pie1 = pd.DataFrame(df2['Sentiment'].replace(0,'Negative').replace(1,'Somewhat Negative').replace(2,'Neutral').replace(3,'Somewhat Positive').replace(4,'Positive').value_counts())\n",
    "pie1.reset_index(inplace = True)\n",
    "pie1.plot(kind = 'pie', title = 'Pie chart of Sentiment Class',y = 'Sentiment',\n",
    "          autopct = '%1.1f%%', shadow = False, labels = pie1['index'], legend = False, fontsize = 14, figsize = (12,12))"
   ],
   "metadata": {
    "collapsed": false,
    "pycharm": {
     "name": "#%%\n"
    }
   }
  },
  {
   "cell_type": "markdown",
   "source": [
    "The label is considerably unbalanced, only 'Neutral' corresponds to more than 50% of instances and there is a slightly skewed towards positive reviews. Early we can say the class to be predicted will be sidetracked toward the more frequent classes, this is why we need a text balancing technique just like 'SMOTE' for numerical features."
   ],
   "metadata": {
    "collapsed": false,
    "pycharm": {
     "name": "#%% md\n"
    }
   }
  },
  {
   "cell_type": "markdown",
   "source": [
    "## 3.4 No.words Distribution"
   ],
   "metadata": {
    "collapsed": false,
    "pycharm": {
     "name": "#%% md\n"
    }
   }
  },
  {
   "cell_type": "markdown",
   "source": [
    "Time now to find out the number of words in reviews, in order to understand a bit better we will plot histograms for each class"
   ],
   "metadata": {
    "collapsed": false,
    "pycharm": {
     "name": "#%% md\n"
    }
   }
  },
  {
   "cell_type": "code",
   "execution_count": 41,
   "outputs": [],
   "source": [
    "# df_train[df_train['Sentiment'] == 0]['Phrase'].str.split().map(lambda x: len(x))"
   ],
   "metadata": {
    "collapsed": false,
    "pycharm": {
     "name": "#%%\n"
    }
   }
  },
  {
   "cell_type": "code",
   "execution_count": 40,
   "outputs": [
    {
     "data": {
      "text/plain": "Text(0.5, 0.98, 'Histogram number of words in reviews')"
     },
     "execution_count": 40,
     "metadata": {},
     "output_type": "execute_result"
    },
    {
     "data": {
      "text/plain": "<Figure size 1800x576 with 5 Axes>",
      "image/png": "[encoded data removed]"
     },
     "metadata": {
      "needs_background": "light"
     },
     "output_type": "display_data"
    }
   ],
   "source": [
    "f, (ax1, ax2, ax3, ax4, ax5) = plt.subplots(1,5,figsize=(25,8))\n",
    "\n",
    "ax1.hist(df_train[df_train['Sentiment'] == 0]['Phrase'].str.split().map(lambda x: len(x)), bins=50, color='b')\n",
    "ax1.set_title('Negative Reviews')\n",
    "\n",
    "ax2.hist(df_train[df_train['Sentiment'] == 1]['Phrase'].str.split().map(lambda x: len(x)), bins=50, color='r')\n",
    "ax2.set_title('Somewhat Negative Reviews')\n",
    "\n",
    "ax3.hist(df_train[df_train['Sentiment'] == 2]['Phrase'].str.split().map(lambda x: len(x)), bins=50, color='g')\n",
    "ax3.set_title('Neutral Reviews')\n",
    "\n",
    "ax4.hist(df_train[df_train['Sentiment'] == 3]['Phrase'].str.split().map(lambda x: len(x)), bins=50, color='y')\n",
    "ax4.set_title('Somewhat Positive Reviews')\n",
    "\n",
    "ax5.hist(df_train[df_train['Sentiment'] == 4]['Phrase'].str.split().map(lambda x: len(x)), bins=50, color='k')\n",
    "ax5.set_title('Positive Reviews')\n",
    "\n",
    "f.suptitle('Histogram number of words in reviews')"
   ],
   "metadata": {
    "collapsed": false,
    "pycharm": {
     "name": "#%%\n"
    }
   }
  },
  {
   "cell_type": "markdown",
   "source": [
    "In the 5 histograms we can see the distribution behaves like a negative exponential function decreasing significantly as the x-axis increases. It seems like the longest sentence in Phrase column corresponds to a class 'Negative Reviews' and is around 52 words, now let's obtain the longest one by using the max() function:"
   ],
   "metadata": {
    "collapsed": false,
    "pycharm": {
     "name": "#%% md\n"
    }
   }
  },
  {
   "cell_type": "code",
   "execution_count": 42,
   "outputs": [
    {
     "data": {
      "text/plain": "52"
     },
     "execution_count": 42,
     "metadata": {},
     "output_type": "execute_result"
    }
   ],
   "source": [
    "df_train['Phrase'].str.split().map(lambda x: len(x)).max()"
   ],
   "metadata": {
    "collapsed": false,
    "pycharm": {
     "name": "#%%\n"
    }
   }
  },
  {
   "cell_type": "markdown",
   "source": [
    "Effectively was 52 words, this means if we would Tokenize by word the max_length should be 52, however as transformers consider sub-words tokenization such number could be increased depending on the words being used which can increase such length to 60 or even more, thus we have to take that into account when modeling as it could cause our model to take significatively a long time to train, therefore we have to find a trade-off between training time and performance."
   ],
   "metadata": {
    "collapsed": false,
    "pycharm": {
     "name": "#%% md\n"
    }
   }
  },
  {
   "cell_type": "code",
   "execution_count": 43,
   "outputs": [
    {
     "name": "stdout",
     "output_type": "stream",
     "text": [
      "Number of sentences which contain more than 20 words:  10311\n",
      " \n",
      "Number of sentences which contain more than 30 words:  2315\n",
      " \n",
      "Number of sentences which contain more than 40 words:  316\n",
      " \n",
      "Number of sentences which contain more than 50 words:  16\n",
      " \n",
      "Number of sentences which contain 52 words:  3\n",
      " \n"
     ]
    }
   ],
   "source": [
    "df20=pd.DataFrame(df_train['Phrase'].str.split().map(lambda x: len(x))>=20)\n",
    "print('Number of sentences which contain more than 20 words: ', df20.loc[df20['Phrase']==True].shape[0])\n",
    "print(' ')\n",
    "df30=pd.DataFrame(df_train['Phrase'].str.split().map(lambda x: len(x))>=30)\n",
    "print('Number of sentences which contain more than 30 words: ', df30.loc[df30['Phrase']==True].shape[0])\n",
    "print(' ')\n",
    "df40=pd.DataFrame(df_train['Phrase'].str.split().map(lambda x: len(x))>=40)\n",
    "print('Number of sentences which contain more than 40 words: ', df40.loc[df40['Phrase']==True].shape[0])\n",
    "print(' ')\n",
    "df50=pd.DataFrame(df_train['Phrase'].str.split().map(lambda x: len(x))>=50)\n",
    "print('Number of sentences which contain more than 50 words: ', df50.loc[df50['Phrase']==True].shape[0])\n",
    "print(' ')\n",
    "df52=pd.DataFrame(df_train['Phrase'].str.split().map(lambda x: len(x))==52)\n",
    "print('Number of sentences which contain 52 words: ', df52.loc[df52['Phrase']==True].shape[0])\n",
    "print(' ')\n",
    "#dfff.loc[dfff['Phrase']==True]"
   ],
   "metadata": {
    "collapsed": false,
    "pycharm": {
     "name": "#%%\n"
    }
   }
  },
  {
   "cell_type": "markdown",
   "source": [
    "Above we see 316 reviews contain more than 40 words and only 16 reviews above 50 words, these two number corresponds to a tiny proportion of the total number of instances (140,454), therefore setting to these numbers will not affect too much the classification. Below we can see an example of a sentence containing 52 words, observe there are misspelled words, acronyms and some of them can be decomposed into sub-words:"
   ],
   "metadata": {
    "collapsed": false,
    "pycharm": {
     "name": "#%% md\n"
    }
   }
  },
  {
   "cell_type": "code",
   "execution_count": 45,
   "outputs": [
    {
     "name": "stdout",
     "output_type": "stream",
     "text": [
      "There are n't too many films that can be as simultaneously funny , offbeat and heartwarming -LRB- without a thick shmear of the goo , at least -RRB- , but `` Elling '' manages to do all three quite well , making it one of the year 's most enjoyable releases .\n"
     ]
    }
   ],
   "source": [
    "print(df_train.loc[87835,'Phrase'])"
   ],
   "metadata": {
    "collapsed": false,
    "pycharm": {
     "name": "#%%\n"
    }
   }
  },
  {
   "cell_type": "markdown",
   "source": [
    "# 4. Prepeartion"
   ],
   "metadata": {
    "collapsed": false,
    "pycharm": {
     "name": "#%% md\n"
    }
   }
  },
  {
   "cell_type": "markdown",
   "source": [
    "## 4.1 Install transformers"
   ],
   "metadata": {
    "collapsed": false,
    "pycharm": {
     "name": "#%% md\n"
    }
   }
  },
  {
   "cell_type": "markdown",
   "source": [
    "Firstly, we have to install the transformers library offered by HuggingFace so as enable all useful functions when building the four models."
   ],
   "metadata": {
    "collapsed": false,
    "pycharm": {
     "name": "#%% md\n"
    }
   }
  },
  {
   "cell_type": "code",
   "execution_count": 46,
   "outputs": [
    {
     "name": "stdout",
     "output_type": "stream",
     "text": [
      "Collecting transformers\r\n",
      "  Downloading transformers-4.18.0-py3-none-any.whl (4.0 MB)\r\n",
      "\u001B[K     |████████████████████████████████| 4.0 MB 9.4 MB/s eta 0:00:01\r\n",
      "\u001B[?25hCollecting pyyaml>=5.1\r\n",
      "  Downloading PyYAML-6.0-cp37-cp37m-macosx_10_9_x86_64.whl (189 kB)\r\n",
      "\u001B[K     |████████████████████████████████| 189 kB 27.6 MB/s eta 0:00:01\r\n",
      "\u001B[?25hRequirement already satisfied: importlib-metadata in /Users/wxy/opt/anaconda3/envs/AMLS2/lib/python3.7/site-packages (from transformers) (4.11.3)\r\n",
      "Requirement already satisfied: numpy>=1.17 in /Users/wxy/opt/anaconda3/envs/AMLS2/lib/python3.7/site-packages (from transformers) (1.21.5)\r\n",
      "Collecting tokenizers!=0.11.3,<0.13,>=0.11.1\r\n",
      "  Downloading tokenizers-0.11.6-cp37-cp37m-macosx_10_11_x86_64.whl (3.6 MB)\r\n",
      "\u001B[K     |████████████████████████████████| 3.6 MB 57.2 MB/s eta 0:00:01\r\n",
      "\u001B[?25hCollecting regex!=2019.12.17\r\n",
      "  Downloading regex-2022.3.15-cp37-cp37m-macosx_10_9_x86_64.whl (289 kB)\r\n",
      "\u001B[K     |████████████████████████████████| 289 kB 29.1 MB/s eta 0:00:01\r\n",
      "\u001B[?25hCollecting tqdm>=4.27\r\n",
      "  Downloading tqdm-4.64.0-py2.py3-none-any.whl (78 kB)\r\n",
      "\u001B[K     |████████████████████████████████| 78 kB 39.7 MB/s eta 0:00:01\r\n",
      "\u001B[?25hRequirement already satisfied: packaging>=20.0 in /Users/wxy/opt/anaconda3/envs/AMLS2/lib/python3.7/site-packages (from transformers) (21.3)\r\n",
      "Collecting huggingface-hub<1.0,>=0.1.0\r\n",
      "  Downloading huggingface_hub-0.5.1-py3-none-any.whl (77 kB)\r\n",
      "\u001B[K     |████████████████████████████████| 77 kB 24.4 MB/s eta 0:00:01\r\n",
      "\u001B[?25hCollecting filelock\r\n",
      "  Downloading filelock-3.6.0-py3-none-any.whl (10.0 kB)\r\n",
      "Collecting sacremoses\r\n",
      "  Downloading sacremoses-0.0.49-py3-none-any.whl (895 kB)\r\n",
      "\u001B[K     |████████████████████████████████| 895 kB 25.5 MB/s eta 0:00:01\r\n",
      "\u001B[?25hCollecting requests\r\n",
      "  Downloading requests-2.27.1-py2.py3-none-any.whl (63 kB)\r\n",
      "\u001B[K     |████████████████████████████████| 63 kB 11.4 MB/s eta 0:00:01\r\n",
      "\u001B[?25hRequirement already satisfied: typing-extensions>=3.7.4.3 in /Users/wxy/opt/anaconda3/envs/AMLS2/lib/python3.7/site-packages (from huggingface-hub<1.0,>=0.1.0->transformers) (4.1.1)\r\n",
      "Requirement already satisfied: pyparsing!=3.0.5,>=2.0.2 in /Users/wxy/opt/anaconda3/envs/AMLS2/lib/python3.7/site-packages (from packaging>=20.0->transformers) (3.0.7)\r\n",
      "Requirement already satisfied: zipp>=0.5 in /Users/wxy/opt/anaconda3/envs/AMLS2/lib/python3.7/site-packages (from importlib-metadata->transformers) (3.8.0)\r\n",
      "Collecting charset-normalizer~=2.0.0\r\n",
      "  Downloading charset_normalizer-2.0.12-py3-none-any.whl (39 kB)\r\n",
      "Collecting urllib3<1.27,>=1.21.1\r\n",
      "  Downloading urllib3-1.26.9-py2.py3-none-any.whl (138 kB)\r\n",
      "\u001B[K     |████████████████████████████████| 138 kB 28.9 MB/s eta 0:00:01\r\n",
      "\u001B[?25hRequirement already satisfied: certifi>=2017.4.17 in /Users/wxy/opt/anaconda3/envs/AMLS2/lib/python3.7/site-packages (from requests->transformers) (2021.10.8)\r\n",
      "Collecting idna<4,>=2.5\r\n",
      "  Downloading idna-3.3-py3-none-any.whl (61 kB)\r\n",
      "\u001B[K     |████████████████████████████████| 61 kB 11.1 MB/s eta 0:00:01\r\n",
      "\u001B[?25hCollecting click\r\n",
      "  Downloading click-8.1.2-py3-none-any.whl (96 kB)\r\n",
      "\u001B[K     |████████████████████████████████| 96 kB 8.8 MB/s  eta 0:00:01\r\n",
      "\u001B[?25hRequirement already satisfied: six in /Users/wxy/opt/anaconda3/envs/AMLS2/lib/python3.7/site-packages (from sacremoses->transformers) (1.16.0)\r\n",
      "Requirement already satisfied: joblib in /Users/wxy/opt/anaconda3/envs/AMLS2/lib/python3.7/site-packages (from sacremoses->transformers) (1.1.0)\r\n",
      "Installing collected packages: urllib3, idna, charset-normalizer, tqdm, requests, regex, pyyaml, filelock, click, tokenizers, sacremoses, huggingface-hub, transformers\r\n",
      "Successfully installed charset-normalizer-2.0.12 click-8.1.2 filelock-3.6.0 huggingface-hub-0.5.1 idna-3.3 pyyaml-6.0 regex-2022.3.15 requests-2.27.1 sacremoses-0.0.49 tokenizers-0.11.6 tqdm-4.64.0 transformers-4.18.0 urllib3-1.26.9\r\n"
     ]
    }
   ],
   "source": [
    "!pip install transformers"
   ],
   "metadata": {
    "collapsed": false,
    "pycharm": {
     "name": "#%%\n"
    }
   }
  },
  {
   "cell_type": "markdown",
   "source": [
    "## 4.2 Extract useful features and labels"
   ],
   "metadata": {
    "collapsed": false,
    "pycharm": {
     "name": "#%% md\n"
    }
   }
  },
  {
   "cell_type": "markdown",
   "source": [
    "Now we have to gather from the dataset only the two columns useful for training (Phrase and Sentiment):"
   ],
   "metadata": {
    "collapsed": false,
    "pycharm": {
     "name": "#%% md\n"
    }
   }
  },
  {
   "cell_type": "code",
   "execution_count": 58,
   "outputs": [
    {
     "name": "stderr",
     "output_type": "stream",
     "text": [
      "/Users/wxy/opt/anaconda3/envs/AMLS2/lib/python3.7/site-packages/ipykernel_launcher.py:4: SettingWithCopyWarning: \n",
      "A value is trying to be set on a copy of a slice from a DataFrame.\n",
      "Try using .loc[row_indexer,col_indexer] = value instead\n",
      "\n",
      "See the caveats in the documentation: https://pandas.pydata.org/pandas-docs/stable/user_guide/indexing.html#returning-a-view-versus-a-copy\n",
      "  after removing the cwd from sys.path.\n",
      "/Users/wxy/opt/anaconda3/envs/AMLS2/lib/python3.7/site-packages/ipykernel_launcher.py:7: SettingWithCopyWarning: \n",
      "A value is trying to be set on a copy of a slice from a DataFrame.\n",
      "Try using .loc[row_indexer,col_indexer] = value instead\n",
      "\n",
      "See the caveats in the documentation: https://pandas.pydata.org/pandas-docs/stable/user_guide/indexing.html#returning-a-view-versus-a-copy\n",
      "  import sys\n"
     ]
    }
   ],
   "source": [
    "data = df_train[['Phrase', 'Sentiment']]\n",
    "\n",
    "# Set your model output as categorical and save in new label col\n",
    "data['Sentiment_label'] = pd.Categorical(data['Sentiment'])\n",
    "\n",
    "# Transform your output to numeric\n",
    "data['Sentiment'] = data['Sentiment_label'].cat.codes"
   ],
   "metadata": {
    "collapsed": false,
    "pycharm": {
     "name": "#%%\n"
    }
   }
  },
  {
   "cell_type": "code",
   "execution_count": 56,
   "outputs": [
    {
     "data": {
      "text/plain": "                                                   Phrase  Sentiment  \\\n151793                                     messy emotions          2   \n144411                                        Man , Heart          2   \n116367                                            annoyed          1   \n37456   its exquisite acting , inventive screenplay , ...          4   \n2961                                             postcard          2   \n...                                                   ...        ...   \n11261                                           the years          2   \n104704                                        best sequel          4   \n48056                                  the last 100 years          2   \n77049                   in which murder is casual and fun          2   \n71530   seems to be missing a great deal of the acerbi...          1   \n\n       Sentiment_label  \n151793               2  \n144411               2  \n116367               1  \n37456                4  \n2961                 2  \n...                ...  \n11261                2  \n104704               4  \n48056                2  \n77049                2  \n71530                1  \n\n[140454 rows x 3 columns]",
      "text/html": "<div>\n<style scoped>\n    .dataframe tbody tr th:only-of-type {\n        vertical-align: middle;\n    }\n\n    .dataframe tbody tr th {\n        vertical-align: top;\n    }\n\n    .dataframe thead th {\n        text-align: right;\n    }\n</style>\n<table border=\"1\" class=\"dataframe\">\n  <thead>\n    <tr style=\"text-align: right;\">\n      <th></th>\n      <th>Phrase</th>\n      <th>Sentiment</th>\n      <th>Sentiment_label</th>\n    </tr>\n  </thead>\n  <tbody>\n    <tr>\n      <th>151793</th>\n      <td>messy emotions</td>\n      <td>2</td>\n      <td>2</td>\n    </tr>\n    <tr>\n      <th>144411</th>\n      <td>Man , Heart</td>\n      <td>2</td>\n      <td>2</td>\n    </tr>\n    <tr>\n      <th>116367</th>\n      <td>annoyed</td>\n      <td>1</td>\n      <td>1</td>\n    </tr>\n    <tr>\n      <th>37456</th>\n      <td>its exquisite acting , inventive screenplay , ...</td>\n      <td>4</td>\n      <td>4</td>\n    </tr>\n    <tr>\n      <th>2961</th>\n      <td>postcard</td>\n      <td>2</td>\n      <td>2</td>\n    </tr>\n    <tr>\n      <th>...</th>\n      <td>...</td>\n      <td>...</td>\n      <td>...</td>\n    </tr>\n    <tr>\n      <th>11261</th>\n      <td>the years</td>\n      <td>2</td>\n      <td>2</td>\n    </tr>\n    <tr>\n      <th>104704</th>\n      <td>best sequel</td>\n      <td>4</td>\n      <td>4</td>\n    </tr>\n    <tr>\n      <th>48056</th>\n      <td>the last 100 years</td>\n      <td>2</td>\n      <td>2</td>\n    </tr>\n    <tr>\n      <th>77049</th>\n      <td>in which murder is casual and fun</td>\n      <td>2</td>\n      <td>2</td>\n    </tr>\n    <tr>\n      <th>71530</th>\n      <td>seems to be missing a great deal of the acerbi...</td>\n      <td>1</td>\n      <td>1</td>\n    </tr>\n  </tbody>\n</table>\n<p>140454 rows × 3 columns</p>\n</div>"
     },
     "execution_count": 56,
     "metadata": {},
     "output_type": "execute_result"
    }
   ],
   "source": [
    "data"
   ],
   "metadata": {
    "collapsed": false,
    "pycharm": {
     "name": "#%%\n"
    }
   }
  },
  {
   "cell_type": "markdown",
   "source": [
    "## 4.3 Split the training set into training and validation dataset"
   ],
   "metadata": {
    "collapsed": false,
    "pycharm": {
     "name": "#%% md\n"
    }
   }
  },
  {
   "cell_type": "markdown",
   "source": [
    "Split into train and validation set, as the file contains more than 140 thousand instances we can consider only a small portion of it as validation and still the number is relatively long, because of this we will set the test_size to 10% as follows:"
   ],
   "metadata": {
    "collapsed": false,
    "pycharm": {
     "name": "#%% md\n"
    }
   }
  },
  {
   "cell_type": "code",
   "execution_count": 57,
   "outputs": [],
   "source": [
    "data_train, data_val = train_test_split(data, test_size = 0.1, random_state = 1)"
   ],
   "metadata": {
    "collapsed": false,
    "pycharm": {
     "name": "#%%\n"
    }
   }
  },
  {
   "cell_type": "markdown",
   "source": [
    "## 5. Bert"
   ],
   "metadata": {
    "collapsed": false,
    "pycharm": {
     "name": "#%% md\n"
    }
   }
  },
  {
   "cell_type": "markdown",
   "source": [
    "As first step we have to import the Model, Config and Tokenizer corresponding to Bert in order to build properly the model."
   ],
   "metadata": {
    "collapsed": false,
    "pycharm": {
     "name": "#%% md\n"
    }
   }
  },
  {
   "cell_type": "code",
   "execution_count": 60,
   "outputs": [
    {
     "name": "stderr",
     "output_type": "stream",
     "text": [
      "None of PyTorch, TensorFlow >= 2.0, or Flax have been found. Models won't be available and only tokenizers, configuration and file/data utilities can be used.\n"
     ]
    }
   ],
   "source": [
    "from transformers import TFBertModel,  BertConfig, BertTokenizerFast"
   ],
   "metadata": {
    "collapsed": false,
    "pycharm": {
     "name": "#%%\n"
    }
   }
  },
  {
   "cell_type": "markdown",
   "source": [
    "The model we will use is 'bert_base_uncased' and the max_length chosen is 45 as there are only a very small number of larger sequences."
   ],
   "metadata": {
    "collapsed": false,
    "pycharm": {
     "name": "#%% md\n"
    }
   }
  },
  {
   "cell_type": "code",
   "execution_count": 61,
   "outputs": [
    {
     "data": {
      "text/plain": "Downloading:   0%|          | 0.00/570 [00:00<?, ?B/s]",
      "application/vnd.jupyter.widget-view+json": {
       "version_major": 2,
       "version_minor": 0,
       "model_id": "451f2464bad742c4bf40b8eb48faa764"
      }
     },
     "metadata": {},
     "output_type": "display_data"
    },
    {
     "data": {
      "text/plain": "Downloading:   0%|          | 0.00/28.0 [00:00<?, ?B/s]",
      "application/vnd.jupyter.widget-view+json": {
       "version_major": 2,
       "version_minor": 0,
       "model_id": "d5e40b57b6014182b32269b7556b3e63"
      }
     },
     "metadata": {},
     "output_type": "display_data"
    },
    {
     "data": {
      "text/plain": "Downloading:   0%|          | 0.00/226k [00:00<?, ?B/s]",
      "application/vnd.jupyter.widget-view+json": {
       "version_major": 2,
       "version_minor": 0,
       "model_id": "f036b101fd7d4cbe8550d5d846f13b09"
      }
     },
     "metadata": {},
     "output_type": "display_data"
    },
    {
     "data": {
      "text/plain": "Downloading:   0%|          | 0.00/455k [00:00<?, ?B/s]",
      "application/vnd.jupyter.widget-view+json": {
       "version_major": 2,
       "version_minor": 0,
       "model_id": "b9e50209b253435f83a029be4e200e79"
      }
     },
     "metadata": {},
     "output_type": "display_data"
    },
    {
     "ename": "ImportError",
     "evalue": "\nTFBertModel requires the TensorFlow library but it was not found in your environment. Checkout the instructions on the\ninstallation page: https://www.tensorflow.org/install and follow the ones that match your environment.\n",
     "output_type": "error",
     "traceback": [
      "\u001B[0;31m---------------------------------------------------------------------------\u001B[0m",
      "\u001B[0;31mImportError\u001B[0m                               Traceback (most recent call last)",
      "\u001B[0;32m/var/folders/f8/3flvk6hx3s94xzyjyxzj3vwm0000gn/T/ipykernel_19322/19785603.py\u001B[0m in \u001B[0;36m<module>\u001B[0;34m\u001B[0m\n\u001B[1;32m     13\u001B[0m \u001B[0;34m\u001B[0m\u001B[0m\n\u001B[1;32m     14\u001B[0m \u001B[0;31m# Load the Transformers BERT model\u001B[0m\u001B[0;34m\u001B[0m\u001B[0;34m\u001B[0m\u001B[0;34m\u001B[0m\u001B[0m\n\u001B[0;32m---> 15\u001B[0;31m \u001B[0mtransformer_bert_model\u001B[0m \u001B[0;34m=\u001B[0m \u001B[0mTFBertModel\u001B[0m\u001B[0;34m.\u001B[0m\u001B[0mfrom_pretrained\u001B[0m\u001B[0;34m(\u001B[0m\u001B[0mmodel_name\u001B[0m\u001B[0;34m,\u001B[0m \u001B[0mconfig\u001B[0m \u001B[0;34m=\u001B[0m \u001B[0mconfig\u001B[0m\u001B[0;34m)\u001B[0m\u001B[0;34m\u001B[0m\u001B[0;34m\u001B[0m\u001B[0m\n\u001B[0m",
      "\u001B[0;32m~/opt/anaconda3/envs/AMLS2/lib/python3.7/site-packages/transformers/utils/import_utils.py\u001B[0m in \u001B[0;36m__getattr__\u001B[0;34m(cls, key)\u001B[0m\n\u001B[1;32m    771\u001B[0m         \u001B[0;32mif\u001B[0m \u001B[0mkey\u001B[0m\u001B[0;34m.\u001B[0m\u001B[0mstartswith\u001B[0m\u001B[0;34m(\u001B[0m\u001B[0;34m\"_\"\u001B[0m\u001B[0;34m)\u001B[0m\u001B[0;34m:\u001B[0m\u001B[0;34m\u001B[0m\u001B[0;34m\u001B[0m\u001B[0m\n\u001B[1;32m    772\u001B[0m             \u001B[0;32mreturn\u001B[0m \u001B[0msuper\u001B[0m\u001B[0;34m(\u001B[0m\u001B[0;34m)\u001B[0m\u001B[0;34m.\u001B[0m\u001B[0m__getattr__\u001B[0m\u001B[0;34m(\u001B[0m\u001B[0mcls\u001B[0m\u001B[0;34m,\u001B[0m \u001B[0mkey\u001B[0m\u001B[0;34m)\u001B[0m\u001B[0;34m\u001B[0m\u001B[0;34m\u001B[0m\u001B[0m\n\u001B[0;32m--> 773\u001B[0;31m         \u001B[0mrequires_backends\u001B[0m\u001B[0;34m(\u001B[0m\u001B[0mcls\u001B[0m\u001B[0;34m,\u001B[0m \u001B[0mcls\u001B[0m\u001B[0;34m.\u001B[0m\u001B[0m_backends\u001B[0m\u001B[0;34m)\u001B[0m\u001B[0;34m\u001B[0m\u001B[0;34m\u001B[0m\u001B[0m\n\u001B[0m\u001B[1;32m    774\u001B[0m \u001B[0;34m\u001B[0m\u001B[0m\n\u001B[1;32m    775\u001B[0m \u001B[0;34m\u001B[0m\u001B[0m\n",
      "\u001B[0;32m~/opt/anaconda3/envs/AMLS2/lib/python3.7/site-packages/transformers/utils/import_utils.py\u001B[0m in \u001B[0;36mrequires_backends\u001B[0;34m(obj, backends)\u001B[0m\n\u001B[1;32m    759\u001B[0m     \u001B[0mfailed\u001B[0m \u001B[0;34m=\u001B[0m \u001B[0;34m[\u001B[0m\u001B[0mmsg\u001B[0m\u001B[0;34m.\u001B[0m\u001B[0mformat\u001B[0m\u001B[0;34m(\u001B[0m\u001B[0mname\u001B[0m\u001B[0;34m)\u001B[0m \u001B[0;32mfor\u001B[0m \u001B[0mavailable\u001B[0m\u001B[0;34m,\u001B[0m \u001B[0mmsg\u001B[0m \u001B[0;32min\u001B[0m \u001B[0mchecks\u001B[0m \u001B[0;32mif\u001B[0m \u001B[0;32mnot\u001B[0m \u001B[0mavailable\u001B[0m\u001B[0;34m(\u001B[0m\u001B[0;34m)\u001B[0m\u001B[0;34m]\u001B[0m\u001B[0;34m\u001B[0m\u001B[0;34m\u001B[0m\u001B[0m\n\u001B[1;32m    760\u001B[0m     \u001B[0;32mif\u001B[0m \u001B[0mfailed\u001B[0m\u001B[0;34m:\u001B[0m\u001B[0;34m\u001B[0m\u001B[0;34m\u001B[0m\u001B[0m\n\u001B[0;32m--> 761\u001B[0;31m         \u001B[0;32mraise\u001B[0m \u001B[0mImportError\u001B[0m\u001B[0;34m(\u001B[0m\u001B[0;34m\"\"\u001B[0m\u001B[0;34m.\u001B[0m\u001B[0mjoin\u001B[0m\u001B[0;34m(\u001B[0m\u001B[0mfailed\u001B[0m\u001B[0;34m)\u001B[0m\u001B[0;34m)\u001B[0m\u001B[0;34m\u001B[0m\u001B[0;34m\u001B[0m\u001B[0m\n\u001B[0m\u001B[1;32m    762\u001B[0m \u001B[0;34m\u001B[0m\u001B[0m\n\u001B[1;32m    763\u001B[0m \u001B[0;34m\u001B[0m\u001B[0m\n",
      "\u001B[0;31mImportError\u001B[0m: \nTFBertModel requires the TensorFlow library but it was not found in your environment. Checkout the instructions on the\ninstallation page: https://www.tensorflow.org/install and follow the ones that match your environment.\n"
     ]
    }
   ],
   "source": [
    "# Name of the BERT model to use\n",
    "model_name = 'bert-base-uncased'\n",
    "\n",
    "# Max length of tokens\n",
    "max_length = 45\n",
    "\n",
    "# Load transformers config and set output_hidden_states to False\n",
    "config = BertConfig.from_pretrained(model_name)\n",
    "config.output_hidden_states = False\n",
    "\n",
    "# Load BERT tokenizer\n",
    "tokenizer = BertTokenizerFast.from_pretrained(pretrained_model_name_or_path = model_name, config = config)\n",
    "\n",
    "# Load the Transformers BERT model\n",
    "transformer_bert_model = TFBertModel.from_pretrained(model_name, config = config)"
   ],
   "metadata": {
    "collapsed": false,
    "pycharm": {
     "name": "#%%\n"
    }
   }
  },
  {
   "cell_type": "code",
   "execution_count": null,
   "outputs": [],
   "source": [],
   "metadata": {
    "collapsed": false,
    "pycharm": {
     "name": "#%%\n"
    }
   }
  }
 ],
 "metadata": {
  "kernelspec": {
   "display_name": "Python 3",
   "language": "python",
   "name": "python3"
  },
  "language_info": {
   "codemirror_mode": {
    "name": "ipython",
    "version": 2
   },
   "file_extension": ".py",
   "mimetype": "text/x-python",
   "name": "python",
   "nbconvert_exporter": "python",
   "pygments_lexer": "ipython2",
   "version": "2.7.6"
  }
 },
 "nbformat": 4,
 "nbformat_minor": 0
}