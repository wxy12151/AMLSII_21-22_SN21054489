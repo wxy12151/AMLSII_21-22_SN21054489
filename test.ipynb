{
 "cells": [
  {
   "cell_type": "code",
   "execution_count": 1,
   "metadata": {
    "executionInfo": {
     "elapsed": 7576,
     "status": "ok",
     "timestamp": 1649694963113,
     "user": {
      "displayName": "武兴宇",
      "userId": "13491807285349578879"
     },
     "user_tz": -60
    },
    "id": "gQf5v55gezcr"
   },
   "outputs": [],
   "source": [
    "import os\n",
    "import numpy as np\n",
    "import pandas as pd\n",
    "import matplotlib\n",
    "import matplotlib.pyplot as plt\n",
    "\n",
    "from sklearn.model_selection import train_test_split\n",
    "\n",
    "import tensorflow as tf"
   ]
  },
  {
   "cell_type": "code",
   "execution_count": 2,
   "outputs": [],
   "source": [
    "os.environ[\"CUDA_VISIBLE_DEVICES\"]=\"0\""
   ],
   "metadata": {
    "collapsed": false,
    "pycharm": {
     "name": "#%%\n"
    }
   }
  },
  {
   "cell_type": "markdown",
   "metadata": {
    "id": "EOQHeo_oezcu"
   },
   "source": [
    "# 1. Load the dataset"
   ]
  },
  {
   "cell_type": "code",
   "execution_count": 3,
   "metadata": {
    "colab": {
     "base_uri": "https://localhost:8080/"
    },
    "executionInfo": {
     "elapsed": 3612,
     "status": "ok",
     "timestamp": 1649695576790,
     "user": {
      "displayName": "武兴宇",
      "userId": "13491807285349578879"
     },
     "user_tz": -60
    },
    "id": "fOHqzPA7fUYH",
    "outputId": "ed973a63-27f2-473a-b87a-0038762897f2"
   },
   "outputs": [],
   "source": [
    "### import google cloud drive\n",
    "# from google.colab import drive\n",
    "# drive.mount('/content/drive')"
   ]
  },
  {
   "cell_type": "code",
   "execution_count": 4,
   "metadata": {
    "colab": {
     "base_uri": "https://localhost:8080/"
    },
    "executionInfo": {
     "elapsed": 180,
     "status": "ok",
     "timestamp": 1649695752816,
     "user": {
      "displayName": "武兴宇",
      "userId": "13491807285349578879"
     },
     "user_tz": -60
    },
    "id": "umA0Xfs8guu0",
    "outputId": "8331b676-1a23-4baa-9767-d358934a0d9b"
   },
   "outputs": [],
   "source": [
    "# path = \"/content/drive/MyDrive/AMLS_II_assignment21_22\"\n",
    "# os.chdir(path)\n",
    "# print(os.getcwd())"
   ]
  },
  {
   "cell_type": "code",
   "execution_count": 5,
   "metadata": {
    "executionInfo": {
     "elapsed": 214,
     "status": "ok",
     "timestamp": 1649694971525,
     "user": {
      "displayName": "武兴宇",
      "userId": "13491807285349578879"
     },
     "user_tz": -60
    },
    "id": "JrTPCAAXezcv"
   },
   "outputs": [],
   "source": [
    "### unzip training and test datasets.\n",
    "# !apt-get install unzip\n",
    "# !unzip ./Datasets/sentiment-analysis-on-movie-reviews/test.tsv.zip test.tsv\n",
    "# !unzip ./Datasets/sentiment-analysis-on-movie-reviews/train.tsv.zip train.tsv"
   ]
  },
  {
   "cell_type": "code",
   "execution_count": 6,
   "metadata": {
    "executionInfo": {
     "elapsed": 2042,
     "status": "ok",
     "timestamp": 1649695761123,
     "user": {
      "displayName": "武兴宇",
      "userId": "13491807285349578879"
     },
     "user_tz": -60
    },
    "id": "jzkPxlRRezcv"
   },
   "outputs": [],
   "source": [
    "df = pd.read_csv('./Datasets/train.tsv', sep='\\t')\n",
    "df_test=pd.read_csv('./Datasets/test.tsv', sep='\\t')\n",
    "sample_submission = pd.read_csv('./Datasets/sampleSubmission.csv')"
   ]
  },
  {
   "cell_type": "code",
   "execution_count": 7,
   "metadata": {
    "colab": {
     "base_uri": "https://localhost:8080/",
     "height": 206
    },
    "executionInfo": {
     "elapsed": 220,
     "status": "ok",
     "timestamp": 1649695768053,
     "user": {
      "displayName": "武兴宇",
      "userId": "13491807285349578879"
     },
     "user_tz": -60
    },
    "id": "9bSWuM2jezcw",
    "outputId": "377833b8-fb9e-451e-d32d-a780740ec5b4"
   },
   "outputs": [
    {
     "data": {
      "text/plain": "   PhraseId  SentenceId                                             Phrase  \\\n0         1           1  A series of escapades demonstrating the adage ...   \n1         2           1  A series of escapades demonstrating the adage ...   \n2         3           1                                           A series   \n3         4           1                                                  A   \n4         5           1                                             series   \n\n   Sentiment  \n0          1  \n1          2  \n2          2  \n3          2  \n4          2  ",
      "text/html": "<div>\n<style scoped>\n    .dataframe tbody tr th:only-of-type {\n        vertical-align: middle;\n    }\n\n    .dataframe tbody tr th {\n        vertical-align: top;\n    }\n\n    .dataframe thead th {\n        text-align: right;\n    }\n</style>\n<table border=\"1\" class=\"dataframe\">\n  <thead>\n    <tr style=\"text-align: right;\">\n      <th></th>\n      <th>PhraseId</th>\n      <th>SentenceId</th>\n      <th>Phrase</th>\n      <th>Sentiment</th>\n    </tr>\n  </thead>\n  <tbody>\n    <tr>\n      <th>0</th>\n      <td>1</td>\n      <td>1</td>\n      <td>A series of escapades demonstrating the adage ...</td>\n      <td>1</td>\n    </tr>\n    <tr>\n      <th>1</th>\n      <td>2</td>\n      <td>1</td>\n      <td>A series of escapades demonstrating the adage ...</td>\n      <td>2</td>\n    </tr>\n    <tr>\n      <th>2</th>\n      <td>3</td>\n      <td>1</td>\n      <td>A series</td>\n      <td>2</td>\n    </tr>\n    <tr>\n      <th>3</th>\n      <td>4</td>\n      <td>1</td>\n      <td>A</td>\n      <td>2</td>\n    </tr>\n    <tr>\n      <th>4</th>\n      <td>5</td>\n      <td>1</td>\n      <td>series</td>\n      <td>2</td>\n    </tr>\n  </tbody>\n</table>\n</div>"
     },
     "execution_count": 7,
     "metadata": {},
     "output_type": "execute_result"
    }
   ],
   "source": [
    "df.head()"
   ]
  },
  {
   "cell_type": "code",
   "execution_count": 8,
   "metadata": {
    "colab": {
     "base_uri": "https://localhost:8080/",
     "height": 214
    },
    "executionInfo": {
     "elapsed": 227,
     "status": "ok",
     "timestamp": 1649695769384,
     "user": {
      "displayName": "武兴宇",
      "userId": "13491807285349578879"
     },
     "user_tz": -60
    },
    "id": "5BghpbV5ezcw",
    "outputId": "9a0e8688-34fe-4ebd-8b0f-f1fa1d3dfeea"
   },
   "outputs": [
    {
     "data": {
      "text/plain": "   PhraseId  SentenceId                                             Phrase\n0    156061        8545  An intermittently pleasing but mostly routine ...\n1    156062        8545  An intermittently pleasing but mostly routine ...\n2    156063        8545                                                 An\n3    156064        8545  intermittently pleasing but mostly routine effort\n4    156065        8545         intermittently pleasing but mostly routine",
      "text/html": "<div>\n<style scoped>\n    .dataframe tbody tr th:only-of-type {\n        vertical-align: middle;\n    }\n\n    .dataframe tbody tr th {\n        vertical-align: top;\n    }\n\n    .dataframe thead th {\n        text-align: right;\n    }\n</style>\n<table border=\"1\" class=\"dataframe\">\n  <thead>\n    <tr style=\"text-align: right;\">\n      <th></th>\n      <th>PhraseId</th>\n      <th>SentenceId</th>\n      <th>Phrase</th>\n    </tr>\n  </thead>\n  <tbody>\n    <tr>\n      <th>0</th>\n      <td>156061</td>\n      <td>8545</td>\n      <td>An intermittently pleasing but mostly routine ...</td>\n    </tr>\n    <tr>\n      <th>1</th>\n      <td>156062</td>\n      <td>8545</td>\n      <td>An intermittently pleasing but mostly routine ...</td>\n    </tr>\n    <tr>\n      <th>2</th>\n      <td>156063</td>\n      <td>8545</td>\n      <td>An</td>\n    </tr>\n    <tr>\n      <th>3</th>\n      <td>156064</td>\n      <td>8545</td>\n      <td>intermittently pleasing but mostly routine effort</td>\n    </tr>\n    <tr>\n      <th>4</th>\n      <td>156065</td>\n      <td>8545</td>\n      <td>intermittently pleasing but mostly routine</td>\n    </tr>\n  </tbody>\n</table>\n</div>"
     },
     "execution_count": 8,
     "metadata": {},
     "output_type": "execute_result"
    }
   ],
   "source": [
    "df_test.head()"
   ]
  },
  {
   "cell_type": "code",
   "execution_count": 9,
   "metadata": {
    "colab": {
     "base_uri": "https://localhost:8080/"
    },
    "executionInfo": {
     "elapsed": 339,
     "status": "ok",
     "timestamp": 1649695792591,
     "user": {
      "displayName": "武兴宇",
      "userId": "13491807285349578879"
     },
     "user_tz": -60
    },
    "id": "FmXd90Uxezcx",
    "outputId": "4011124a-e0ec-4316-a063-d84883859f7b"
   },
   "outputs": [
    {
     "data": {
      "text/plain": "((156060, 4), (66292, 3))"
     },
     "execution_count": 9,
     "metadata": {},
     "output_type": "execute_result"
    }
   ],
   "source": [
    "df.shape, df_test.shape"
   ]
  },
  {
   "cell_type": "markdown",
   "metadata": {
    "id": "JTz4Gmsxezcx"
   },
   "source": [
    "We can see that df_test's Sentiment/label is not available, thus we need to create our own test dataset for evaluation."
   ]
  },
  {
   "cell_type": "markdown",
   "metadata": {
    "id": "PKUHt8vYezcx"
   },
   "source": [
    "# 2. Split into train(validation within it) and test"
   ]
  },
  {
   "cell_type": "code",
   "execution_count": 10,
   "metadata": {
    "executionInfo": {
     "elapsed": 256,
     "status": "ok",
     "timestamp": 1649695794821,
     "user": {
      "displayName": "武兴宇",
      "userId": "13491807285349578879"
     },
     "user_tz": -60
    },
    "id": "AZKpWo4Dezcy"
   },
   "outputs": [],
   "source": [
    "df_train, df_test = train_test_split(df, test_size = 0.1, random_state = 3) #test:train = 1:9"
   ]
  },
  {
   "cell_type": "markdown",
   "metadata": {
    "id": "ZRTwXuCYezcy"
   },
   "source": [
    "# 3. Data Analytics"
   ]
  },
  {
   "cell_type": "markdown",
   "metadata": {
    "id": "Ib6OHkkVezcy"
   },
   "source": [
    "## 3.1 Dataset overview"
   ]
  },
  {
   "cell_type": "code",
   "execution_count": 11,
   "metadata": {
    "colab": {
     "base_uri": "https://localhost:8080/"
    },
    "executionInfo": {
     "elapsed": 236,
     "status": "ok",
     "timestamp": 1649695875918,
     "user": {
      "displayName": "武兴宇",
      "userId": "13491807285349578879"
     },
     "user_tz": -60
    },
    "id": "SyDhsImKezcy",
    "outputId": "4daeafa1-9127-42fd-b58e-66b4b670a696"
   },
   "outputs": [
    {
     "data": {
      "text/plain": "((140454, 4), (15606, 4))"
     },
     "execution_count": 11,
     "metadata": {},
     "output_type": "execute_result"
    }
   ],
   "source": [
    "df_train.shape, df_test.shape"
   ]
  },
  {
   "cell_type": "code",
   "execution_count": 12,
   "metadata": {
    "colab": {
     "base_uri": "https://localhost:8080/",
     "height": 206
    },
    "executionInfo": {
     "elapsed": 2,
     "status": "ok",
     "timestamp": 1649695876669,
     "user": {
      "displayName": "武兴宇",
      "userId": "13491807285349578879"
     },
     "user_tz": -60
    },
    "id": "pyu-I5x8ezcy",
    "outputId": "4a8ed1fd-6fbf-4fb9-8ff6-6d4248fd4358"
   },
   "outputs": [
    {
     "data": {
      "text/plain": "        PhraseId  SentenceId  \\\n151793    151794        8283   \n144411    144412        7840   \n116367    116368        6205   \n37456      37457        1778   \n2961        2962         112   \n\n                                                   Phrase  Sentiment  \n151793                                     messy emotions          2  \n144411                                        Man , Heart          2  \n116367                                            annoyed          1  \n37456   its exquisite acting , inventive screenplay , ...          4  \n2961                                             postcard          2  ",
      "text/html": "<div>\n<style scoped>\n    .dataframe tbody tr th:only-of-type {\n        vertical-align: middle;\n    }\n\n    .dataframe tbody tr th {\n        vertical-align: top;\n    }\n\n    .dataframe thead th {\n        text-align: right;\n    }\n</style>\n<table border=\"1\" class=\"dataframe\">\n  <thead>\n    <tr style=\"text-align: right;\">\n      <th></th>\n      <th>PhraseId</th>\n      <th>SentenceId</th>\n      <th>Phrase</th>\n      <th>Sentiment</th>\n    </tr>\n  </thead>\n  <tbody>\n    <tr>\n      <th>151793</th>\n      <td>151794</td>\n      <td>8283</td>\n      <td>messy emotions</td>\n      <td>2</td>\n    </tr>\n    <tr>\n      <th>144411</th>\n      <td>144412</td>\n      <td>7840</td>\n      <td>Man , Heart</td>\n      <td>2</td>\n    </tr>\n    <tr>\n      <th>116367</th>\n      <td>116368</td>\n      <td>6205</td>\n      <td>annoyed</td>\n      <td>1</td>\n    </tr>\n    <tr>\n      <th>37456</th>\n      <td>37457</td>\n      <td>1778</td>\n      <td>its exquisite acting , inventive screenplay , ...</td>\n      <td>4</td>\n    </tr>\n    <tr>\n      <th>2961</th>\n      <td>2962</td>\n      <td>112</td>\n      <td>postcard</td>\n      <td>2</td>\n    </tr>\n  </tbody>\n</table>\n</div>"
     },
     "execution_count": 12,
     "metadata": {},
     "output_type": "execute_result"
    }
   ],
   "source": [
    "df_train.head()"
   ]
  },
  {
   "cell_type": "code",
   "execution_count": 13,
   "metadata": {
    "colab": {
     "base_uri": "https://localhost:8080/",
     "height": 206
    },
    "executionInfo": {
     "elapsed": 7,
     "status": "ok",
     "timestamp": 1649695878233,
     "user": {
      "displayName": "武兴宇",
      "userId": "13491807285349578879"
     },
     "user_tz": -60
    },
    "id": "c10pOimeezcy",
    "outputId": "256aede1-68ab-461c-8d37-0b249d9461d9"
   },
   "outputs": [
    {
     "data": {
      "text/plain": "        PhraseId  SentenceId  \\\n104526    104527        5516   \n135932    135933        7343   \n150608    150609        8209   \n62279      62280        3148   \n109780    109781        5816   \n\n                                                   Phrase  Sentiment  \n104526                                               bomb          0  \n135932                                       as a bonus ,          2  \n150608                    Even on its own ludicrous terms          2  \n62279        Quitting hits home with disorienting force .          3  \n109780  found writer-director Mitch Davis 's wall of k...          1  ",
      "text/html": "<div>\n<style scoped>\n    .dataframe tbody tr th:only-of-type {\n        vertical-align: middle;\n    }\n\n    .dataframe tbody tr th {\n        vertical-align: top;\n    }\n\n    .dataframe thead th {\n        text-align: right;\n    }\n</style>\n<table border=\"1\" class=\"dataframe\">\n  <thead>\n    <tr style=\"text-align: right;\">\n      <th></th>\n      <th>PhraseId</th>\n      <th>SentenceId</th>\n      <th>Phrase</th>\n      <th>Sentiment</th>\n    </tr>\n  </thead>\n  <tbody>\n    <tr>\n      <th>104526</th>\n      <td>104527</td>\n      <td>5516</td>\n      <td>bomb</td>\n      <td>0</td>\n    </tr>\n    <tr>\n      <th>135932</th>\n      <td>135933</td>\n      <td>7343</td>\n      <td>as a bonus ,</td>\n      <td>2</td>\n    </tr>\n    <tr>\n      <th>150608</th>\n      <td>150609</td>\n      <td>8209</td>\n      <td>Even on its own ludicrous terms</td>\n      <td>2</td>\n    </tr>\n    <tr>\n      <th>62279</th>\n      <td>62280</td>\n      <td>3148</td>\n      <td>Quitting hits home with disorienting force .</td>\n      <td>3</td>\n    </tr>\n    <tr>\n      <th>109780</th>\n      <td>109781</td>\n      <td>5816</td>\n      <td>found writer-director Mitch Davis 's wall of k...</td>\n      <td>1</td>\n    </tr>\n  </tbody>\n</table>\n</div>"
     },
     "execution_count": 13,
     "metadata": {},
     "output_type": "execute_result"
    }
   ],
   "source": [
    "df_test.head()"
   ]
  },
  {
   "cell_type": "markdown",
   "metadata": {
    "id": "snaUYyBTezcy"
   },
   "source": [
    "Above we can see that Phrase and Sentiment columns are all we need from the file in order to train the models later, therefore we will use these as feature (X) and label (Y) when fitting the transformer."
   ]
  },
  {
   "cell_type": "markdown",
   "metadata": {
    "id": "HRPgSGFGezcz"
   },
   "source": [
    "## 3.2 Check if there is null/empty value"
   ]
  },
  {
   "cell_type": "code",
   "execution_count": 14,
   "metadata": {
    "colab": {
     "base_uri": "https://localhost:8080/"
    },
    "executionInfo": {
     "elapsed": 201,
     "status": "ok",
     "timestamp": 1649695879901,
     "user": {
      "displayName": "武兴宇",
      "userId": "13491807285349578879"
     },
     "user_tz": -60
    },
    "id": "10EieiOUezcz",
    "outputId": "11329442-ce96-4207-f1f8-639046806fae"
   },
   "outputs": [
    {
     "name": "stdout",
     "output_type": "stream",
     "text": [
      "<class 'pandas.core.frame.DataFrame'>\n",
      "Int64Index: 140454 entries, 151793 to 71530\n",
      "Data columns (total 4 columns):\n",
      " #   Column      Non-Null Count   Dtype \n",
      "---  ------      --------------   ----- \n",
      " 0   PhraseId    140454 non-null  int64 \n",
      " 1   SentenceId  140454 non-null  int64 \n",
      " 2   Phrase      140454 non-null  object\n",
      " 3   Sentiment   140454 non-null  int64 \n",
      "dtypes: int64(3), object(1)\n",
      "memory usage: 5.4+ MB\n"
     ]
    },
    {
     "data": {
      "text/plain": "(None,\n PhraseId      0\n SentenceId    0\n Phrase        0\n Sentiment     0\n dtype: int64)"
     },
     "execution_count": 14,
     "metadata": {},
     "output_type": "execute_result"
    }
   ],
   "source": [
    "df_train.info(), df_train.isnull().sum()"
   ]
  },
  {
   "cell_type": "markdown",
   "metadata": {
    "id": "oPR74X7Hezcz"
   },
   "source": [
    "## 3.3 Class Distribution"
   ]
  },
  {
   "cell_type": "markdown",
   "metadata": {
    "id": "lLNc3oKsezcz"
   },
   "source": [
    "The dataset looks good and we need to know how are distributed the 5 classes in the label so as to know it's balanced or not."
   ]
  },
  {
   "cell_type": "code",
   "execution_count": 15,
   "metadata": {
    "colab": {
     "base_uri": "https://localhost:8080/"
    },
    "executionInfo": {
     "elapsed": 1,
     "status": "ok",
     "timestamp": 1649695880773,
     "user": {
      "displayName": "武兴宇",
      "userId": "13491807285349578879"
     },
     "user_tz": -60
    },
    "id": "cABHEkctezcz",
    "outputId": "44a8e084-a745-4285-b1e4-a5d589c6008f"
   },
   "outputs": [
    {
     "data": {
      "text/plain": "2    71624\n3    29626\n1    24545\n4     8288\n0     6371\nName: Sentiment, dtype: int64"
     },
     "execution_count": 15,
     "metadata": {},
     "output_type": "execute_result"
    }
   ],
   "source": [
    "df_train.Sentiment.value_counts()"
   ]
  },
  {
   "cell_type": "markdown",
   "metadata": {
    "id": "jgRLh__Rezcz"
   },
   "source": [
    "The sentiment labels are:\n",
    "\n",
    "0 - negative\n",
    "1 - somewhat negative\n",
    "2 - neutral\n",
    "3 - somewhat positive\n",
    "4 - positive"
   ]
  },
  {
   "cell_type": "code",
   "execution_count": 16,
   "metadata": {
    "colab": {
     "base_uri": "https://localhost:8080/",
     "height": 717
    },
    "executionInfo": {
     "elapsed": 440,
     "status": "ok",
     "timestamp": 1649695881486,
     "user": {
      "displayName": "武兴宇",
      "userId": "13491807285349578879"
     },
     "user_tz": -60
    },
    "id": "Z1FfPs73ezcz",
    "outputId": "6f9422f0-8b58-4c49-f742-4f9cac55cb16"
   },
   "outputs": [
    {
     "data": {
      "text/plain": "<AxesSubplot:title={'center':'Pie chart of Sentiment Class'}, ylabel='Sentiment'>"
     },
     "execution_count": 16,
     "metadata": {},
     "output_type": "execute_result"
    },
    {
     "data": {
      "text/plain": "<Figure size 864x864 with 1 Axes>",
      "image/png": "[encoded data removed]"
     },
     "metadata": {},
     "output_type": "display_data"
    }
   ],
   "source": [
    "df2 = df_train.copy(deep = True) ## copy the dataset deeply\n",
    "pie1 = pd.DataFrame(df2['Sentiment'].replace(0,'Negative').replace(1,'Somewhat Negative').replace(2,'Neutral').replace(3,'Somewhat Positive').replace(4,'Positive').value_counts())\n",
    "pie1.reset_index(inplace = True)\n",
    "pie1.plot(kind = 'pie', title = 'Pie chart of Sentiment Class',y = 'Sentiment',\n",
    "          autopct = '%1.1f%%', shadow = False, labels = pie1['index'], legend = False, fontsize = 14, figsize = (12,12))"
   ]
  },
  {
   "cell_type": "markdown",
   "metadata": {
    "id": "Raf7zHmcezc0"
   },
   "source": [
    "The label is considerably unbalanced, only 'Neutral' corresponds to more than 50% of instances and there is a slightly skewed towards positive reviews. Early we can say the class to be predicted will be sidetracked toward the more frequent classes, this is why we need a text balancing technique just like 'SMOTE' for numerical features."
   ]
  },
  {
   "cell_type": "markdown",
   "metadata": {
    "id": "8AZ01fCjezc0"
   },
   "source": [
    "## 3.4 No.words Distribution"
   ]
  },
  {
   "cell_type": "markdown",
   "metadata": {
    "id": "qEcZgWWxezc0"
   },
   "source": [
    "Time now to find out the number of words in reviews, in order to understand a bit better we will plot histograms for each class"
   ]
  },
  {
   "cell_type": "code",
   "execution_count": 17,
   "metadata": {
    "executionInfo": {
     "elapsed": 2,
     "status": "ok",
     "timestamp": 1649695882825,
     "user": {
      "displayName": "武兴宇",
      "userId": "13491807285349578879"
     },
     "user_tz": -60
    },
    "id": "BjX6uvkNezc0"
   },
   "outputs": [],
   "source": [
    "# df_train[df_train['Sentiment'] == 0]['Phrase'].str.split().map(lambda x: len(x))"
   ]
  },
  {
   "cell_type": "code",
   "execution_count": 18,
   "metadata": {
    "colab": {
     "base_uri": "https://localhost:8080/",
     "height": 405
    },
    "executionInfo": {
     "elapsed": 2336,
     "status": "ok",
     "timestamp": 1649695885362,
     "user": {
      "displayName": "武兴宇",
      "userId": "13491807285349578879"
     },
     "user_tz": -60
    },
    "id": "311slfckezc0",
    "outputId": "039394c8-0751-4d2d-9381-87178c81c946"
   },
   "outputs": [
    {
     "data": {
      "text/plain": "Text(0.5, 0.98, 'Histogram number of words in reviews')"
     },
     "execution_count": 18,
     "metadata": {},
     "output_type": "execute_result"
    },
    {
     "data": {
      "text/plain": "<Figure size 1800x576 with 5 Axes>",
      "image/png": "[encoded data removed]"
     },
     "metadata": {
      "needs_background": "light"
     },
     "output_type": "display_data"
    }
   ],
   "source": [
    "f, (ax1, ax2, ax3, ax4, ax5) = plt.subplots(1,5,figsize=(25,8))\n",
    "\n",
    "ax1.hist(df_train[df_train['Sentiment'] == 0]['Phrase'].str.split().map(lambda x: len(x)), bins=50, color='b')\n",
    "ax1.set_title('Negative Reviews')\n",
    "\n",
    "ax2.hist(df_train[df_train['Sentiment'] == 1]['Phrase'].str.split().map(lambda x: len(x)), bins=50, color='r')\n",
    "ax2.set_title('Somewhat Negative Reviews')\n",
    "\n",
    "ax3.hist(df_train[df_train['Sentiment'] == 2]['Phrase'].str.split().map(lambda x: len(x)), bins=50, color='g')\n",
    "ax3.set_title('Neutral Reviews')\n",
    "\n",
    "ax4.hist(df_train[df_train['Sentiment'] == 3]['Phrase'].str.split().map(lambda x: len(x)), bins=50, color='y')\n",
    "ax4.set_title('Somewhat Positive Reviews')\n",
    "\n",
    "ax5.hist(df_train[df_train['Sentiment'] == 4]['Phrase'].str.split().map(lambda x: len(x)), bins=50, color='k')\n",
    "ax5.set_title('Positive Reviews')\n",
    "\n",
    "f.suptitle('Histogram number of words in reviews')"
   ]
  },
  {
   "cell_type": "markdown",
   "metadata": {
    "id": "jKs3XKlgezc0"
   },
   "source": [
    "In the 5 histograms we can see the distribution behaves like a negative exponential function decreasing significantly as the x-axis increases. It seems like the longest sentence in Phrase column corresponds to a class 'Negative Reviews' and is around 52 words, now let's obtain the longest one by using the max() function:"
   ]
  },
  {
   "cell_type": "code",
   "execution_count": 19,
   "metadata": {
    "colab": {
     "base_uri": "https://localhost:8080/"
    },
    "executionInfo": {
     "elapsed": 579,
     "status": "ok",
     "timestamp": 1649695885939,
     "user": {
      "displayName": "武兴宇",
      "userId": "13491807285349578879"
     },
     "user_tz": -60
    },
    "id": "AcC6z8Cmezc0",
    "outputId": "a20fa57c-46ad-467e-b7ce-64f1b5eea401"
   },
   "outputs": [
    {
     "data": {
      "text/plain": "52"
     },
     "execution_count": 19,
     "metadata": {},
     "output_type": "execute_result"
    }
   ],
   "source": [
    "df_train['Phrase'].str.split().map(lambda x: len(x)).max()"
   ]
  },
  {
   "cell_type": "markdown",
   "metadata": {
    "id": "zQrtLzmgezc0"
   },
   "source": [
    "Effectively was 52 words, this means if we would Tokenize by word the max_length should be 52, however as transformers consider sub-words tokenization such number could be increased depending on the words being used which can increase such length to 60 or even more, thus we have to take that into account when modeling as it could cause our model to take significatively a long time to train, therefore we have to find a trade-off between training time and performance."
   ]
  },
  {
   "cell_type": "code",
   "execution_count": 20,
   "metadata": {
    "colab": {
     "base_uri": "https://localhost:8080/"
    },
    "executionInfo": {
     "elapsed": 3046,
     "status": "ok",
     "timestamp": 1649695889168,
     "user": {
      "displayName": "武兴宇",
      "userId": "13491807285349578879"
     },
     "user_tz": -60
    },
    "id": "98u4HkKfezc0",
    "outputId": "a4004939-f864-41cd-822f-d0062d570592"
   },
   "outputs": [
    {
     "name": "stdout",
     "output_type": "stream",
     "text": [
      "Number of sentences which contain more than 20 words:  10311\n",
      " \n",
      "Number of sentences which contain more than 30 words:  2315\n",
      " \n",
      "Number of sentences which contain more than 40 words:  316\n",
      " \n",
      "Number of sentences which contain more than 50 words:  16\n",
      " \n",
      "Number of sentences which contain 52 words:  3\n",
      " \n"
     ]
    }
   ],
   "source": [
    "df20=pd.DataFrame(df_train['Phrase'].str.split().map(lambda x: len(x))>=20)\n",
    "print('Number of sentences which contain more than 20 words: ', df20.loc[df20['Phrase']==True].shape[0])\n",
    "print(' ')\n",
    "df30=pd.DataFrame(df_train['Phrase'].str.split().map(lambda x: len(x))>=30)\n",
    "print('Number of sentences which contain more than 30 words: ', df30.loc[df30['Phrase']==True].shape[0])\n",
    "print(' ')\n",
    "df40=pd.DataFrame(df_train['Phrase'].str.split().map(lambda x: len(x))>=40)\n",
    "print('Number of sentences which contain more than 40 words: ', df40.loc[df40['Phrase']==True].shape[0])\n",
    "print(' ')\n",
    "df50=pd.DataFrame(df_train['Phrase'].str.split().map(lambda x: len(x))>=50)\n",
    "print('Number of sentences which contain more than 50 words: ', df50.loc[df50['Phrase']==True].shape[0])\n",
    "print(' ')\n",
    "df52=pd.DataFrame(df_train['Phrase'].str.split().map(lambda x: len(x))==52)\n",
    "print('Number of sentences which contain 52 words: ', df52.loc[df52['Phrase']==True].shape[0])\n",
    "print(' ')\n",
    "#dfff.loc[dfff['Phrase']==True]"
   ]
  },
  {
   "cell_type": "markdown",
   "metadata": {
    "id": "k4vyKjZBezc0"
   },
   "source": [
    "Above we see 316 reviews contain more than 40 words and only 16 reviews above 50 words, these two number corresponds to a tiny proportion of the total number of instances (140,454), therefore setting to these numbers will not affect too much the classification. Below we can see an example of a sentence containing 52 words, observe there are misspelled words, acronyms and some of them can be decomposed into sub-words:"
   ]
  },
  {
   "cell_type": "code",
   "execution_count": 21,
   "metadata": {
    "colab": {
     "base_uri": "https://localhost:8080/"
    },
    "executionInfo": {
     "elapsed": 216,
     "status": "ok",
     "timestamp": 1649695891455,
     "user": {
      "displayName": "武兴宇",
      "userId": "13491807285349578879"
     },
     "user_tz": -60
    },
    "id": "di0bxp2jezc1",
    "outputId": "9f1631d6-72ae-4408-dee6-9fbd5f307192"
   },
   "outputs": [
    {
     "name": "stdout",
     "output_type": "stream",
     "text": [
      "There are n't too many films that can be as simultaneously funny , offbeat and heartwarming -LRB- without a thick shmear of the goo , at least -RRB- , but `` Elling '' manages to do all three quite well , making it one of the year 's most enjoyable releases .\n"
     ]
    }
   ],
   "source": [
    "print(df_train.loc[87835,'Phrase'])"
   ]
  },
  {
   "cell_type": "markdown",
   "metadata": {
    "id": "knK69kxoezc1"
   },
   "source": [
    "# 4. Prepeartion"
   ]
  },
  {
   "cell_type": "markdown",
   "metadata": {
    "id": "WgNN1wB_ezc1"
   },
   "source": [
    "## 4.1 Install transformers and import tensorflow.keras"
   ]
  },
  {
   "cell_type": "markdown",
   "metadata": {
    "id": "QMgLxFRcezc1"
   },
   "source": [
    "Firstly, we have to install the transformers library offered by HuggingFace so as enable all useful functions when building the four models."
   ]
  },
  {
   "cell_type": "code",
   "execution_count": 22,
   "metadata": {
    "colab": {
     "base_uri": "https://localhost:8080/"
    },
    "executionInfo": {
     "elapsed": 10419,
     "status": "ok",
     "timestamp": 1649695904642,
     "user": {
      "displayName": "武兴宇",
      "userId": "13491807285349578879"
     },
     "user_tz": -60
    },
    "id": "Tx86cy1Bezc1",
    "outputId": "fefc5d10-4beb-490e-9ca6-5ada6b62ce7c"
   },
   "outputs": [],
   "source": [
    "# !pip install transformers"
   ]
  },
  {
   "cell_type": "markdown",
   "source": [
    "Then what we need from tensorflow.keras:"
   ],
   "metadata": {
    "collapsed": false,
    "pycharm": {
     "name": "#%% md\n"
    }
   }
  },
  {
   "cell_type": "code",
   "execution_count": null,
   "outputs": [],
   "source": [
    "from tensorflow.keras.layers import Input, Dropout, Dense\n",
    "from tensorflow.keras.models import Model\n",
    "from tensorflow.keras.optimizers import Adam\n",
    "from tensorflow.keras.callbacks import EarlyStopping\n",
    "from tensorflow.keras.initializers import TruncatedNormal\n",
    "from tensorflow.keras.losses import CategoricalCrossentropy\n",
    "from tensorflow.keras.metrics import CategoricalAccuracy\n",
    "from tensorflow.keras.utils import to_categorical"
   ],
   "metadata": {
    "collapsed": false,
    "pycharm": {
     "name": "#%%\n"
    }
   }
  },
  {
   "cell_type": "markdown",
   "metadata": {
    "id": "zl98BgHwezc1"
   },
   "source": [
    "## 4.2 Extract useful features and labels"
   ]
  },
  {
   "cell_type": "markdown",
   "metadata": {
    "id": "vrKC5Voeezc1"
   },
   "source": [
    "Now we have to gather from the dataset only the two columns useful for training (Phrase and Sentiment):"
   ]
  },
  {
   "cell_type": "code",
   "execution_count": 23,
   "metadata": {
    "colab": {
     "base_uri": "https://localhost:8080/"
    },
    "executionInfo": {
     "elapsed": 256,
     "status": "ok",
     "timestamp": 1649695910342,
     "user": {
      "displayName": "武兴宇",
      "userId": "13491807285349578879"
     },
     "user_tz": -60
    },
    "id": "fd54fS6Tezc1",
    "outputId": "c849843b-72e7-4515-fa58-1fc6e4dac379"
   },
   "outputs": [
    {
     "name": "stderr",
     "output_type": "stream",
     "text": [
      "C:\\Users\\12151\\AppData\\Local\\Temp\\ipykernel_21292\\2871143164.py:4: SettingWithCopyWarning: \n",
      "A value is trying to be set on a copy of a slice from a DataFrame.\n",
      "Try using .loc[row_indexer,col_indexer] = value instead\n",
      "\n",
      "See the caveats in the documentation: https://pandas.pydata.org/pandas-docs/stable/user_guide/indexing.html#returning-a-view-versus-a-copy\n",
      "  data['Sentiment_label'] = pd.Categorical(data['Sentiment'])\n",
      "C:\\Users\\12151\\AppData\\Local\\Temp\\ipykernel_21292\\2871143164.py:7: SettingWithCopyWarning: \n",
      "A value is trying to be set on a copy of a slice from a DataFrame.\n",
      "Try using .loc[row_indexer,col_indexer] = value instead\n",
      "\n",
      "See the caveats in the documentation: https://pandas.pydata.org/pandas-docs/stable/user_guide/indexing.html#returning-a-view-versus-a-copy\n",
      "  data['Sentiment'] = data['Sentiment_label'].cat.codes\n"
     ]
    }
   ],
   "source": [
    "data = df_train[['Phrase', 'Sentiment']]\n",
    "\n",
    "# Set your model output as categorical and save in new label col\n",
    "data['Sentiment_label'] = pd.Categorical(data['Sentiment'])\n",
    "\n",
    "# Transform your output to numeric\n",
    "data['Sentiment'] = data['Sentiment_label'].cat.codes"
   ]
  },
  {
   "cell_type": "code",
   "execution_count": 24,
   "metadata": {
    "colab": {
     "base_uri": "https://localhost:8080/",
     "height": 423
    },
    "executionInfo": {
     "elapsed": 206,
     "status": "ok",
     "timestamp": 1649695917434,
     "user": {
      "displayName": "武兴宇",
      "userId": "13491807285349578879"
     },
     "user_tz": -60
    },
    "id": "D7itDzrKezc1",
    "outputId": "c3c91011-17ab-4f54-a53b-5c87a61b6add"
   },
   "outputs": [
    {
     "data": {
      "text/plain": "                                                   Phrase  Sentiment  \\\n151793                                     messy emotions          2   \n144411                                        Man , Heart          2   \n116367                                            annoyed          1   \n37456   its exquisite acting , inventive screenplay , ...          4   \n2961                                             postcard          2   \n...                                                   ...        ...   \n11261                                           the years          2   \n104704                                        best sequel          4   \n48056                                  the last 100 years          2   \n77049                   in which murder is casual and fun          2   \n71530   seems to be missing a great deal of the acerbi...          1   \n\n       Sentiment_label  \n151793               2  \n144411               2  \n116367               1  \n37456                4  \n2961                 2  \n...                ...  \n11261                2  \n104704               4  \n48056                2  \n77049                2  \n71530                1  \n\n[140454 rows x 3 columns]",
      "text/html": "<div>\n<style scoped>\n    .dataframe tbody tr th:only-of-type {\n        vertical-align: middle;\n    }\n\n    .dataframe tbody tr th {\n        vertical-align: top;\n    }\n\n    .dataframe thead th {\n        text-align: right;\n    }\n</style>\n<table border=\"1\" class=\"dataframe\">\n  <thead>\n    <tr style=\"text-align: right;\">\n      <th></th>\n      <th>Phrase</th>\n      <th>Sentiment</th>\n      <th>Sentiment_label</th>\n    </tr>\n  </thead>\n  <tbody>\n    <tr>\n      <th>151793</th>\n      <td>messy emotions</td>\n      <td>2</td>\n      <td>2</td>\n    </tr>\n    <tr>\n      <th>144411</th>\n      <td>Man , Heart</td>\n      <td>2</td>\n      <td>2</td>\n    </tr>\n    <tr>\n      <th>116367</th>\n      <td>annoyed</td>\n      <td>1</td>\n      <td>1</td>\n    </tr>\n    <tr>\n      <th>37456</th>\n      <td>its exquisite acting , inventive screenplay , ...</td>\n      <td>4</td>\n      <td>4</td>\n    </tr>\n    <tr>\n      <th>2961</th>\n      <td>postcard</td>\n      <td>2</td>\n      <td>2</td>\n    </tr>\n    <tr>\n      <th>...</th>\n      <td>...</td>\n      <td>...</td>\n      <td>...</td>\n    </tr>\n    <tr>\n      <th>11261</th>\n      <td>the years</td>\n      <td>2</td>\n      <td>2</td>\n    </tr>\n    <tr>\n      <th>104704</th>\n      <td>best sequel</td>\n      <td>4</td>\n      <td>4</td>\n    </tr>\n    <tr>\n      <th>48056</th>\n      <td>the last 100 years</td>\n      <td>2</td>\n      <td>2</td>\n    </tr>\n    <tr>\n      <th>77049</th>\n      <td>in which murder is casual and fun</td>\n      <td>2</td>\n      <td>2</td>\n    </tr>\n    <tr>\n      <th>71530</th>\n      <td>seems to be missing a great deal of the acerbi...</td>\n      <td>1</td>\n      <td>1</td>\n    </tr>\n  </tbody>\n</table>\n<p>140454 rows × 3 columns</p>\n</div>"
     },
     "execution_count": 24,
     "metadata": {},
     "output_type": "execute_result"
    }
   ],
   "source": [
    "data"
   ]
  },
  {
   "cell_type": "markdown",
   "metadata": {
    "id": "KmA7Au7jezc1"
   },
   "source": [
    "## 4.3 Split the training set into training and validation dataset"
   ]
  },
  {
   "cell_type": "markdown",
   "metadata": {
    "id": "leyY_iOqezc1"
   },
   "source": [
    "Split into train and validation set, as the file contains more than 140 thousand instances we can consider only a small portion of it as validation and still the number is relatively long, because of this we will set the test_size to 10% as follows:"
   ]
  },
  {
   "cell_type": "code",
   "execution_count": 25,
   "metadata": {
    "executionInfo": {
     "elapsed": 219,
     "status": "ok",
     "timestamp": 1649695920104,
     "user": {
      "displayName": "武兴宇",
      "userId": "13491807285349578879"
     },
     "user_tz": -60
    },
    "id": "IGo_KToBezc1"
   },
   "outputs": [],
   "source": [
    "data_train, data_val = train_test_split(data, test_size = 0.1, random_state = 1)"
   ]
  },
  {
   "cell_type": "markdown",
   "metadata": {
    "id": "ke-zd4I8ezc1"
   },
   "source": [
    "# 5. Bert"
   ]
  },
  {
   "cell_type": "markdown",
   "source": [
    "## 5.1 Model Settings"
   ],
   "metadata": {
    "collapsed": false,
    "pycharm": {
     "name": "#%% md\n"
    }
   },
   "execution_count": 33
  },
  {
   "cell_type": "markdown",
   "metadata": {
    "id": "tfckdO3Nezc1"
   },
   "source": [
    "As first step we have to import the Model, Config and Tokenizer corresponding to Bert in order to build properly the model."
   ]
  },
  {
   "cell_type": "code",
   "execution_count": 26,
   "metadata": {
    "executionInfo": {
     "elapsed": 6828,
     "status": "ok",
     "timestamp": 1649695929026,
     "user": {
      "displayName": "武兴宇",
      "userId": "13491807285349578879"
     },
     "user_tz": -60
    },
    "id": "0PTHfbFiezc1"
   },
   "outputs": [],
   "source": [
    "from transformers import TFBertModel,  BertConfig, BertTokenizerFast"
   ]
  },
  {
   "cell_type": "markdown",
   "metadata": {
    "id": "9KaU0GGxezc1"
   },
   "source": [
    "The model we will use is 'bert_base_uncased' and the max_length chosen is 45 as there are only a very small number of larger sequences."
   ]
  },
  {
   "cell_type": "code",
   "execution_count": 27,
   "metadata": {
    "colab": {
     "base_uri": "https://localhost:8080/",
     "height": 286
    },
    "executionInfo": {
     "elapsed": 23572,
     "status": "ok",
     "timestamp": 1649695954622,
     "user": {
      "displayName": "武兴宇",
      "userId": "13491807285349578879"
     },
     "user_tz": -60
    },
    "id": "vpF4XxsPezc1",
    "outputId": "64b0df24-dac1-45dd-92d8-d89e34b8bde0"
   },
   "outputs": [
    {
     "name": "stderr",
     "output_type": "stream",
     "text": [
      "Some layers from the model checkpoint at bert-base-uncased were not used when initializing TFBertModel: ['mlm___cls', 'nsp___cls']\n",
      "- This IS expected if you are initializing TFBertModel from the checkpoint of a model trained on another task or with another architecture (e.g. initializing a BertForSequenceClassification model from a BertForPreTraining model).\n",
      "- This IS NOT expected if you are initializing TFBertModel from the checkpoint of a model that you expect to be exactly identical (initializing a BertForSequenceClassification model from a BertForSequenceClassification model).\n",
      "All the layers of TFBertModel were initialized from the model checkpoint at bert-base-uncased.\n",
      "If your task is similar to the task the model of the checkpoint was trained on, you can already use TFBertModel for predictions without further training.\n"
     ]
    }
   ],
   "source": [
    "# Name of the BERT model to use\n",
    "model_name = 'bert-base-uncased'\n",
    "\n",
    "# Max length of tokens\n",
    "max_length = 45\n",
    "\n",
    "# Load transformers config and set output_hidden_states to False\n",
    "config = BertConfig.from_pretrained(model_name)\n",
    "config.output_hidden_states = False\n",
    "\n",
    "# Load BERT tokenizer\n",
    "tokenizer = BertTokenizerFast.from_pretrained(pretrained_model_name_or_path = model_name, config = config)\n",
    "\n",
    "# Load the Transformers BERT model\n",
    "transformer_bert_model = TFBertModel.from_pretrained(model_name, config = config)"
   ]
  },
  {
   "cell_type": "markdown",
   "source": [
    "## 5.2 Build the Model"
   ],
   "metadata": {
    "collapsed": false,
    "pycharm": {
     "name": "#%% md\n"
    }
   }
  },
  {
   "cell_type": "code",
   "execution_count": 29,
   "metadata": {
    "colab": {
     "base_uri": "https://localhost:8080/"
    },
    "executionInfo": {
     "elapsed": 6818,
     "status": "ok",
     "timestamp": 1649696118599,
     "user": {
      "displayName": "武兴宇",
      "userId": "13491807285349578879"
     },
     "user_tz": -60
    },
    "id": "H1mwYhe1ezc1",
    "outputId": "b0c33387-78b6-45f7-8a6b-00fff8960ca0"
   },
   "outputs": [
    {
     "name": "stdout",
     "output_type": "stream",
     "text": [
      "WARNING:tensorflow:From F:\\anaconda3\\envs\\tfgpu\\lib\\site-packages\\tensorflow\\python\\ops\\array_ops.py:5043: calling gather (from tensorflow.python.ops.array_ops) with validate_indices is deprecated and will be removed in a future version.\n",
      "Instructions for updating:\n",
      "The `validate_indices` argument has no effect. Indices are always validated on CPU and never validated on GPU.\n",
      "Model: \"BERT_MultiClass\"\n",
      "_________________________________________________________________\n",
      "Layer (type)                 Output Shape              Param #   \n",
      "=================================================================\n",
      "input_ids (InputLayer)       [(None, 45)]              0         \n",
      "_________________________________________________________________\n",
      "bert (TFBertMainLayer)       TFBaseModelOutputWithPool 109482240 \n",
      "_________________________________________________________________\n",
      "pooled_output (Dropout)      (None, 768)               0         \n",
      "_________________________________________________________________\n",
      "Sentiment (Dense)            (None, 5)                 3845      \n",
      "=================================================================\n",
      "Total params: 109,486,085\n",
      "Trainable params: 109,486,085\n",
      "Non-trainable params: 0\n",
      "_________________________________________________________________\n"
     ]
    }
   ],
   "source": [
    "### ------- Build the model ------- ###\n",
    "\n",
    "# Load the MainLayer\n",
    "bert = transformer_bert_model.layers[0]\n",
    "\n",
    "# Build your model input\n",
    "input_ids = Input(shape=(max_length,), name='input_ids', dtype='int32')\n",
    "inputs = {'input_ids': input_ids}\n",
    "\n",
    "# Load the Transformers BERT model as a layer in a Keras model\n",
    "bert_model = bert(inputs)[1]\n",
    "dropout = Dropout(config.hidden_dropout_prob, name='pooled_output')\n",
    "pooled_output = dropout(bert_model, training=False)\n",
    "\n",
    "# Then build your model output\n",
    "Sentiments = Dense(units=len(data_train.Sentiment_label.value_counts()), kernel_initializer=TruncatedNormal(stddev=config.initializer_range), name='Sentiment')(pooled_output)\n",
    "outputs = {'Sentiment': Sentiments}\n",
    "\n",
    "# And combine it all in a model object\n",
    "model = Model(inputs=inputs, outputs=outputs, name='BERT_MultiClass')\n",
    "\n",
    "# Take a look at the model\n",
    "model.summary()"
   ]
  },
  {
   "cell_type": "markdown",
   "source": [
    "## 5.3 Train the Model"
   ],
   "metadata": {
    "collapsed": false,
    "pycharm": {
     "name": "#%% md\n"
    }
   }
  },
  {
   "cell_type": "code",
   "execution_count": 31,
   "metadata": {
    "colab": {
     "background_save": true,
     "base_uri": "https://localhost:8080/"
    },
    "id": "jsE5pIlSi6aE"
   },
   "outputs": [
    {
     "name": "stdout",
     "output_type": "stream",
     "text": [
      "Epoch 1/2\n",
      "7901/7901 [==============================] - 1512s 190ms/step - loss: 0.7998 - accuracy: 0.6691 - val_loss: 0.7596 - val_accuracy: 0.6749\n",
      "Epoch 2/2\n",
      "7901/7901 [==============================] - 1493s 189ms/step - loss: 0.7338 - accuracy: 0.6961 - val_loss: 0.7541 - val_accuracy: 0.6787\n"
     ]
    }
   ],
   "source": [
    "### ------- Train the model ------- ###\n",
    "\n",
    "# Set an optimizer\n",
    "optimizer = Adam(learning_rate=5e-05,epsilon=1e-08,decay=0.01,clipnorm=1.0)\n",
    "\n",
    "# Set loss and metrics\n",
    "loss = {'Sentiment': CategoricalCrossentropy(from_logits = True)}\n",
    "\n",
    "# Compile the model\n",
    "model.compile(optimizer = optimizer, loss = loss, metrics = ['accuracy'])\n",
    "\n",
    "# Ready output data for the model\n",
    "y_train = to_categorical(data_train['Sentiment'])\n",
    "\n",
    "# Tokenize the input (takes some time)\n",
    "x_train = tokenizer(\n",
    "          text=data_train['Phrase'].to_list(),\n",
    "          add_special_tokens=True,\n",
    "          max_length=max_length,\n",
    "          truncation=True,\n",
    "          padding=True, \n",
    "          return_tensors='tf',\n",
    "          return_token_type_ids = False,\n",
    "          return_attention_mask = True,\n",
    "          verbose = True)\n",
    "\n",
    "y_val = to_categorical(data_val['Sentiment'])\n",
    "\n",
    "x_val = tokenizer(\n",
    "          text=data_val['Phrase'].to_list(),\n",
    "          add_special_tokens=True,\n",
    "          max_length=max_length,\n",
    "          truncation=True,\n",
    "          padding=True, \n",
    "          return_tensors='tf',\n",
    "          return_token_type_ids = False,\n",
    "          return_attention_mask = True,\n",
    "          verbose = True)\n",
    "\n",
    "# Fit the model\n",
    "history = model.fit(\n",
    "    x={'input_ids': x_train['input_ids']},\n",
    "    y={'Sentiment': y_train},\n",
    "    validation_data=({'input_ids': x_val['input_ids']},{'Sentiment': y_val}),\n",
    "    batch_size=16,\n",
    "    epochs=2,\n",
    "    verbose=1)"
   ]
  },
  {
   "cell_type": "markdown",
   "source": [
    "The model took 5 hours to train for 2 epochs."
   ],
   "metadata": {
    "collapsed": false,
    "pycharm": {
     "name": "#%% md\n"
    }
   }
  },
  {
   "cell_type": "markdown",
   "source": [
    "## 5.4 Save the trained model and logs"
   ],
   "metadata": {
    "collapsed": false,
    "pycharm": {
     "name": "#%% md\n"
    }
   }
  },
  {
   "cell_type": "code",
   "execution_count": 34,
   "outputs": [],
   "source": [
    "model.save('./model_trained/bert.h5')"
   ],
   "metadata": {
    "collapsed": false,
    "pycharm": {
     "name": "#%%\n"
    }
   }
  },
  {
   "cell_type": "code",
   "execution_count": 35,
   "outputs": [],
   "source": [
    "# from keras.models import load_model\n",
    "# reconstructed_model = load_model(\"./model_trained/bert.h5\")"
   ],
   "metadata": {
    "collapsed": false,
    "pycharm": {
     "name": "#%%\n"
    }
   }
  },
  {
   "cell_type": "code",
   "execution_count": 32,
   "outputs": [],
   "source": [
    "# np.save('./model_logs/bert.npy',history.history)\n",
    "history1=np.load('./model_logs/bert.npy',allow_pickle='TRUE').item()"
   ],
   "metadata": {
    "collapsed": false,
    "pycharm": {
     "name": "#%%\n"
    }
   }
  },
  {
   "cell_type": "code",
   "execution_count": 35,
   "outputs": [
    {
     "data": {
      "text/plain": "[0.7519504427909851, 0.7463021874427795]"
     },
     "execution_count": 35,
     "metadata": {},
     "output_type": "execute_result"
    }
   ],
   "source": [
    "history1.keys()\n",
    "history1['val_loss']"
   ],
   "metadata": {
    "collapsed": false,
    "pycharm": {
     "name": "#%%\n"
    }
   }
  },
  {
   "cell_type": "code",
   "execution_count": 51,
   "outputs": [
    {
     "data": {
      "text/plain": "[0.8104022145271301, 0.7075137495994568]"
     },
     "execution_count": 51,
     "metadata": {},
     "output_type": "execute_result"
    }
   ],
   "source": [
    "history.history['loss']"
   ],
   "metadata": {
    "collapsed": false,
    "pycharm": {
     "name": "#%%\n"
    }
   }
  },
  {
   "cell_type": "markdown",
   "source": [
    "## 5.5 visualize the training process"
   ],
   "metadata": {
    "collapsed": false,
    "pycharm": {
     "name": "#%% md\n"
    }
   }
  },
  {
   "cell_type": "code",
   "execution_count": 47,
   "outputs": [
    {
     "data": {
      "text/plain": "<Figure size 432x288 with 1 Axes>",
      "image/png": "[encoded data removed]"
     },
     "metadata": {
      "needs_background": "light"
     },
     "output_type": "display_data"
    }
   ],
   "source": [
    "plt.plot(history.history['accuracy'])\n",
    "plt.plot(history.history['val_accuracy'])\n",
    "plt.title('model accuracy')\n",
    "plt.ylabel('accuracy')\n",
    "plt.xlabel('epoch')\n",
    "plt.legend(['train', 'val'], loc='upper left')\n",
    "plt.show()"
   ],
   "metadata": {
    "collapsed": false,
    "pycharm": {
     "name": "#%%\n"
    }
   }
  },
  {
   "cell_type": "code",
   "execution_count": 48,
   "outputs": [
    {
     "data": {
      "text/plain": "<Figure size 432x288 with 1 Axes>",
      "image/png": "[encoded data removed]"
     },
     "metadata": {
      "needs_background": "light"
     },
     "output_type": "display_data"
    }
   ],
   "source": [
    "plt.plot(history.history['loss'])\n",
    "plt.plot(history.history['val_loss'])\n",
    "plt.title('model loss')\n",
    "plt.ylabel('loss')\n",
    "plt.xlabel('epoch')\n",
    "plt.legend(['train', 'val'], loc='upper left')\n",
    "plt.show()"
   ],
   "metadata": {
    "collapsed": false,
    "pycharm": {
     "name": "#%%\n"
    }
   }
  },
  {
   "cell_type": "markdown",
   "metadata": {
    "id": "xABg3MmWjk5q",
    "pycharm": {
     "name": "#%% md\n"
    }
   },
   "source": [
    "## 5.6 Evaluate on validation set"
   ]
  },
  {
   "cell_type": "markdown",
   "source": [
    "We will compute the error metrics on the validation set in order to have an idea of the model performance."
   ],
   "metadata": {
    "collapsed": false,
    "pycharm": {
     "name": "#%% md\n"
    }
   }
  },
  {
   "cell_type": "code",
   "execution_count": 36,
   "outputs": [
    {
     "name": "stdout",
     "output_type": "stream",
     "text": [
      "439/439 [==============================] - 289s 656ms/step - loss: 0.7463 - accuracy: 0.6847\n"
     ]
    }
   ],
   "source": [
    "model_eval = model.evaluate(\n",
    "    x={'input_ids': x_val['input_ids']},\n",
    "    y={'Sentiment': y_val}\n",
    ")"
   ],
   "metadata": {
    "collapsed": false,
    "pycharm": {
     "name": "#%%\n"
    }
   }
  },
  {
   "cell_type": "code",
   "execution_count": 37,
   "outputs": [],
   "source": [
    "y_val_predicted = model.predict(\n",
    "    x={'input_ids': x_val['input_ids']},\n",
    ")"
   ],
   "metadata": {
    "collapsed": false,
    "pycharm": {
     "name": "#%%\n"
    }
   }
  },
  {
   "cell_type": "code",
   "execution_count": 38,
   "outputs": [
    {
     "data": {
      "text/plain": "array([[-2.4855962 , -2.5604749 , -0.5240974 ,  2.3511107 ,  2.7783165 ],\n       [-3.8706324 , -1.9734299 ,  1.5519491 ,  3.3734388 ,  0.6558126 ],\n       [-3.1209955 , -0.2475775 ,  4.4342823 ,  1.4298584 , -2.7096136 ],\n       ...,\n       [-3.3704257 , -2.0402799 ,  1.9703532 ,  2.8217216 ,  0.45496047],\n       [ 0.35068807,  2.7961082 ,  1.639808  , -1.3635693 , -3.533786  ],\n       [-1.7451055 ,  1.9372518 ,  2.6288702 ,  0.29872882, -3.2330358 ]],\n      dtype=float32)"
     },
     "execution_count": 38,
     "metadata": {},
     "output_type": "execute_result"
    }
   ],
   "source": [
    "y_val_predicted['Sentiment']"
   ],
   "metadata": {
    "collapsed": false,
    "pycharm": {
     "name": "#%%\n"
    }
   }
  },
  {
   "cell_type": "code",
   "execution_count": null,
   "outputs": [],
   "source": [
    "y_val"
   ],
   "metadata": {
    "collapsed": false,
    "pycharm": {
     "name": "#%%\n"
    }
   }
  },
  {
   "cell_type": "code",
   "execution_count": null,
   "outputs": [],
   "source": [
    "y_val_pred_max=[np.argmax(i) for i in y_val_predicted['Sentiment']]"
   ],
   "metadata": {
    "collapsed": false,
    "pycharm": {
     "name": "#%%\n"
    }
   }
  },
  {
   "cell_type": "code",
   "execution_count": null,
   "outputs": [],
   "source": [
    "y_val_actual_max=[np.argmax(i) for i in y_val]"
   ],
   "metadata": {
    "collapsed": false,
    "pycharm": {
     "name": "#%%\n"
    }
   }
  },
  {
   "cell_type": "code",
   "execution_count": null,
   "outputs": [],
   "source": [
    "from sklearn.metrics import classification_report\n",
    "\n",
    "report = classification_report(y_val_pred_max, y_val_actual_max)\n",
    "\n",
    "print(report)"
   ],
   "metadata": {
    "collapsed": false,
    "pycharm": {
     "name": "#%%\n"
    }
   }
  },
  {
   "cell_type": "code",
   "execution_count": null,
   "outputs": [],
   "source": [
    "from sklearn.metrics import confusion_matrix, ConfusionMatrixDisplay\n",
    "\n",
    "disp = ConfusionMatrixDisplay(confusion_matrix=confusion_matrix(y_val_pred_max, y_val_actual_max), display_labels=np.unique(y_val_actual_max))\n",
    "disp.plot(cmap='Blues')\n",
    "plt.grid(False)"
   ],
   "metadata": {
    "collapsed": false,
    "pycharm": {
     "name": "#%%\n"
    }
   }
  },
  {
   "cell_type": "markdown",
   "source": [
    "# 6. RoBERTa"
   ],
   "metadata": {
    "collapsed": false,
    "pycharm": {
     "name": "#%% md\n"
    }
   }
  },
  {
   "cell_type": "code",
   "execution_count": 26,
   "outputs": [],
   "source": [
    "from transformers import RobertaTokenizer, TFRobertaModel, RobertaConfig"
   ],
   "metadata": {
    "collapsed": false,
    "pycharm": {
     "name": "#%%\n"
    }
   }
  },
  {
   "cell_type": "code",
   "execution_count": 27,
   "outputs": [
    {
     "name": "stderr",
     "output_type": "stream",
     "text": [
      "Some layers from the model checkpoint at roberta-base were not used when initializing TFRobertaModel: ['lm_head']\n",
      "- This IS expected if you are initializing TFRobertaModel from the checkpoint of a model trained on another task or with another architecture (e.g. initializing a BertForSequenceClassification model from a BertForPreTraining model).\n",
      "- This IS NOT expected if you are initializing TFRobertaModel from the checkpoint of a model that you expect to be exactly identical (initializing a BertForSequenceClassification model from a BertForSequenceClassification model).\n",
      "All the layers of TFRobertaModel were initialized from the model checkpoint at roberta-base.\n",
      "If your task is similar to the task the model of the checkpoint was trained on, you can already use TFRobertaModel for predictions without further training.\n"
     ]
    }
   ],
   "source": [
    "### --------- Setup Roberta ---------- ###\n",
    "\n",
    "model_name = 'roberta-base'\n",
    "\n",
    "# Max length of tokens\n",
    "max_length = 40\n",
    "\n",
    "# Load transformers config and set output_hidden_states to False\n",
    "config = RobertaConfig.from_pretrained(model_name)\n",
    "config.output_hidden_states = False\n",
    "\n",
    "# Load Roberta tokenizer\n",
    "tokenizer = RobertaTokenizer.from_pretrained(pretrained_model_name_or_path = model_name, config = config)\n",
    "\n",
    "# Load the Roberta model\n",
    "transformer_roberta_model = TFRobertaModel.from_pretrained(model_name, config = config)"
   ],
   "metadata": {
    "collapsed": false,
    "pycharm": {
     "name": "#%%\n"
    }
   }
  },
  {
   "cell_type": "code",
   "execution_count": 30,
   "outputs": [
    {
     "name": "stdout",
     "output_type": "stream",
     "text": [
      "WARNING:tensorflow:From F:\\anaconda3\\envs\\tfgpu\\lib\\site-packages\\tensorflow\\python\\ops\\array_ops.py:5043: calling gather (from tensorflow.python.ops.array_ops) with validate_indices is deprecated and will be removed in a future version.\n",
      "Instructions for updating:\n",
      "The `validate_indices` argument has no effect. Indices are always validated on CPU and never validated on GPU.\n",
      "Model: \"RoBERTa_MultiClass\"\n",
      "_________________________________________________________________\n",
      "Layer (type)                 Output Shape              Param #   \n",
      "=================================================================\n",
      "input_ids (InputLayer)       [(None, 40)]              0         \n",
      "_________________________________________________________________\n",
      "roberta (TFRobertaMainLayer) TFBaseModelOutputWithPool 124645632 \n",
      "_________________________________________________________________\n",
      "pooled_output (Dropout)      (None, 768)               0         \n",
      "_________________________________________________________________\n",
      "Sentiment (Dense)            (None, 5)                 3845      \n",
      "=================================================================\n",
      "Total params: 124,649,477\n",
      "Trainable params: 124,649,477\n",
      "Non-trainable params: 0\n",
      "_________________________________________________________________\n"
     ]
    }
   ],
   "source": [
    "### ------- Build the model ------- ###\n",
    "\n",
    "# Load the MainLayer\n",
    "roberta = transformer_roberta_model.layers[0]\n",
    "\n",
    "# Build your model input\n",
    "input_ids = Input(shape=(max_length,), name='input_ids', dtype='int32')\n",
    "inputs = {'input_ids': input_ids}\n",
    "\n",
    "# Load the Transformers RoBERTa model as a layer in a Keras model\n",
    "roberta_model = roberta(inputs)[1]\n",
    "dropout = Dropout(config.hidden_dropout_prob, name='pooled_output')\n",
    "pooled_output = dropout(roberta_model, training=False)\n",
    "\n",
    "# Then build your model output\n",
    "Sentiments = Dense(units=len(data_train.Sentiment_label.value_counts()), kernel_initializer=TruncatedNormal(stddev=config.initializer_range), name='Sentiment')(pooled_output)\n",
    "outputs = {'Sentiment': Sentiments}\n",
    "\n",
    "# And combine it all in a model object\n",
    "model2 = Model(inputs=inputs, outputs=outputs, name='RoBERTa_MultiClass')\n",
    "\n",
    "# Take a look at the model\n",
    "model2.summary()"
   ],
   "metadata": {
    "collapsed": false,
    "pycharm": {
     "name": "#%%\n"
    }
   }
  },
  {
   "cell_type": "code",
   "execution_count": 31,
   "outputs": [
    {
     "name": "stdout",
     "output_type": "stream",
     "text": [
      "Epoch 1/2\n",
      "3951/3951 [==============================] - 950s 238ms/step - loss: 0.8039 - accuracy: 0.6676 - val_loss: 0.7472 - val_accuracy: 0.6861\n",
      "Epoch 2/2\n",
      "3951/3951 [==============================] - 939s 238ms/step - loss: 0.7274 - accuracy: 0.6984 - val_loss: 0.7453 - val_accuracy: 0.6878\n"
     ]
    },
    {
     "data": {
      "text/plain": "<tensorflow.python.keras.callbacks.History at 0x2417378c520>"
     },
     "execution_count": 31,
     "metadata": {},
     "output_type": "execute_result"
    }
   ],
   "source": [
    "### ------- Train the model ------- ###\n",
    "\n",
    "# Set an optimizer\n",
    "optimizer = Adam(learning_rate=5e-05,epsilon=1e-08,decay=0.01,clipnorm=1.0)\n",
    "\n",
    "# Set loss and metrics\n",
    "loss = {'Sentiment': CategoricalCrossentropy(from_logits = True)}\n",
    "\n",
    "# Compile the model\n",
    "model2.compile(optimizer = optimizer, loss = loss, metrics = ['accuracy'])\n",
    "\n",
    "# Ready output data for the model\n",
    "y_train = to_categorical(data_train['Sentiment'])\n",
    "\n",
    "# Tokenize the input (takes some time)\n",
    "x_train = tokenizer(\n",
    "          text=data_train['Phrase'].to_list(),\n",
    "          add_special_tokens=True,\n",
    "          max_length=max_length,\n",
    "          truncation=True,\n",
    "          padding=True,\n",
    "          return_tensors='tf',\n",
    "          return_token_type_ids = False,\n",
    "          return_attention_mask = True,\n",
    "          verbose = True)\n",
    "\n",
    "y_val = to_categorical(data_val['Sentiment'])\n",
    "\n",
    "x_val = tokenizer(\n",
    "          text=data_val['Phrase'].to_list(),\n",
    "          add_special_tokens=True,\n",
    "          max_length=max_length,\n",
    "          truncation=True,\n",
    "          padding=True,\n",
    "          return_tensors='tf',\n",
    "          return_token_type_ids = False,\n",
    "          return_attention_mask = True,\n",
    "          verbose = True)\n",
    "\n",
    "# Callback\n",
    "from keras import callbacks\n",
    "\n",
    "# class LossAndAccHistory(callbacks.Callback):  # 继承自Callback类\n",
    "#\n",
    "#     '''\n",
    "#     在模型开始的时候定义四个属性，每一个属性都是字典类型，存储相对应的值和epoch\n",
    "#     '''\n",
    "#\n",
    "#     def on_train_begin(self, logs={}):\n",
    "#         self.loss = []\n",
    "#         self.accuracy = []\n",
    "#         self.val_loss = []\n",
    "#         self.val_accuracy = []\n",
    "#\n",
    "#     # 在每一个batch结束后记录相应的值\n",
    "#     def on_batch_end(self, batch, logs={}):\n",
    "#         self.loss.append(logs.get('loss'))\n",
    "#         self.accuracy.append(logs.get('accuracy'))\n",
    "#\n",
    "#     # 在每一个epoch之后记录相应的值\n",
    "#     def on_epoch_end(self, batch, logs={}):\n",
    "#         self.val_loss.append(logs.get('val_loss'))\n",
    "#         self.val_accuracy.append(logs.get('val_accuracy'))\n",
    "\n",
    "\n",
    "class LossAndAccHistory(callbacks.Callback):  # 继承自Callback类\n",
    "\n",
    "    '''\n",
    "    在模型开始的时候定义四个属性，每一个属性都是字典类型，存储相对应的值和epoch\n",
    "    '''\n",
    "\n",
    "    def on_train_begin(self, logs={}):\n",
    "        self.loss = {'batch': [], 'epoch': []}\n",
    "        self.accuracy = {'batch': [], 'epoch': []}\n",
    "        self.val_loss = {'batch': [], 'epoch': []}\n",
    "        self.val_accuracy = {'batch': [], 'epoch': []}\n",
    "\n",
    "    # 在每一个batch结束后记录相应的值\n",
    "    def on_batch_end(self, batch, logs={}):\n",
    "        self.loss['batch'].append(logs.get('loss'))\n",
    "        self.accuracy['batch'].append(logs.get('accuracy'))\n",
    "        self.val_loss['batch'].append(logs.get('val_loss'))\n",
    "        self.val_accuracy['batch'].append(logs.get('val_accuracy'))\n",
    "\n",
    "    # 在每一个epoch之后记录相应的值\n",
    "    def on_epoch_end(self, batch, logs={}):\n",
    "        self.loss['batch'].append(logs.get('loss'))\n",
    "        self.accuracy['batch'].append(logs.get('accuracy'))\n",
    "        self.val_loss['batch'].append(logs.get('val_loss'))\n",
    "        self.val_accuracy['batch'].append(logs.get('val_accuracy'))\n",
    "\n",
    "history = LossAndAccHistory()\n",
    "\n",
    "# Fit the model\n",
    "model2.fit(\n",
    "    x={'input_ids': x_train['input_ids']},\n",
    "    y={'Sentiment': y_train},\n",
    "    validation_data=({'input_ids': x_val['input_ids']},{'Sentiment': y_val}),\n",
    "    batch_size=32,\n",
    "    epochs=2,\n",
    "    verbose=1,\n",
    "    callbacks=[history])"
   ],
   "metadata": {
    "collapsed": false,
    "pycharm": {
     "name": "#%%\n"
    }
   }
  },
  {
   "cell_type": "code",
   "execution_count": 41,
   "outputs": [
    {
     "data": {
      "text/plain": "{'batch': [0.0,\n  0.140625,\n  0.21875,\n  0.2890625,\n  0.3125,\n  0.328125,\n  0.3258928656578064,\n  0.31640625,\n  0.3055555522441864,\n  0.328125,\n  0.34375,\n  0.3619791567325592,\n  0.3725961446762085,\n  0.3816964328289032,\n  0.3812499940395355,\n  0.39453125,\n  0.41360294818878174,\n  0.4131944477558136,\n  0.4128289520740509,\n  0.4156250059604645,\n  0.4196428656578064,\n  0.4261363744735718,\n  0.42934781312942505,\n  0.4388020932674408,\n  0.4387499988079071,\n  0.4459134638309479,\n  0.44560185074806213,\n  0.4464285671710968,\n  0.45366379618644714,\n  0.4541666805744171,\n  0.46068549156188965,\n  0.4599609375,\n  0.46022728085517883,\n  0.4595588147640228,\n  0.4642857015132904,\n  0.4678819477558136,\n  0.4695945978164673,\n  0.47203946113586426,\n  0.47035256028175354,\n  0.4703125059604645,\n  0.47484755516052246,\n  0.474702388048172,\n  0.4723837077617645,\n  0.4708806872367859,\n  0.4756944477558136,\n  0.47758153080940247,\n  0.47805851697921753,\n  0.478515625,\n  0.4789540767669678,\n  0.48124998807907104,\n  0.4803921580314636,\n  0.4819711446762085,\n  0.4799528419971466,\n  0.48321759700775146,\n  0.4829545319080353,\n  0.4838169515132904,\n  0.484649121761322,\n  0.48491379618644714,\n  0.48411017656326294,\n  0.48385417461395264,\n  0.4851434528827667,\n  0.4848790466785431,\n  0.485615074634552,\n  0.48388671875,\n  0.48365384340286255,\n  0.484375,\n  0.4841417968273163,\n  0.4834558963775635,\n  0.48097825050354004,\n  0.4821428656578064,\n  0.4832746386528015,\n  0.4848090410232544,\n  0.4845890402793884,\n  0.4873310923576355,\n  0.4891666769981384,\n  0.4880756437778473,\n  0.4878246784210205,\n  0.4875801205635071,\n  0.4885284900665283,\n  0.48828125,\n  0.48842594027519226,\n  0.4885670840740204,\n  0.4894578456878662,\n  0.4869791567325592,\n  0.48639705777168274,\n  0.48510172963142395,\n  0.48383620381355286,\n  0.48330965638160706,\n  0.48384830355644226,\n  0.4850694537162781,\n  0.4848901033401489,\n  0.48709240555763245,\n  0.4879032373428345,\n  0.48803192377090454,\n  0.48750001192092896,\n  0.4879557192325592,\n  0.4893685579299927,\n  0.48915815353393555,\n  0.48895201086997986,\n  0.49125000834465027,\n  0.4925742447376251,\n  0.49264705181121826,\n  0.4939320385456085,\n  0.4951923191547394,\n  0.4952380955219269,\n  0.49646225571632385,\n  0.49707943201065063,\n  0.49710649251937866,\n  0.4979931116104126,\n  0.4988636374473572,\n  0.49831080436706543,\n  0.4974888265132904,\n  0.49806416034698486,\n  0.4989035129547119,\n  0.499456524848938,\n  0.49838361144065857,\n  0.49919870495796204,\n  0.5,\n  0.5005252361297607,\n  0.5010416507720947,\n  0.5007748007774353,\n  0.5020492076873779,\n  0.5017784833908081,\n  0.5020161271095276,\n  0.5019999742507935,\n  0.502480149269104,\n  0.5027067065238953,\n  0.503662109375,\n  0.5048449635505676,\n  0.5057692527770996,\n  0.5064408183097839,\n  0.5082859992980957,\n  0.5079887509346008,\n  0.5081623196601868,\n  0.5083333253860474,\n  0.5082720518112183,\n  0.5091241002082825,\n  0.5090579986572266,\n  0.5094424486160278,\n  0.5107142925262451,\n  0.5108599066734314,\n  0.5096830725669861,\n  0.5107080340385437,\n  0.5115017294883728,\n  0.5114223957061768,\n  0.5124143958091736,\n  0.512117326259613,\n  0.5130912065505981,\n  0.5134228467941284,\n  0.5133333206176758,\n  0.5142797827720642,\n  0.515625,\n  0.516339898109436,\n  0.5170454382896423,\n  0.5175403356552124,\n  0.518629789352417,\n  0.518909215927124,\n  0.5195807218551636,\n  0.5194575190544128,\n  0.5208984613418579,\n  0.52173912525177,\n  0.5212191343307495,\n  0.5212806463241577,\n  0.5224847793579102,\n  0.5232954621315002,\n  0.5237199068069458,\n  0.5247005820274353,\n  0.5251116156578064,\n  0.5262573957443237,\n  0.5261029601097107,\n  0.5268640518188477,\n  0.5276162624359131,\n  0.5287210941314697,\n  0.5290948152542114,\n  0.5299999713897705,\n  0.5300071239471436,\n  0.5303672552108765,\n  0.5305477380752563,\n  0.5305516719818115,\n  0.5310763716697693,\n  0.5310773253440857,\n  0.5322802066802979,\n  0.5327869057655334,\n  0.53345787525177,\n  0.5341216325759888,\n  0.5347782373428345,\n  0.5355949401855469,\n  0.5364029407501221,\n  0.5368716716766357,\n  0.5363487005233765,\n  0.536649227142334,\n  0.5374348759651184,\n  0.5370790362358093,\n  0.5380154848098755,\n  0.5379807949066162,\n  0.5384247303009033,\n  0.5383883118629456,\n  0.5394570827484131,\n  0.5402010083198547,\n  0.5415624976158142,\n  0.5418221354484558,\n  0.5422338843345642,\n  0.5427955389022827,\n  0.5438112616539001,\n  0.5439024567604065,\n  0.5441443920135498,\n  0.5440821051597595,\n  0.544921875,\n  0.5448564887046814,\n  0.5455357432365417,\n  0.5459123253822327,\n  0.5461379885673523,\n  0.54636150598526,\n  0.5471670627593994,\n  0.5481104850769043,\n  0.5491898059844971,\n  0.549251139163971,\n  0.5497419834136963,\n  0.5500856041908264,\n  0.5502840876579285,\n  0.5509049892425537,\n  0.5512387156486511,\n  0.5519899129867554,\n  0.5523158311843872,\n  0.5523611307144165,\n  0.5524059534072876,\n  0.55245041847229,\n  0.5527686476707458,\n  0.5532205104827881,\n  0.553804337978363,\n  0.5543830990791321,\n  0.5544180870056152,\n  0.5548551678657532,\n  0.555021345615387,\n  0.5553191304206848,\n  0.5564088821411133,\n  0.5559071898460388,\n  0.5565913915634155,\n  0.557400643825531,\n  0.557421863079071,\n  0.5571836233139038,\n  0.5570764541625977,\n  0.5570987462997437,\n  0.5576332211494446,\n  0.5580357313156128,\n  0.558307945728302,\n  0.5584514141082764,\n  0.5589717626571655,\n  0.5597389340400696,\n  0.5607500076293945,\n  0.5613794922828674,\n  0.5618799328804016,\n  0.5621294379234314,\n  0.5623769760131836,\n  0.5628676414489746,\n  0.56298828125,\n  0.5640807151794434,\n  0.5641957521438599,\n  0.56430983543396,\n  0.5649038553237915,\n  0.5648946166038513,\n  0.5651240348815918,\n  0.5657081604003906,\n  0.5658143758773804,\n  0.565919816493988,\n  0.5663768649101257,\n  0.5665964484214783,\n  0.566581130027771,\n  0.5673791766166687,\n  0.5671296119689941,\n  0.5673431754112244,\n  0.5674402713775635,\n  0.5674221515655518,\n  0.5677463412284851,\n  0.5679545402526855,\n  0.5680480003356934,\n  0.5680279731750488,\n  0.5682328939437866,\n  0.5682123899459839,\n  0.5691964030265808,\n  0.5695062279701233,\n  0.569481372833252,\n  0.5698984265327454,\n  0.5703125,\n  0.5709429979324341,\n  0.5712412595748901,\n  0.5716463327407837,\n  0.5717231035232544,\n  0.5719074606895447,\n  0.5724138021469116,\n  0.5727018713951111,\n  0.573309063911438,\n  0.5731655359268188,\n  0.5729166865348816,\n  0.5728813409805298,\n  0.5727407336235046,\n  0.5731270909309387,\n  0.5728816986083984,\n  0.5732650756835938,\n  0.5738541483879089,\n  0.5736088156700134,\n  0.5739859342575073,\n  0.5736386179924011,\n  0.5740131735801697,\n  0.5743852257728577,\n  0.5743464231491089,\n  0.5742060542106628,\n  0.5745738744735718,\n  0.5751416087150574,\n  0.5751007795333862,\n  0.5755627155303955,\n  0.5763221383094788,\n  0.5764776468276978,\n  0.5765326619148254,\n  0.577480137348175,\n  0.5777294039726257,\n  0.5780757069587708,\n  0.5782232880592346,\n  0.5782719254493713,\n  0.578808605670929,\n  0.5792445540428162,\n  0.579483687877655,\n  0.5795278549194336,\n  0.5794752836227417,\n  0.5794230699539185,\n  0.5796587467193604,\n  0.5797973871231079,\n  0.5802210569381714,\n  0.5801671743392944,\n  0.5803030133247375,\n  0.580626904964447,\n  0.5810429453849792,\n  0.5817379951477051,\n  0.5821481943130493,\n  0.5823693871498108,\n  0.5825892686843872,\n  0.5824369192123413,\n  0.582747757434845,\n  0.5828723907470703,\n  0.5829963088035583,\n  0.5833944082260132,\n  0.5835160613059998,\n  0.583636999130249,\n  0.5838481187820435,\n  0.58423912525177,\n  0.5841763019561768,\n  0.584384024143219,\n  0.5848599076271057,\n  0.5846167802810669,\n  0.5846428275108337,\n  0.5848468542098999,\n  0.5850496888160706,\n  0.5853399634361267,\n  0.585540235042572,\n  0.5857394337654114,\n  0.5861130356788635,\n  0.5859593749046326,\n  0.5862430334091187,\n  0.5863509774208069,\n  0.5868923664093018,\n  0.5874307751655579,\n  0.5878798365592957,\n  0.588240385055542,\n  0.588598906993866,\n  0.5888698697090149,\n  0.5890539884567261,\n  0.5893222093582153,\n  0.5891643762588501,\n  0.5889227390289307,\n  0.5889357924461365,\n  0.5892015099525452,\n  0.5896337628364563,\n  0.5894772410392761,\n  0.5900735259056091,\n  0.590583324432373,\n  0.5909242033958435,\n  0.5911803841590881,\n  0.5916005373001099,\n  0.5913588404655457,\n  0.5916940569877625,\n  0.5920275449752808,\n  0.5924410820007324,\n  0.5924445390701294,\n  0.5926106572151184,\n  0.5929383039474487,\n  0.5931832790374756,\n  0.593184769153595,\n  0.5932667255401611,\n  0.5935090184211731,\n  0.593910276889801,\n  0.5938299298286438,\n  0.5939891338348389,\n  0.5943861603736877,\n  0.5947811007499695,\n  0.5946202278137207,\n  0.5946969985961914,\n  0.5943009853363037,\n  0.5946136713027954,\n  0.5948464870452881,\n  0.5951562523841858,\n  0.595152735710144,\n  0.5953824520111084,\n  0.5955334901809692,\n  0.5952196717262268,\n  0.595370352268219,\n  0.595289409160614,\n  0.5952088236808777,\n  0.5958946347236633,\n  0.5962713956832886,\n  0.5967225432395935,\n  0.5971715450286865,\n  0.5975424647331238,\n  0.5981386303901672,\n  0.5981280207633972,\n  0.5981927514076233,\n  0.5978816151618958,\n  0.5980965495109558,\n  0.5981608629226685,\n  0.5985232591629028,\n  0.5985863208770752,\n  0.5986490249633789,\n  0.5987855195999146,\n  0.598847508430481,\n  0.598761796951294,\n  0.5988235473632812,\n  0.5989583134651184,\n  0.5989461541175842,\n  0.5990070104598999,\n  0.5988490581512451,\n  0.5991278886795044,\n  0.5994779467582703,\n  0.5993199944496155,\n  0.5991628170013428,\n  0.5990063548088074,\n  0.5994971394538879,\n  0.5994839668273926,\n  0.5998283624649048,\n  0.6000998616218567,\n  0.6000142097473145,\n  0.6001420617103577,\n  0.6000567078590393,\n  0.6003252267837524,\n  0.6003103852272034,\n  0.6003659963607788,\n  0.6006320118904114,\n  0.6008267998695374,\n  0.6010906100273132,\n  0.6012834906578064,\n  0.6014754772186279,\n  0.601527750492096,\n  0.6016491055488586,\n  0.6017699241638184,\n  0.6022350788116455,\n  0.6021475791931152,\n  0.6022664904594421,\n  0.6023163199424744,\n  0.6024343371391296,\n  0.6024836301803589,\n  0.6027369499206543,\n  0.6025815010070801,\n  0.6025623679161072,\n  0.6024079918861389,\n  0.6025242805480957,\n  0.6025727391242981,\n  0.6025537848472595,\n  0.602333664894104,\n  0.6019138097763062,\n  0.6019631624221802,\n  0.6018123626708984,\n  0.6017287373542786,\n  0.6017118096351624,\n  0.6017611026763916,\n  0.6016781330108643,\n  0.601727306842804,\n  0.6022368669509888,\n  0.6022846698760986,\n  0.602266788482666,\n  0.6023143529891968,\n  0.6027531027793884,\n  0.6028645634651184,\n  0.6031054854393005,\n  0.6028916239738464,\n  0.6028726696968079,\n  0.6027246713638306,\n  0.6030283570289612,\n  0.6030735373497009,\n  0.6029902696609497,\n  0.6027151346206665,\n  0.6027607321739197,\n  0.6030611991882324,\n  0.6025967597961426,\n  0.6027057766914368,\n  0.6026875972747803,\n  0.6031755805015564,\n  0.6032196879386902,\n  0.6033266186714172,\n  0.6031816005706787,\n  0.6033508777618408,\n  0.6037074327468872,\n  0.6036249995231628,\n  0.6037300229072571,\n  0.6037101745605469,\n  0.6038767099380493,\n  0.6039806604385376,\n  0.6038366556167603,\n  0.6038166880607605,\n  0.6043515801429749,\n  0.6043922305107117,\n  0.6047396659851074,\n  0.6047181487083435,\n  0.604880154132843,\n  0.60504150390625,\n  0.6051413416862488,\n  0.6054231524467468,\n  0.6057645678520203,\n  0.6056201457977295,\n  0.6058389544487,\n  0.6058759689331055,\n  0.6057924032211304,\n  0.6061298251152039,\n  0.6062260270118713,\n  0.6063218116760254,\n  0.6067160367965698,\n  0.607168436050415,\n  0.607202410697937,\n  0.6073550581932068,\n  0.6076257228851318,\n  0.607481062412262,\n  0.6076914072036743,\n  0.6079599261283875,\n  0.6075800657272339,\n  0.6076714992523193,\n  0.6075868010520935,\n  0.6076194047927856,\n  0.6078855395317078,\n  0.6078591346740723,\n  0.6080074310302734,\n  0.6082133054733276,\n  0.6083604097366333,\n  0.6086805462837219,\n  0.6085374355316162,\n  0.6085101366043091,\n  0.6084829568862915,\n  0.6086856722831726,\n  0.608600914478302,\n  0.6086881756782532,\n  0.6086037755012512,\n  0.6085196137428284,\n  0.6084358096122742,\n  0.6085795164108276,\n  0.6088362336158752,\n  0.609035313129425,\n  0.6092337369918823,\n  0.6093186140060425,\n  0.6092342138290405,\n  0.609375,\n  0.6094591617584229,\n  0.609486997127533,\n  0.6094029545783997,\n  0.6097656488418579,\n  0.6101270318031311,\n  0.6102646589279175,\n  0.6104018688201904,\n  0.610427737236023,\n  0.6105088591575623,\n  0.6107000708580017,\n  0.6106702089309692,\n  0.6107504367828369,\n  0.6106656193733215,\n  0.6107456088066101,\n  0.6106611490249634,\n  0.6106315851211548,\n  0.6108202338218689,\n  0.6105727553367615,\n  0.6108152270317078,\n  0.6106228232383728,\n  0.6105936169624329,\n  0.6104022264480591,\n  0.6102655529975891,\n  0.6102909445762634,\n  0.610154926776886,\n  0.6101804375648499,\n  0.6101522445678711,\n  0.6103382110595703,\n  0.6104166507720947,\n  0.6104415655136108,\n  0.6105195879936218,\n  0.6107036471366882,\n  0.6107279062271118,\n  0.6109110116958618,\n  0.6108819842338562,\n  0.6109058260917664,\n  0.611193060874939,\n  0.6114794015884399,\n  0.6115546226501465,\n  0.6114198565483093,\n  0.6112855672836304,\n  0.6114130616188049,\n  0.6113314032554626,\n  0.6112499833106995,\n  0.6112728714942932,\n  0.6111918687820435,\n  0.6114738583564758,\n  0.6116514801979065,\n  0.6116735339164734,\n  0.6119018197059631,\n  0.6118718981742859,\n  0.6118420958518982,\n  0.6119150519371033,\n  0.6117827892303467,\n  0.6118044257164001,\n  0.6119791865348816,\n  0.6121533513069153,\n  0.612326979637146,\n  0.6122459173202515,\n  0.6124695539474487,\n  0.612388551235199,\n  0.6124089956283569,\n  0.6123283505439758,\n  0.6122983694076538,\n  0.6122182011604309,\n  0.612339198589325,\n  0.6122592091560364,\n  0.612379789352417,\n  0.6124500036239624,\n  0.6123701930046082,\n  0.6127392053604126,\n  0.6128582954406738,\n  0.6130266189575195,\n  0.613095223903656,\n  0.6132626533508301,\n  0.613132894039154,\n  0.6131023168563843,\n  0.6132689118385315,\n  0.6131889820098877,\n  0.6135023832321167,\n  0.6136185526847839,\n  0.6136853694915771,\n  0.6138008832931519,\n  0.613818347454071,\n  0.6138358116149902,\n  0.6138532161712646,\n  0.6140649318695068,\n  0.6140819191932678,\n  0.6143895387649536,\n  0.6144543290138245,\n  0.6144706606864929,\n  0.6143904328346252,\n  0.61469566822052,\n  0.614759624004364,\n  0.6146313548088074,\n  0.6145513653755188,\n  0.6148066520690918,\n  0.6149656176567078,\n  0.6150763630867004,\n  0.6153773069381714,\n  0.6152967810630798,\n  0.6154065132141113,\n  0.6153262257575989,\n  0.6153408885002136,\n  0.6156392097473145,\n  0.6155117154121399,\n  0.615526020526886,\n  0.6155402660369873,\n  0.6156954765319824,\n  0.6157094836235046,\n  0.6156765222549438,\n  0.6155033707618713,\n  0.6153774261474609,\n  0.6155317425727844,\n  0.6156389713287354,\n  0.6157923936843872,\n  0.6159453988075256,\n  0.6162370443344116,\n  0.6162962913513184,\n  0.6162629723548889,\n  0.6164143085479736,\n  0.6166113615036011,\n  0.6167618036270142,\n  0.6167279481887817,\n  0.6167401075363159,\n  0.6168896555900574,\n  0.6169472932815552,\n  0.6170047521591187,\n  0.6170620322227478,\n  0.6173014044761658,\n  0.6174035668373108,\n  0.6173691749572754,\n  0.6175163388252258,\n  0.6173912882804871,\n  0.6176284551620483,\n  0.6177294254302979,\n  0.6178300976753235,\n  0.6179304718971252,\n  0.6180755496025085,\n  0.6181752681732178,\n  0.618409276008606,\n  0.6184634566307068,\n  0.6185622215270996,\n  0.6187053322792053,\n  0.6187143325805664,\n  0.6185007095336914,\n  0.6185099482536316,\n  0.6186967492103577,\n  0.6187499761581421,\n  0.6188031435012817,\n  0.6188119053840637,\n  0.6188647747039795,\n  0.6189615726470947,\n  0.6190580725669861,\n  0.619242250919342,\n  0.6192942261695862,\n  0.6195213794708252,\n  0.6198354363441467,\n  0.6198426485061646,\n  0.6200680732727051,\n  0.6199442148208618,\n  0.6198206543922424,\n  0.619784414768219,\n  0.619921863079071,\n  0.6200156211853027,\n  0.6200658082962036,\n  0.6202887296676636,\n  0.6202520728111267,\n  0.6206896305084229,\n  0.620781660079956,\n  0.6208304762840271,\n  0.6208791136741638,\n  0.6208847761154175,\n  0.6206335425376892,\n  0.6205967664718628,\n  0.6207308769226074,\n  0.6208645701408386,\n  0.6209127902984619,\n  0.6208758354187012,\n  0.6211361885070801,\n  0.6213958859443665,\n  0.621400773525238,\n  0.6213210225105286,\n  0.6214104890823364,\n  0.6216261982917786,\n  0.6216307282447815,\n  0.6217193603515625,\n  0.621681809425354,\n  0.6217281818389893,\n  0.6217325925827026,\n  0.6219043135643005,\n  0.6221173405647278,\n  0.6218708157539368,\n  0.621874988079071,\n  0.6218375563621521,\n  0.6218417286872864,\n  0.6220949292182922,\n  0.6221402287483215,\n  0.6221854090690613,\n  0.6223131418228149,\n  0.6223167181015015,\n  0.6224027276039124,\n  0.6227355003356934,\n  0.6229029893875122,\n  0.6231110095977783,\n  0.6233185529708862,\n  0.6233207583427429,\n  0.6234456896781921,\n  0.6234068870544434,\n  0.6234497427940369,\n  0.6234924793243408,\n  0.6236165165901184,\n  0.6236589550971985,\n  0.6238230466842651,\n  0.6239461898803711,\n  0.6239880323410034,\n  0.6241914629936218,\n  0.6242732405662537,\n  0.6240725517272949,\n  0.6238723993301392,\n  0.6241554021835327,\n  0.6242368221282959,\n  0.6245587468147278,\n  0.6246394515037537,\n  0.6245598793029785,\n  0.6246004104614258,\n  0.6246408224105835,\n  0.6247608661651611,\n  0.6248407363891602,\n  0.6246421933174133,\n  0.6248014569282532,\n  0.6248016953468323,\n  0.6247623562812805,\n  0.6246835589408875,\n  0.6248419880867004,\n  0.6248816251754761,\n  0.6248423457145691,\n  0.6248031854629517,\n  0.6248821020126343,\n  0.6248429417610168,\n  0.6248039603233337,\n  0.6248825192451477,\n  0.6248435378074646,\n  0.625,\n  0.625156044960022,\n  0.6252727508544922,\n  0.6253502368927002,\n  0.6253109574317932,\n  0.625271737575531,\n  0.6252713799476624,\n  0.6254259347915649,\n  0.6252707242965698,\n  0.6252317428588867,\n  0.6253858208656311,\n  0.6254238486289978,\n  0.6254233121871948,\n  0.6255381107330322,\n  0.6254990696907043,\n  0.6254984736442566,\n  0.6252297759056091,\n  0.625267744064331,\n  0.6251528263092041,\n  0.6253052353858948,\n  0.6253429651260376,\n  0.6254187226295471,\n  0.6256462931632996,\n  0.6256075501441956,\n  0.6257584691047668,\n  0.6258333325386047,\n  0.6259458065032959,\n  0.6260202527046204,\n  0.6258680820465088,\n  0.6258293390274048,\n  0.6259788870811462,\n  0.6258649230003357,\n  0.625901460647583,\n  0.6259378790855408,\n  0.6261615753173828,\n  0.626272439956665,\n  0.6262335777282715,\n  0.6263813972473145,\n  0.6265662312507629,\n  0.626676082611084,\n  0.6265252828598022,\n  0.626560628414154,\n  0.6264845728874207,\n  0.6265940070152283,\n  0.6267032027244568,\n  0.6267751455307007,\n  0.626883864402771,\n  0.6269185543060303,\n  0.6268793940544128,\n  0.6270612478256226,\n  0.6271323561668396,\n  0.6273134350776672,\n  0.6272740364074707,\n  0.6272714138031006,\n  0.6270857453346252,\n  0.6271198987960815,\n  0.6270443797111511,\n  0.6270784735679626,\n  0.6270396113395691,\n  0.6272555589675903,\n  0.6273255944252014,\n  0.627540647983551,\n  0.6276464462280273,\n  0.6277158260345459,\n  0.6276403069496155,\n  0.6276733875274658,\n  0.6277424693107605,\n  0.6277033090591431,\n  0.6276641488075256,\n  0.6276251673698425,\n  0.6275143623352051,\n  0.6276190876960754,\n  0.6277594566345215,\n  0.6277204751968384,\n  0.6277531385421753,\n  0.6277857422828674,\n  0.6279609203338623,\n  0.6279931664466858,\n  0.6278829574584961,\n  0.6280218958854675,\n  0.6282315254211426,\n  0.6281214356422424,\n  0.6281179189682007,\n  0.6282913088798523,\n  0.628322958946228,\n  0.628389835357666,\n  0.6283860206604004,\n  0.6284878849983215,\n  0.6284487843513489,\n  0.628339409828186,\n  0.6283707618713379,\n  0.628402054309845,\n  0.6281530261039734,\n  0.628219485282898,\n  0.6280061602592468,\n  0.6281773447990417,\n  0.6282086968421936,\n  0.6282399892807007,\n  0.6282711625099182,\n  0.628197968006134,\n  0.6280902624130249,\n  0.6281908750534058,\n  0.6283605694770813,\n  0.6285299062728882,\n  0.6284222602844238,\n  0.6286256909370422,\n  0.6285871863365173,\n  0.6286521553993225,\n  0.6287169456481934,\n  0.6287816166877747,\n  0.6289148330688477,\n  0.6288419365882874,\n  0.6290433406829834,\n  0.6292099952697754,\n  0.629478931427002,\n  0.6293715834617615,\n  0.6294691562652588,\n  0.6294642686843872,\n  0.6296296119689941,\n  0.6297945976257324,\n  0.6298912763595581,\n  0.6299877762794495,\n  0.6300162672996521,\n  0.6301124095916748,\n  0.6302083134651184,\n  0.6302365064620972,\n  0.6302645802497864,\n  0.6302925944328308,\n  0.6301185488700867,\n  0.6300793886184692,\n  0.6301075220108032,\n  0.6300349235534668,\n  0.6301636099815369,\n  0.6301915645599365,\n  0.6301525831222534,\n  0.6302473545074463,\n  0.6302751302719116,\n  0.6303028464317322,\n  0.6304970979690552,\n  0.6305577754974365,\n  0.6307513117790222,\n  0.6308116316795349,\n  0.6308386325836182,\n  0.6308987140655518,\n  0.6308262944221497,\n  0.6308862566947937,\n  0.6308799982070923,\n  0.6309068202972412,\n  0.6309005618095398,\n  0.6308614611625671,\n  0.6306908130645752,\n  0.6308819651603699,\n  0.6308757662773132,\n  0.6310007572174072,\n  0.6311910152435303,\n  0.6311191320419312,\n  0.6312434673309326,\n  0.6311063170433044,\n  0.6310673356056213,\n  0.6312239170074463,\n  0.63134765625,\n  0.6314060688018799,\n  0.6313669681549072,\n  0.6314252614974976,\n  0.6313213109970093,\n  0.6313471794128418,\n  0.6314052939414978,\n  0.6314955949783325,\n  0.6314566135406494,\n  0.6315789222717285,\n  0.6318621039390564,\n  0.6319193840026855,\n  0.6319766044616699,\n  0.6319373250007629,\n  0.6320264339447021,\n  0.6319871544837952,\n  0.6320120096206665,\n  0.6321008205413818,\n  0.6321893930435181,\n  0.6321820616722107,\n  0.632238507270813,\n  0.6322630047798157,\n  0.6323510408401489,\n  0.6324707269668579,\n  0.6325584053993225,\n  0.6326141953468323,\n  0.632701575756073,\n  0.6327570676803589,\n  0.6329073905944824,\n  0.6328678131103516,\n  0.6328914165496826,\n  0.6330096125602722,\n  0.6330645084381104,\n  0.6331822872161865,\n  0.6330482959747314,\n  0.633040189743042,\n  0.6330949068069458,\n  0.6333061456680298,\n  0.6333604454994202,\n  0.6333833932876587,\n  0.633468747138977,\n  ...],\n 'epoch': []}"
     },
     "execution_count": 41,
     "metadata": {},
     "output_type": "execute_result"
    }
   ],
   "source": [
    "history.accuracy"
   ],
   "metadata": {
    "collapsed": false,
    "pycharm": {
     "name": "#%%\n"
    }
   }
  },
  {
   "cell_type": "code",
   "execution_count": 43,
   "outputs": [],
   "source": [
    "model2.save('./model_trained/RoBERTa_epoch_2.h5')"
   ],
   "metadata": {
    "collapsed": false,
    "pycharm": {
     "name": "#%%\n"
    }
   }
  },
  {
   "cell_type": "code",
   "execution_count": 44,
   "outputs": [],
   "source": [
    "np.save('./model_logs/RoBERTa_epoch_2_train_acc.npy',history.accuracy['batch'])\n",
    "np.save('./model_logs/RoBERTa_epoch_2_train_loss.npy',history.loss['batch'])"
   ],
   "metadata": {
    "collapsed": false,
    "pycharm": {
     "name": "#%%\n"
    }
   }
  },
  {
   "cell_type": "code",
   "execution_count": 46,
   "outputs": [
    {
     "ename": "ModuleNotFoundError",
     "evalue": "No module named 'keras.saving.pickle_utils'",
     "output_type": "error",
     "traceback": [
      "\u001B[1;31m---------------------------------------------------------------------------\u001B[0m",
      "\u001B[1;31mModuleNotFoundError\u001B[0m                       Traceback (most recent call last)",
      "Input \u001B[1;32mIn [46]\u001B[0m, in \u001B[0;36m<cell line: 1>\u001B[1;34m()\u001B[0m\n\u001B[1;32m----> 1\u001B[0m RoBerta_train_acc\u001B[38;5;241m=\u001B[39m\u001B[43mnp\u001B[49m\u001B[38;5;241;43m.\u001B[39;49m\u001B[43mload\u001B[49m\u001B[43m(\u001B[49m\u001B[38;5;124;43m'\u001B[39;49m\u001B[38;5;124;43m./model_logs/RoBerta.npy\u001B[39;49m\u001B[38;5;124;43m'\u001B[39;49m\u001B[43m,\u001B[49m\u001B[43m \u001B[49m\u001B[43mallow_pickle\u001B[49m\u001B[38;5;241;43m=\u001B[39;49m\u001B[38;5;28;43;01mTrue\u001B[39;49;00m\u001B[43m)\u001B[49m\n",
      "File \u001B[1;32mF:\\anaconda3\\envs\\tfgpu\\lib\\site-packages\\numpy\\lib\\npyio.py:439\u001B[0m, in \u001B[0;36mload\u001B[1;34m(file, mmap_mode, allow_pickle, fix_imports, encoding)\u001B[0m\n\u001B[0;32m    437\u001B[0m         \u001B[38;5;28;01mreturn\u001B[39;00m \u001B[38;5;28mformat\u001B[39m\u001B[38;5;241m.\u001B[39mopen_memmap(file, mode\u001B[38;5;241m=\u001B[39mmmap_mode)\n\u001B[0;32m    438\u001B[0m     \u001B[38;5;28;01melse\u001B[39;00m:\n\u001B[1;32m--> 439\u001B[0m         \u001B[38;5;28;01mreturn\u001B[39;00m \u001B[38;5;28;43mformat\u001B[39;49m\u001B[38;5;241;43m.\u001B[39;49m\u001B[43mread_array\u001B[49m\u001B[43m(\u001B[49m\u001B[43mfid\u001B[49m\u001B[43m,\u001B[49m\u001B[43m \u001B[49m\u001B[43mallow_pickle\u001B[49m\u001B[38;5;241;43m=\u001B[39;49m\u001B[43mallow_pickle\u001B[49m\u001B[43m,\u001B[49m\n\u001B[0;32m    440\u001B[0m \u001B[43m                                 \u001B[49m\u001B[43mpickle_kwargs\u001B[49m\u001B[38;5;241;43m=\u001B[39;49m\u001B[43mpickle_kwargs\u001B[49m\u001B[43m)\u001B[49m\n\u001B[0;32m    441\u001B[0m \u001B[38;5;28;01melse\u001B[39;00m:\n\u001B[0;32m    442\u001B[0m     \u001B[38;5;66;03m# Try a pickle\u001B[39;00m\n\u001B[0;32m    443\u001B[0m     \u001B[38;5;28;01mif\u001B[39;00m \u001B[38;5;129;01mnot\u001B[39;00m allow_pickle:\n",
      "File \u001B[1;32mF:\\anaconda3\\envs\\tfgpu\\lib\\site-packages\\numpy\\lib\\format.py:732\u001B[0m, in \u001B[0;36mread_array\u001B[1;34m(fp, allow_pickle, pickle_kwargs)\u001B[0m\n\u001B[0;32m    730\u001B[0m     pickle_kwargs \u001B[38;5;241m=\u001B[39m {}\n\u001B[0;32m    731\u001B[0m \u001B[38;5;28;01mtry\u001B[39;00m:\n\u001B[1;32m--> 732\u001B[0m     array \u001B[38;5;241m=\u001B[39m \u001B[43mpickle\u001B[49m\u001B[38;5;241;43m.\u001B[39;49m\u001B[43mload\u001B[49m\u001B[43m(\u001B[49m\u001B[43mfp\u001B[49m\u001B[43m,\u001B[49m\u001B[43m \u001B[49m\u001B[38;5;241;43m*\u001B[39;49m\u001B[38;5;241;43m*\u001B[39;49m\u001B[43mpickle_kwargs\u001B[49m\u001B[43m)\u001B[49m\n\u001B[0;32m    733\u001B[0m \u001B[38;5;28;01mexcept\u001B[39;00m \u001B[38;5;167;01mUnicodeError\u001B[39;00m \u001B[38;5;28;01mas\u001B[39;00m err:\n\u001B[0;32m    734\u001B[0m     \u001B[38;5;66;03m# Friendlier error message\u001B[39;00m\n\u001B[0;32m    735\u001B[0m     \u001B[38;5;28;01mraise\u001B[39;00m \u001B[38;5;167;01mUnicodeError\u001B[39;00m(\u001B[38;5;124m\"\u001B[39m\u001B[38;5;124mUnpickling a python object failed: \u001B[39m\u001B[38;5;132;01m%r\u001B[39;00m\u001B[38;5;130;01m\\n\u001B[39;00m\u001B[38;5;124m\"\u001B[39m\n\u001B[0;32m    736\u001B[0m                        \u001B[38;5;124m\"\u001B[39m\u001B[38;5;124mYou may need to pass the encoding= option \u001B[39m\u001B[38;5;124m\"\u001B[39m\n\u001B[0;32m    737\u001B[0m                        \u001B[38;5;124m\"\u001B[39m\u001B[38;5;124mto numpy.load\u001B[39m\u001B[38;5;124m\"\u001B[39m \u001B[38;5;241m%\u001B[39m (err,))\n",
      "\u001B[1;31mModuleNotFoundError\u001B[0m: No module named 'keras.saving.pickle_utils'"
     ]
    }
   ],
   "source": [
    "RoBerta_train_acc=np.load('./model_logs/RoBerta.npy', allow_pickle=True)"
   ],
   "metadata": {
    "collapsed": false,
    "pycharm": {
     "name": "#%%\n"
    }
   }
  },
  {
   "cell_type": "code",
   "execution_count": 38,
   "outputs": [
    {
     "data": {
      "text/plain": "[<matplotlib.lines.Line2D at 0x2418958f190>]"
     },
     "execution_count": 38,
     "metadata": {},
     "output_type": "execute_result"
    },
    {
     "data": {
      "text/plain": "<Figure size 432x288 with 1 Axes>",
      "image/png": "[encoded data removed]"
     },
     "metadata": {
      "needs_background": "light"
     },
     "output_type": "display_data"
    }
   ],
   "source": [
    "plt.plot(history.loss['batch'])"
   ],
   "metadata": {
    "collapsed": false,
    "pycharm": {
     "name": "#%%\n"
    }
   }
  },
  {
   "cell_type": "code",
   "execution_count": 66,
   "outputs": [
    {
     "data": {
      "text/plain": "<Figure size 432x288 with 1 Axes>",
      "image/png": "[encoded data removed]"
     },
     "metadata": {
      "needs_background": "light"
     },
     "output_type": "display_data"
    }
   ],
   "source": [
    "plt.plot(history.accuracy)\n",
    "plt.plot(history.val_accuracy)\n",
    "plt.title('model accuracy')\n",
    "plt.ylabel('accuracy')\n",
    "plt.xlabel('epoch')\n",
    "plt.legend(['train', 'val'], loc='upper left')\n",
    "plt.show()"
   ],
   "metadata": {
    "collapsed": false,
    "pycharm": {
     "name": "#%%\n"
    }
   }
  },
  {
   "cell_type": "code",
   "execution_count": 60,
   "outputs": [
    {
     "data": {
      "text/plain": "<Figure size 432x288 with 1 Axes>",
      "image/png": "[encoded data removed]"
     },
     "metadata": {
      "needs_background": "light"
     },
     "output_type": "display_data"
    }
   ],
   "source": [
    "plt.figure()\n",
    "plt.plot(range(0, len(history.loss)), history.loss, label='train_loss')\n",
    "plt.plot(range(0, len(history.accuracy)), history.accuracy, label='train_acc')\n",
    "plt.xlabel('Batch')\n",
    "plt.title('Training Loss and Accuracy')\n",
    "plt.ylabel('Loss / Accuracy')\n",
    "plt.legend()\n",
    "plt.savefig('./train-results.png')\n",
    "plt.show()"
   ],
   "metadata": {
    "collapsed": false,
    "pycharm": {
     "name": "#%%\n"
    }
   }
  }
 ],
 "metadata": {
  "colab": {
   "name": "test.ipynb",
   "version": ""
  },
  "kernelspec": {
   "display_name": "Python 3 (ipykernel)",
   "language": "python",
   "name": "python3"
  },
  "language_info": {
   "codemirror_mode": {
    "name": "ipython",
    "version": 3
   },
   "file_extension": ".py",
   "mimetype": "text/x-python",
   "name": "python",
   "nbconvert_exporter": "python",
   "pygments_lexer": "ipython3",
   "version": "3.7.13"
  },
  "widgets": {
   "application/vnd.jupyter.widget-state+json": {
    "05670602f7534d03a2a86925f78e681f": {
     "model_module": "@jupyter-widgets/controls",
     "model_module_version": "1.5.0",
     "model_name": "HTMLModel",
     "state": {
      "_dom_classes": [],
      "_model_module": "@jupyter-widgets/controls",
      "_model_module_version": "1.5.0",
      "_model_name": "HTMLModel",
      "_view_count": null,
      "_view_module": "@jupyter-widgets/controls",
      "_view_module_version": "1.5.0",
      "_view_name": "HTMLView",
      "description": "",
      "description_tooltip": null,
      "layout": "IPY_MODEL_9434393dccd247a3950334260952713b",
      "placeholder": "​",
      "style": "IPY_MODEL_d44ba67c459548b6af61b26f8645a2be",
      "value": " 511M/511M [00:14&lt;00:00, 43.8MB/s]"
     }
    },
    "079fe1ce0b2f43388f52fc48f6435cee": {
     "model_module": "@jupyter-widgets/controls",
     "model_module_version": "1.5.0",
     "model_name": "DescriptionStyleModel",
     "state": {
      "_model_module": "@jupyter-widgets/controls",
      "_model_module_version": "1.5.0",
      "_model_name": "DescriptionStyleModel",
      "_view_count": null,
      "_view_module": "@jupyter-widgets/base",
      "_view_module_version": "1.2.0",
      "_view_name": "StyleView",
      "description_width": ""
     }
    },
    "0c1d1707f8914e28ae74340913b46d94": {
     "model_module": "@jupyter-widgets/base",
     "model_module_version": "1.2.0",
     "model_name": "LayoutModel",
     "state": {
      "_model_module": "@jupyter-widgets/base",
      "_model_module_version": "1.2.0",
      "_model_name": "LayoutModel",
      "_view_count": null,
      "_view_module": "@jupyter-widgets/base",
      "_view_module_version": "1.2.0",
      "_view_name": "LayoutView",
      "align_content": null,
      "align_items": null,
      "align_self": null,
      "border": null,
      "bottom": null,
      "display": null,
      "flex": null,
      "flex_flow": null,
      "grid_area": null,
      "grid_auto_columns": null,
      "grid_auto_flow": null,
      "grid_auto_rows": null,
      "grid_column": null,
      "grid_gap": null,
      "grid_row": null,
      "grid_template_areas": null,
      "grid_template_columns": null,
      "grid_template_rows": null,
      "height": null,
      "justify_content": null,
      "justify_items": null,
      "left": null,
      "margin": null,
      "max_height": null,
      "max_width": null,
      "min_height": null,
      "min_width": null,
      "object_fit": null,
      "object_position": null,
      "order": null,
      "overflow": null,
      "overflow_x": null,
      "overflow_y": null,
      "padding": null,
      "right": null,
      "top": null,
      "visibility": null,
      "width": null
     }
    },
    "199a092c08b2410bbef72449598b63ea": {
     "model_module": "@jupyter-widgets/controls",
     "model_module_version": "1.5.0",
     "model_name": "FloatProgressModel",
     "state": {
      "_dom_classes": [],
      "_model_module": "@jupyter-widgets/controls",
      "_model_module_version": "1.5.0",
      "_model_name": "FloatProgressModel",
      "_view_count": null,
      "_view_module": "@jupyter-widgets/controls",
      "_view_module_version": "1.5.0",
      "_view_name": "ProgressView",
      "bar_style": "success",
      "description": "",
      "description_tooltip": null,
      "layout": "IPY_MODEL_c3bfb49276fd4ffc8070914fc9d99df4",
      "max": 231508,
      "min": 0,
      "orientation": "horizontal",
      "style": "IPY_MODEL_a928c3860b87415c8c15b24f65a7ef87",
      "value": 231508
     }
    },
    "23cfb4ecf73545128fd320963a0591b1": {
     "model_module": "@jupyter-widgets/controls",
     "model_module_version": "1.5.0",
     "model_name": "HBoxModel",
     "state": {
      "_dom_classes": [],
      "_model_module": "@jupyter-widgets/controls",
      "_model_module_version": "1.5.0",
      "_model_name": "HBoxModel",
      "_view_count": null,
      "_view_module": "@jupyter-widgets/controls",
      "_view_module_version": "1.5.0",
      "_view_name": "HBoxView",
      "box_style": "",
      "children": [
       "IPY_MODEL_e2f45efc272b4d47a6c16be23fd0bb65",
       "IPY_MODEL_6f1a6b97ffdc4d33bd78234e16f5511a",
       "IPY_MODEL_3a2dabb6b62d4a83917753bfc8407c12"
      ],
      "layout": "IPY_MODEL_d972a51bf39944818d11abe6e1995df4"
     }
    },
    "2d32ca4156cd4846b3c5de6625e4a27e": {
     "model_module": "@jupyter-widgets/controls",
     "model_module_version": "1.5.0",
     "model_name": "DescriptionStyleModel",
     "state": {
      "_model_module": "@jupyter-widgets/controls",
      "_model_module_version": "1.5.0",
      "_model_name": "DescriptionStyleModel",
      "_view_count": null,
      "_view_module": "@jupyter-widgets/base",
      "_view_module_version": "1.2.0",
      "_view_name": "StyleView",
      "description_width": ""
     }
    },
    "3a2dabb6b62d4a83917753bfc8407c12": {
     "model_module": "@jupyter-widgets/controls",
     "model_module_version": "1.5.0",
     "model_name": "HTMLModel",
     "state": {
      "_dom_classes": [],
      "_model_module": "@jupyter-widgets/controls",
      "_model_module_version": "1.5.0",
      "_model_name": "HTMLModel",
      "_view_count": null,
      "_view_module": "@jupyter-widgets/controls",
      "_view_module_version": "1.5.0",
      "_view_name": "HTMLView",
      "description": "",
      "description_tooltip": null,
      "layout": "IPY_MODEL_e2bcb61d0b86405590e118ed446dde03",
      "placeholder": "​",
      "style": "IPY_MODEL_3e1e2f11f6c44cebabdb8317c15f8526",
      "value": " 570/570 [00:00&lt;00:00, 6.41kB/s]"
     }
    },
    "3e1e2f11f6c44cebabdb8317c15f8526": {
     "model_module": "@jupyter-widgets/controls",
     "model_module_version": "1.5.0",
     "model_name": "DescriptionStyleModel",
     "state": {
      "_model_module": "@jupyter-widgets/controls",
      "_model_module_version": "1.5.0",
      "_model_name": "DescriptionStyleModel",
      "_view_count": null,
      "_view_module": "@jupyter-widgets/base",
      "_view_module_version": "1.2.0",
      "_view_name": "StyleView",
      "description_width": ""
     }
    },
    "41af645dd0594c6282902a7ae32275a1": {
     "model_module": "@jupyter-widgets/base",
     "model_module_version": "1.2.0",
     "model_name": "LayoutModel",
     "state": {
      "_model_module": "@jupyter-widgets/base",
      "_model_module_version": "1.2.0",
      "_model_name": "LayoutModel",
      "_view_count": null,
      "_view_module": "@jupyter-widgets/base",
      "_view_module_version": "1.2.0",
      "_view_name": "LayoutView",
      "align_content": null,
      "align_items": null,
      "align_self": null,
      "border": null,
      "bottom": null,
      "display": null,
      "flex": null,
      "flex_flow": null,
      "grid_area": null,
      "grid_auto_columns": null,
      "grid_auto_flow": null,
      "grid_auto_rows": null,
      "grid_column": null,
      "grid_gap": null,
      "grid_row": null,
      "grid_template_areas": null,
      "grid_template_columns": null,
      "grid_template_rows": null,
      "height": null,
      "justify_content": null,
      "justify_items": null,
      "left": null,
      "margin": null,
      "max_height": null,
      "max_width": null,
      "min_height": null,
      "min_width": null,
      "object_fit": null,
      "object_position": null,
      "order": null,
      "overflow": null,
      "overflow_x": null,
      "overflow_y": null,
      "padding": null,
      "right": null,
      "top": null,
      "visibility": null,
      "width": null
     }
    },
    "42c06ce7ee804553a778bfca57161eca": {
     "model_module": "@jupyter-widgets/base",
     "model_module_version": "1.2.0",
     "model_name": "LayoutModel",
     "state": {
      "_model_module": "@jupyter-widgets/base",
      "_model_module_version": "1.2.0",
      "_model_name": "LayoutModel",
      "_view_count": null,
      "_view_module": "@jupyter-widgets/base",
      "_view_module_version": "1.2.0",
      "_view_name": "LayoutView",
      "align_content": null,
      "align_items": null,
      "align_self": null,
      "border": null,
      "bottom": null,
      "display": null,
      "flex": null,
      "flex_flow": null,
      "grid_area": null,
      "grid_auto_columns": null,
      "grid_auto_flow": null,
      "grid_auto_rows": null,
      "grid_column": null,
      "grid_gap": null,
      "grid_row": null,
      "grid_template_areas": null,
      "grid_template_columns": null,
      "grid_template_rows": null,
      "height": null,
      "justify_content": null,
      "justify_items": null,
      "left": null,
      "margin": null,
      "max_height": null,
      "max_width": null,
      "min_height": null,
      "min_width": null,
      "object_fit": null,
      "object_position": null,
      "order": null,
      "overflow": null,
      "overflow_x": null,
      "overflow_y": null,
      "padding": null,
      "right": null,
      "top": null,
      "visibility": null,
      "width": null
     }
    },
    "44522dac1cba474793535ebf176711f2": {
     "model_module": "@jupyter-widgets/controls",
     "model_module_version": "1.5.0",
     "model_name": "DescriptionStyleModel",
     "state": {
      "_model_module": "@jupyter-widgets/controls",
      "_model_module_version": "1.5.0",
      "_model_name": "DescriptionStyleModel",
      "_view_count": null,
      "_view_module": "@jupyter-widgets/base",
      "_view_module_version": "1.2.0",
      "_view_name": "StyleView",
      "description_width": ""
     }
    },
    "4f9280d86b754637b8f0846afa222691": {
     "model_module": "@jupyter-widgets/base",
     "model_module_version": "1.2.0",
     "model_name": "LayoutModel",
     "state": {
      "_model_module": "@jupyter-widgets/base",
      "_model_module_version": "1.2.0",
      "_model_name": "LayoutModel",
      "_view_count": null,
      "_view_module": "@jupyter-widgets/base",
      "_view_module_version": "1.2.0",
      "_view_name": "LayoutView",
      "align_content": null,
      "align_items": null,
      "align_self": null,
      "border": null,
      "bottom": null,
      "display": null,
      "flex": null,
      "flex_flow": null,
      "grid_area": null,
      "grid_auto_columns": null,
      "grid_auto_flow": null,
      "grid_auto_rows": null,
      "grid_column": null,
      "grid_gap": null,
      "grid_row": null,
      "grid_template_areas": null,
      "grid_template_columns": null,
      "grid_template_rows": null,
      "height": null,
      "justify_content": null,
      "justify_items": null,
      "left": null,
      "margin": null,
      "max_height": null,
      "max_width": null,
      "min_height": null,
      "min_width": null,
      "object_fit": null,
      "object_position": null,
      "order": null,
      "overflow": null,
      "overflow_x": null,
      "overflow_y": null,
      "padding": null,
      "right": null,
      "top": null,
      "visibility": null,
      "width": null
     }
    },
    "516caeb0c1604a9e8c8dd48cf708959b": {
     "model_module": "@jupyter-widgets/base",
     "model_module_version": "1.2.0",
     "model_name": "LayoutModel",
     "state": {
      "_model_module": "@jupyter-widgets/base",
      "_model_module_version": "1.2.0",
      "_model_name": "LayoutModel",
      "_view_count": null,
      "_view_module": "@jupyter-widgets/base",
      "_view_module_version": "1.2.0",
      "_view_name": "LayoutView",
      "align_content": null,
      "align_items": null,
      "align_self": null,
      "border": null,
      "bottom": null,
      "display": null,
      "flex": null,
      "flex_flow": null,
      "grid_area": null,
      "grid_auto_columns": null,
      "grid_auto_flow": null,
      "grid_auto_rows": null,
      "grid_column": null,
      "grid_gap": null,
      "grid_row": null,
      "grid_template_areas": null,
      "grid_template_columns": null,
      "grid_template_rows": null,
      "height": null,
      "justify_content": null,
      "justify_items": null,
      "left": null,
      "margin": null,
      "max_height": null,
      "max_width": null,
      "min_height": null,
      "min_width": null,
      "object_fit": null,
      "object_position": null,
      "order": null,
      "overflow": null,
      "overflow_x": null,
      "overflow_y": null,
      "padding": null,
      "right": null,
      "top": null,
      "visibility": null,
      "width": null
     }
    },
    "51886344d0b54d1bad795d939254b043": {
     "model_module": "@jupyter-widgets/base",
     "model_module_version": "1.2.0",
     "model_name": "LayoutModel",
     "state": {
      "_model_module": "@jupyter-widgets/base",
      "_model_module_version": "1.2.0",
      "_model_name": "LayoutModel",
      "_view_count": null,
      "_view_module": "@jupyter-widgets/base",
      "_view_module_version": "1.2.0",
      "_view_name": "LayoutView",
      "align_content": null,
      "align_items": null,
      "align_self": null,
      "border": null,
      "bottom": null,
      "display": null,
      "flex": null,
      "flex_flow": null,
      "grid_area": null,
      "grid_auto_columns": null,
      "grid_auto_flow": null,
      "grid_auto_rows": null,
      "grid_column": null,
      "grid_gap": null,
      "grid_row": null,
      "grid_template_areas": null,
      "grid_template_columns": null,
      "grid_template_rows": null,
      "height": null,
      "justify_content": null,
      "justify_items": null,
      "left": null,
      "margin": null,
      "max_height": null,
      "max_width": null,
      "min_height": null,
      "min_width": null,
      "object_fit": null,
      "object_position": null,
      "order": null,
      "overflow": null,
      "overflow_x": null,
      "overflow_y": null,
      "padding": null,
      "right": null,
      "top": null,
      "visibility": null,
      "width": null
     }
    },
    "530ba51e099e41c5bb92936d7645b857": {
     "model_module": "@jupyter-widgets/controls",
     "model_module_version": "1.5.0",
     "model_name": "HTMLModel",
     "state": {
      "_dom_classes": [],
      "_model_module": "@jupyter-widgets/controls",
      "_model_module_version": "1.5.0",
      "_model_name": "HTMLModel",
      "_view_count": null,
      "_view_module": "@jupyter-widgets/controls",
      "_view_module_version": "1.5.0",
      "_view_name": "HTMLView",
      "description": "",
      "description_tooltip": null,
      "layout": "IPY_MODEL_41af645dd0594c6282902a7ae32275a1",
      "placeholder": "​",
      "style": "IPY_MODEL_2d32ca4156cd4846b3c5de6625e4a27e",
      "value": "Downloading: 100%"
     }
    },
    "5ab0f529c5844025b18ec3c880c208ed": {
     "model_module": "@jupyter-widgets/base",
     "model_module_version": "1.2.0",
     "model_name": "LayoutModel",
     "state": {
      "_model_module": "@jupyter-widgets/base",
      "_model_module_version": "1.2.0",
      "_model_name": "LayoutModel",
      "_view_count": null,
      "_view_module": "@jupyter-widgets/base",
      "_view_module_version": "1.2.0",
      "_view_name": "LayoutView",
      "align_content": null,
      "align_items": null,
      "align_self": null,
      "border": null,
      "bottom": null,
      "display": null,
      "flex": null,
      "flex_flow": null,
      "grid_area": null,
      "grid_auto_columns": null,
      "grid_auto_flow": null,
      "grid_auto_rows": null,
      "grid_column": null,
      "grid_gap": null,
      "grid_row": null,
      "grid_template_areas": null,
      "grid_template_columns": null,
      "grid_template_rows": null,
      "height": null,
      "justify_content": null,
      "justify_items": null,
      "left": null,
      "margin": null,
      "max_height": null,
      "max_width": null,
      "min_height": null,
      "min_width": null,
      "object_fit": null,
      "object_position": null,
      "order": null,
      "overflow": null,
      "overflow_x": null,
      "overflow_y": null,
      "padding": null,
      "right": null,
      "top": null,
      "visibility": null,
      "width": null
     }
    },
    "5efd0b35938d436e855ba571a9a74ba2": {
     "model_module": "@jupyter-widgets/base",
     "model_module_version": "1.2.0",
     "model_name": "LayoutModel",
     "state": {
      "_model_module": "@jupyter-widgets/base",
      "_model_module_version": "1.2.0",
      "_model_name": "LayoutModel",
      "_view_count": null,
      "_view_module": "@jupyter-widgets/base",
      "_view_module_version": "1.2.0",
      "_view_name": "LayoutView",
      "align_content": null,
      "align_items": null,
      "align_self": null,
      "border": null,
      "bottom": null,
      "display": null,
      "flex": null,
      "flex_flow": null,
      "grid_area": null,
      "grid_auto_columns": null,
      "grid_auto_flow": null,
      "grid_auto_rows": null,
      "grid_column": null,
      "grid_gap": null,
      "grid_row": null,
      "grid_template_areas": null,
      "grid_template_columns": null,
      "grid_template_rows": null,
      "height": null,
      "justify_content": null,
      "justify_items": null,
      "left": null,
      "margin": null,
      "max_height": null,
      "max_width": null,
      "min_height": null,
      "min_width": null,
      "object_fit": null,
      "object_position": null,
      "order": null,
      "overflow": null,
      "overflow_x": null,
      "overflow_y": null,
      "padding": null,
      "right": null,
      "top": null,
      "visibility": null,
      "width": null
     }
    },
    "654a588cf22c420fb6311fb229bedd0a": {
     "model_module": "@jupyter-widgets/controls",
     "model_module_version": "1.5.0",
     "model_name": "FloatProgressModel",
     "state": {
      "_dom_classes": [],
      "_model_module": "@jupyter-widgets/controls",
      "_model_module_version": "1.5.0",
      "_model_name": "FloatProgressModel",
      "_view_count": null,
      "_view_module": "@jupyter-widgets/controls",
      "_view_module_version": "1.5.0",
      "_view_name": "ProgressView",
      "bar_style": "success",
      "description": "",
      "description_tooltip": null,
      "layout": "IPY_MODEL_6826a621d96c4b449b154c2cced6977a",
      "max": 28,
      "min": 0,
      "orientation": "horizontal",
      "style": "IPY_MODEL_7f4ca09645ce4de993f0ae1b7b8d4db1",
      "value": 28
     }
    },
    "6826a621d96c4b449b154c2cced6977a": {
     "model_module": "@jupyter-widgets/base",
     "model_module_version": "1.2.0",
     "model_name": "LayoutModel",
     "state": {
      "_model_module": "@jupyter-widgets/base",
      "_model_module_version": "1.2.0",
      "_model_name": "LayoutModel",
      "_view_count": null,
      "_view_module": "@jupyter-widgets/base",
      "_view_module_version": "1.2.0",
      "_view_name": "LayoutView",
      "align_content": null,
      "align_items": null,
      "align_self": null,
      "border": null,
      "bottom": null,
      "display": null,
      "flex": null,
      "flex_flow": null,
      "grid_area": null,
      "grid_auto_columns": null,
      "grid_auto_flow": null,
      "grid_auto_rows": null,
      "grid_column": null,
      "grid_gap": null,
      "grid_row": null,
      "grid_template_areas": null,
      "grid_template_columns": null,
      "grid_template_rows": null,
      "height": null,
      "justify_content": null,
      "justify_items": null,
      "left": null,
      "margin": null,
      "max_height": null,
      "max_width": null,
      "min_height": null,
      "min_width": null,
      "object_fit": null,
      "object_position": null,
      "order": null,
      "overflow": null,
      "overflow_x": null,
      "overflow_y": null,
      "padding": null,
      "right": null,
      "top": null,
      "visibility": null,
      "width": null
     }
    },
    "6ba8f87b264a45f2af3abfe34a14323a": {
     "model_module": "@jupyter-widgets/controls",
     "model_module_version": "1.5.0",
     "model_name": "DescriptionStyleModel",
     "state": {
      "_model_module": "@jupyter-widgets/controls",
      "_model_module_version": "1.5.0",
      "_model_name": "DescriptionStyleModel",
      "_view_count": null,
      "_view_module": "@jupyter-widgets/base",
      "_view_module_version": "1.2.0",
      "_view_name": "StyleView",
      "description_width": ""
     }
    },
    "6f1a6b97ffdc4d33bd78234e16f5511a": {
     "model_module": "@jupyter-widgets/controls",
     "model_module_version": "1.5.0",
     "model_name": "FloatProgressModel",
     "state": {
      "_dom_classes": [],
      "_model_module": "@jupyter-widgets/controls",
      "_model_module_version": "1.5.0",
      "_model_name": "FloatProgressModel",
      "_view_count": null,
      "_view_module": "@jupyter-widgets/controls",
      "_view_module_version": "1.5.0",
      "_view_name": "ProgressView",
      "bar_style": "success",
      "description": "",
      "description_tooltip": null,
      "layout": "IPY_MODEL_516caeb0c1604a9e8c8dd48cf708959b",
      "max": 570,
      "min": 0,
      "orientation": "horizontal",
      "style": "IPY_MODEL_dd44311324be454993c2ba566f45ac69",
      "value": 570
     }
    },
    "76c8375a41d347af92a048799617913f": {
     "model_module": "@jupyter-widgets/base",
     "model_module_version": "1.2.0",
     "model_name": "LayoutModel",
     "state": {
      "_model_module": "@jupyter-widgets/base",
      "_model_module_version": "1.2.0",
      "_model_name": "LayoutModel",
      "_view_count": null,
      "_view_module": "@jupyter-widgets/base",
      "_view_module_version": "1.2.0",
      "_view_name": "LayoutView",
      "align_content": null,
      "align_items": null,
      "align_self": null,
      "border": null,
      "bottom": null,
      "display": null,
      "flex": null,
      "flex_flow": null,
      "grid_area": null,
      "grid_auto_columns": null,
      "grid_auto_flow": null,
      "grid_auto_rows": null,
      "grid_column": null,
      "grid_gap": null,
      "grid_row": null,
      "grid_template_areas": null,
      "grid_template_columns": null,
      "grid_template_rows": null,
      "height": null,
      "justify_content": null,
      "justify_items": null,
      "left": null,
      "margin": null,
      "max_height": null,
      "max_width": null,
      "min_height": null,
      "min_width": null,
      "object_fit": null,
      "object_position": null,
      "order": null,
      "overflow": null,
      "overflow_x": null,
      "overflow_y": null,
      "padding": null,
      "right": null,
      "top": null,
      "visibility": null,
      "width": null
     }
    },
    "779e7c65e1774311b5d9931ef5ffcc95": {
     "model_module": "@jupyter-widgets/controls",
     "model_module_version": "1.5.0",
     "model_name": "DescriptionStyleModel",
     "state": {
      "_model_module": "@jupyter-widgets/controls",
      "_model_module_version": "1.5.0",
      "_model_name": "DescriptionStyleModel",
      "_view_count": null,
      "_view_module": "@jupyter-widgets/base",
      "_view_module_version": "1.2.0",
      "_view_name": "StyleView",
      "description_width": ""
     }
    },
    "788c9fc0a20d4f32a53cb3d02cb95267": {
     "model_module": "@jupyter-widgets/controls",
     "model_module_version": "1.5.0",
     "model_name": "HTMLModel",
     "state": {
      "_dom_classes": [],
      "_model_module": "@jupyter-widgets/controls",
      "_model_module_version": "1.5.0",
      "_model_name": "HTMLModel",
      "_view_count": null,
      "_view_module": "@jupyter-widgets/controls",
      "_view_module_version": "1.5.0",
      "_view_name": "HTMLView",
      "description": "",
      "description_tooltip": null,
      "layout": "IPY_MODEL_827242c660c942f6b02dc566cceaeaab",
      "placeholder": "​",
      "style": "IPY_MODEL_44522dac1cba474793535ebf176711f2",
      "value": "Downloading: 100%"
     }
    },
    "7b6bba4c98db4d0c97cdedef36982675": {
     "model_module": "@jupyter-widgets/controls",
     "model_module_version": "1.5.0",
     "model_name": "HTMLModel",
     "state": {
      "_dom_classes": [],
      "_model_module": "@jupyter-widgets/controls",
      "_model_module_version": "1.5.0",
      "_model_name": "HTMLModel",
      "_view_count": null,
      "_view_module": "@jupyter-widgets/controls",
      "_view_module_version": "1.5.0",
      "_view_name": "HTMLView",
      "description": "",
      "description_tooltip": null,
      "layout": "IPY_MODEL_a77b360f169e47a5a828ced9af39c8c2",
      "placeholder": "​",
      "style": "IPY_MODEL_779e7c65e1774311b5d9931ef5ffcc95",
      "value": " 28.0/28.0 [00:00&lt;00:00, 644B/s]"
     }
    },
    "7f4ca09645ce4de993f0ae1b7b8d4db1": {
     "model_module": "@jupyter-widgets/controls",
     "model_module_version": "1.5.0",
     "model_name": "ProgressStyleModel",
     "state": {
      "_model_module": "@jupyter-widgets/controls",
      "_model_module_version": "1.5.0",
      "_model_name": "ProgressStyleModel",
      "_view_count": null,
      "_view_module": "@jupyter-widgets/base",
      "_view_module_version": "1.2.0",
      "_view_name": "StyleView",
      "bar_color": null,
      "description_width": ""
     }
    },
    "827242c660c942f6b02dc566cceaeaab": {
     "model_module": "@jupyter-widgets/base",
     "model_module_version": "1.2.0",
     "model_name": "LayoutModel",
     "state": {
      "_model_module": "@jupyter-widgets/base",
      "_model_module_version": "1.2.0",
      "_model_name": "LayoutModel",
      "_view_count": null,
      "_view_module": "@jupyter-widgets/base",
      "_view_module_version": "1.2.0",
      "_view_name": "LayoutView",
      "align_content": null,
      "align_items": null,
      "align_self": null,
      "border": null,
      "bottom": null,
      "display": null,
      "flex": null,
      "flex_flow": null,
      "grid_area": null,
      "grid_auto_columns": null,
      "grid_auto_flow": null,
      "grid_auto_rows": null,
      "grid_column": null,
      "grid_gap": null,
      "grid_row": null,
      "grid_template_areas": null,
      "grid_template_columns": null,
      "grid_template_rows": null,
      "height": null,
      "justify_content": null,
      "justify_items": null,
      "left": null,
      "margin": null,
      "max_height": null,
      "max_width": null,
      "min_height": null,
      "min_width": null,
      "object_fit": null,
      "object_position": null,
      "order": null,
      "overflow": null,
      "overflow_x": null,
      "overflow_y": null,
      "padding": null,
      "right": null,
      "top": null,
      "visibility": null,
      "width": null
     }
    },
    "87645fb2f7d04f16aa1e995363a0b44c": {
     "model_module": "@jupyter-widgets/controls",
     "model_module_version": "1.5.0",
     "model_name": "HBoxModel",
     "state": {
      "_dom_classes": [],
      "_model_module": "@jupyter-widgets/controls",
      "_model_module_version": "1.5.0",
      "_model_name": "HBoxModel",
      "_view_count": null,
      "_view_module": "@jupyter-widgets/controls",
      "_view_module_version": "1.5.0",
      "_view_name": "HBoxView",
      "box_style": "",
      "children": [
       "IPY_MODEL_9304f39462ea408a899cf81d45473eea",
       "IPY_MODEL_654a588cf22c420fb6311fb229bedd0a",
       "IPY_MODEL_7b6bba4c98db4d0c97cdedef36982675"
      ],
      "layout": "IPY_MODEL_d36cdcaa507d4361a9808e58d0d20465"
     }
    },
    "8ba4e87065634e01a49a9110110c63fd": {
     "model_module": "@jupyter-widgets/controls",
     "model_module_version": "1.5.0",
     "model_name": "HTMLModel",
     "state": {
      "_dom_classes": [],
      "_model_module": "@jupyter-widgets/controls",
      "_model_module_version": "1.5.0",
      "_model_name": "HTMLModel",
      "_view_count": null,
      "_view_module": "@jupyter-widgets/controls",
      "_view_module_version": "1.5.0",
      "_view_name": "HTMLView",
      "description": "",
      "description_tooltip": null,
      "layout": "IPY_MODEL_5efd0b35938d436e855ba571a9a74ba2",
      "placeholder": "​",
      "style": "IPY_MODEL_d97653e34cf7488eb4ff5e58e392e81e",
      "value": "Downloading: 100%"
     }
    },
    "9304f39462ea408a899cf81d45473eea": {
     "model_module": "@jupyter-widgets/controls",
     "model_module_version": "1.5.0",
     "model_name": "HTMLModel",
     "state": {
      "_dom_classes": [],
      "_model_module": "@jupyter-widgets/controls",
      "_model_module_version": "1.5.0",
      "_model_name": "HTMLModel",
      "_view_count": null,
      "_view_module": "@jupyter-widgets/controls",
      "_view_module_version": "1.5.0",
      "_view_name": "HTMLView",
      "description": "",
      "description_tooltip": null,
      "layout": "IPY_MODEL_c7de087c8366430a8bba8c8be4f0526c",
      "placeholder": "​",
      "style": "IPY_MODEL_adc596d5a26440c0a8bf4bf9c6f4eb2b",
      "value": "Downloading: 100%"
     }
    },
    "9434393dccd247a3950334260952713b": {
     "model_module": "@jupyter-widgets/base",
     "model_module_version": "1.2.0",
     "model_name": "LayoutModel",
     "state": {
      "_model_module": "@jupyter-widgets/base",
      "_model_module_version": "1.2.0",
      "_model_name": "LayoutModel",
      "_view_count": null,
      "_view_module": "@jupyter-widgets/base",
      "_view_module_version": "1.2.0",
      "_view_name": "LayoutView",
      "align_content": null,
      "align_items": null,
      "align_self": null,
      "border": null,
      "bottom": null,
      "display": null,
      "flex": null,
      "flex_flow": null,
      "grid_area": null,
      "grid_auto_columns": null,
      "grid_auto_flow": null,
      "grid_auto_rows": null,
      "grid_column": null,
      "grid_gap": null,
      "grid_row": null,
      "grid_template_areas": null,
      "grid_template_columns": null,
      "grid_template_rows": null,
      "height": null,
      "justify_content": null,
      "justify_items": null,
      "left": null,
      "margin": null,
      "max_height": null,
      "max_width": null,
      "min_height": null,
      "min_width": null,
      "object_fit": null,
      "object_position": null,
      "order": null,
      "overflow": null,
      "overflow_x": null,
      "overflow_y": null,
      "padding": null,
      "right": null,
      "top": null,
      "visibility": null,
      "width": null
     }
    },
    "a09ace0c01d3440ca1f34d59fd435fa7": {
     "model_module": "@jupyter-widgets/controls",
     "model_module_version": "1.5.0",
     "model_name": "ProgressStyleModel",
     "state": {
      "_model_module": "@jupyter-widgets/controls",
      "_model_module_version": "1.5.0",
      "_model_name": "ProgressStyleModel",
      "_view_count": null,
      "_view_module": "@jupyter-widgets/base",
      "_view_module_version": "1.2.0",
      "_view_name": "StyleView",
      "bar_color": null,
      "description_width": ""
     }
    },
    "a44e80997a984060a730e84d6a882de2": {
     "model_module": "@jupyter-widgets/controls",
     "model_module_version": "1.5.0",
     "model_name": "HTMLModel",
     "state": {
      "_dom_classes": [],
      "_model_module": "@jupyter-widgets/controls",
      "_model_module_version": "1.5.0",
      "_model_name": "HTMLModel",
      "_view_count": null,
      "_view_module": "@jupyter-widgets/controls",
      "_view_module_version": "1.5.0",
      "_view_name": "HTMLView",
      "description": "",
      "description_tooltip": null,
      "layout": "IPY_MODEL_b0a5d5a031e94227943c884aa51edb4d",
      "placeholder": "​",
      "style": "IPY_MODEL_6ba8f87b264a45f2af3abfe34a14323a",
      "value": " 226k/226k [00:00&lt;00:00, 992kB/s]"
     }
    },
    "a77b360f169e47a5a828ced9af39c8c2": {
     "model_module": "@jupyter-widgets/base",
     "model_module_version": "1.2.0",
     "model_name": "LayoutModel",
     "state": {
      "_model_module": "@jupyter-widgets/base",
      "_model_module_version": "1.2.0",
      "_model_name": "LayoutModel",
      "_view_count": null,
      "_view_module": "@jupyter-widgets/base",
      "_view_module_version": "1.2.0",
      "_view_name": "LayoutView",
      "align_content": null,
      "align_items": null,
      "align_self": null,
      "border": null,
      "bottom": null,
      "display": null,
      "flex": null,
      "flex_flow": null,
      "grid_area": null,
      "grid_auto_columns": null,
      "grid_auto_flow": null,
      "grid_auto_rows": null,
      "grid_column": null,
      "grid_gap": null,
      "grid_row": null,
      "grid_template_areas": null,
      "grid_template_columns": null,
      "grid_template_rows": null,
      "height": null,
      "justify_content": null,
      "justify_items": null,
      "left": null,
      "margin": null,
      "max_height": null,
      "max_width": null,
      "min_height": null,
      "min_width": null,
      "object_fit": null,
      "object_position": null,
      "order": null,
      "overflow": null,
      "overflow_x": null,
      "overflow_y": null,
      "padding": null,
      "right": null,
      "top": null,
      "visibility": null,
      "width": null
     }
    },
    "a928c3860b87415c8c15b24f65a7ef87": {
     "model_module": "@jupyter-widgets/controls",
     "model_module_version": "1.5.0",
     "model_name": "ProgressStyleModel",
     "state": {
      "_model_module": "@jupyter-widgets/controls",
      "_model_module_version": "1.5.0",
      "_model_name": "ProgressStyleModel",
      "_view_count": null,
      "_view_module": "@jupyter-widgets/base",
      "_view_module_version": "1.2.0",
      "_view_name": "StyleView",
      "bar_color": null,
      "description_width": ""
     }
    },
    "adc596d5a26440c0a8bf4bf9c6f4eb2b": {
     "model_module": "@jupyter-widgets/controls",
     "model_module_version": "1.5.0",
     "model_name": "DescriptionStyleModel",
     "state": {
      "_model_module": "@jupyter-widgets/controls",
      "_model_module_version": "1.5.0",
      "_model_name": "DescriptionStyleModel",
      "_view_count": null,
      "_view_module": "@jupyter-widgets/base",
      "_view_module_version": "1.2.0",
      "_view_name": "StyleView",
      "description_width": ""
     }
    },
    "af9723e2233942318a99276c175f4618": {
     "model_module": "@jupyter-widgets/controls",
     "model_module_version": "1.5.0",
     "model_name": "HTMLModel",
     "state": {
      "_dom_classes": [],
      "_model_module": "@jupyter-widgets/controls",
      "_model_module_version": "1.5.0",
      "_model_name": "HTMLModel",
      "_view_count": null,
      "_view_module": "@jupyter-widgets/controls",
      "_view_module_version": "1.5.0",
      "_view_name": "HTMLView",
      "description": "",
      "description_tooltip": null,
      "layout": "IPY_MODEL_c3cdfc8ffa58423eaf8d828e7268e6df",
      "placeholder": "​",
      "style": "IPY_MODEL_eb6dd7f7d850429dbf6cffedaf0b7cf5",
      "value": " 455k/455k [00:01&lt;00:00, 320kB/s]"
     }
    },
    "b0a5d5a031e94227943c884aa51edb4d": {
     "model_module": "@jupyter-widgets/base",
     "model_module_version": "1.2.0",
     "model_name": "LayoutModel",
     "state": {
      "_model_module": "@jupyter-widgets/base",
      "_model_module_version": "1.2.0",
      "_model_name": "LayoutModel",
      "_view_count": null,
      "_view_module": "@jupyter-widgets/base",
      "_view_module_version": "1.2.0",
      "_view_name": "LayoutView",
      "align_content": null,
      "align_items": null,
      "align_self": null,
      "border": null,
      "bottom": null,
      "display": null,
      "flex": null,
      "flex_flow": null,
      "grid_area": null,
      "grid_auto_columns": null,
      "grid_auto_flow": null,
      "grid_auto_rows": null,
      "grid_column": null,
      "grid_gap": null,
      "grid_row": null,
      "grid_template_areas": null,
      "grid_template_columns": null,
      "grid_template_rows": null,
      "height": null,
      "justify_content": null,
      "justify_items": null,
      "left": null,
      "margin": null,
      "max_height": null,
      "max_width": null,
      "min_height": null,
      "min_width": null,
      "object_fit": null,
      "object_position": null,
      "order": null,
      "overflow": null,
      "overflow_x": null,
      "overflow_y": null,
      "padding": null,
      "right": null,
      "top": null,
      "visibility": null,
      "width": null
     }
    },
    "c3bfb49276fd4ffc8070914fc9d99df4": {
     "model_module": "@jupyter-widgets/base",
     "model_module_version": "1.2.0",
     "model_name": "LayoutModel",
     "state": {
      "_model_module": "@jupyter-widgets/base",
      "_model_module_version": "1.2.0",
      "_model_name": "LayoutModel",
      "_view_count": null,
      "_view_module": "@jupyter-widgets/base",
      "_view_module_version": "1.2.0",
      "_view_name": "LayoutView",
      "align_content": null,
      "align_items": null,
      "align_self": null,
      "border": null,
      "bottom": null,
      "display": null,
      "flex": null,
      "flex_flow": null,
      "grid_area": null,
      "grid_auto_columns": null,
      "grid_auto_flow": null,
      "grid_auto_rows": null,
      "grid_column": null,
      "grid_gap": null,
      "grid_row": null,
      "grid_template_areas": null,
      "grid_template_columns": null,
      "grid_template_rows": null,
      "height": null,
      "justify_content": null,
      "justify_items": null,
      "left": null,
      "margin": null,
      "max_height": null,
      "max_width": null,
      "min_height": null,
      "min_width": null,
      "object_fit": null,
      "object_position": null,
      "order": null,
      "overflow": null,
      "overflow_x": null,
      "overflow_y": null,
      "padding": null,
      "right": null,
      "top": null,
      "visibility": null,
      "width": null
     }
    },
    "c3cdfc8ffa58423eaf8d828e7268e6df": {
     "model_module": "@jupyter-widgets/base",
     "model_module_version": "1.2.0",
     "model_name": "LayoutModel",
     "state": {
      "_model_module": "@jupyter-widgets/base",
      "_model_module_version": "1.2.0",
      "_model_name": "LayoutModel",
      "_view_count": null,
      "_view_module": "@jupyter-widgets/base",
      "_view_module_version": "1.2.0",
      "_view_name": "LayoutView",
      "align_content": null,
      "align_items": null,
      "align_self": null,
      "border": null,
      "bottom": null,
      "display": null,
      "flex": null,
      "flex_flow": null,
      "grid_area": null,
      "grid_auto_columns": null,
      "grid_auto_flow": null,
      "grid_auto_rows": null,
      "grid_column": null,
      "grid_gap": null,
      "grid_row": null,
      "grid_template_areas": null,
      "grid_template_columns": null,
      "grid_template_rows": null,
      "height": null,
      "justify_content": null,
      "justify_items": null,
      "left": null,
      "margin": null,
      "max_height": null,
      "max_width": null,
      "min_height": null,
      "min_width": null,
      "object_fit": null,
      "object_position": null,
      "order": null,
      "overflow": null,
      "overflow_x": null,
      "overflow_y": null,
      "padding": null,
      "right": null,
      "top": null,
      "visibility": null,
      "width": null
     }
    },
    "c7de087c8366430a8bba8c8be4f0526c": {
     "model_module": "@jupyter-widgets/base",
     "model_module_version": "1.2.0",
     "model_name": "LayoutModel",
     "state": {
      "_model_module": "@jupyter-widgets/base",
      "_model_module_version": "1.2.0",
      "_model_name": "LayoutModel",
      "_view_count": null,
      "_view_module": "@jupyter-widgets/base",
      "_view_module_version": "1.2.0",
      "_view_name": "LayoutView",
      "align_content": null,
      "align_items": null,
      "align_self": null,
      "border": null,
      "bottom": null,
      "display": null,
      "flex": null,
      "flex_flow": null,
      "grid_area": null,
      "grid_auto_columns": null,
      "grid_auto_flow": null,
      "grid_auto_rows": null,
      "grid_column": null,
      "grid_gap": null,
      "grid_row": null,
      "grid_template_areas": null,
      "grid_template_columns": null,
      "grid_template_rows": null,
      "height": null,
      "justify_content": null,
      "justify_items": null,
      "left": null,
      "margin": null,
      "max_height": null,
      "max_width": null,
      "min_height": null,
      "min_width": null,
      "object_fit": null,
      "object_position": null,
      "order": null,
      "overflow": null,
      "overflow_x": null,
      "overflow_y": null,
      "padding": null,
      "right": null,
      "top": null,
      "visibility": null,
      "width": null
     }
    },
    "cd7eb93bf7d9401385cb3e14dc642c7c": {
     "model_module": "@jupyter-widgets/controls",
     "model_module_version": "1.5.0",
     "model_name": "FloatProgressModel",
     "state": {
      "_dom_classes": [],
      "_model_module": "@jupyter-widgets/controls",
      "_model_module_version": "1.5.0",
      "_model_name": "FloatProgressModel",
      "_view_count": null,
      "_view_module": "@jupyter-widgets/controls",
      "_view_module_version": "1.5.0",
      "_view_name": "ProgressView",
      "bar_style": "success",
      "description": "",
      "description_tooltip": null,
      "layout": "IPY_MODEL_76c8375a41d347af92a048799617913f",
      "max": 466062,
      "min": 0,
      "orientation": "horizontal",
      "style": "IPY_MODEL_d1782b4053004ce6bed17139397bd3eb",
      "value": 466062
     }
    },
    "d1782b4053004ce6bed17139397bd3eb": {
     "model_module": "@jupyter-widgets/controls",
     "model_module_version": "1.5.0",
     "model_name": "ProgressStyleModel",
     "state": {
      "_model_module": "@jupyter-widgets/controls",
      "_model_module_version": "1.5.0",
      "_model_name": "ProgressStyleModel",
      "_view_count": null,
      "_view_module": "@jupyter-widgets/base",
      "_view_module_version": "1.2.0",
      "_view_name": "StyleView",
      "bar_color": null,
      "description_width": ""
     }
    },
    "d36cdcaa507d4361a9808e58d0d20465": {
     "model_module": "@jupyter-widgets/base",
     "model_module_version": "1.2.0",
     "model_name": "LayoutModel",
     "state": {
      "_model_module": "@jupyter-widgets/base",
      "_model_module_version": "1.2.0",
      "_model_name": "LayoutModel",
      "_view_count": null,
      "_view_module": "@jupyter-widgets/base",
      "_view_module_version": "1.2.0",
      "_view_name": "LayoutView",
      "align_content": null,
      "align_items": null,
      "align_self": null,
      "border": null,
      "bottom": null,
      "display": null,
      "flex": null,
      "flex_flow": null,
      "grid_area": null,
      "grid_auto_columns": null,
      "grid_auto_flow": null,
      "grid_auto_rows": null,
      "grid_column": null,
      "grid_gap": null,
      "grid_row": null,
      "grid_template_areas": null,
      "grid_template_columns": null,
      "grid_template_rows": null,
      "height": null,
      "justify_content": null,
      "justify_items": null,
      "left": null,
      "margin": null,
      "max_height": null,
      "max_width": null,
      "min_height": null,
      "min_width": null,
      "object_fit": null,
      "object_position": null,
      "order": null,
      "overflow": null,
      "overflow_x": null,
      "overflow_y": null,
      "padding": null,
      "right": null,
      "top": null,
      "visibility": null,
      "width": null
     }
    },
    "d44ba67c459548b6af61b26f8645a2be": {
     "model_module": "@jupyter-widgets/controls",
     "model_module_version": "1.5.0",
     "model_name": "DescriptionStyleModel",
     "state": {
      "_model_module": "@jupyter-widgets/controls",
      "_model_module_version": "1.5.0",
      "_model_name": "DescriptionStyleModel",
      "_view_count": null,
      "_view_module": "@jupyter-widgets/base",
      "_view_module_version": "1.2.0",
      "_view_name": "StyleView",
      "description_width": ""
     }
    },
    "d6ce7767de2944978842875d845848a0": {
     "model_module": "@jupyter-widgets/controls",
     "model_module_version": "1.5.0",
     "model_name": "FloatProgressModel",
     "state": {
      "_dom_classes": [],
      "_model_module": "@jupyter-widgets/controls",
      "_model_module_version": "1.5.0",
      "_model_name": "FloatProgressModel",
      "_view_count": null,
      "_view_module": "@jupyter-widgets/controls",
      "_view_module_version": "1.5.0",
      "_view_name": "ProgressView",
      "bar_style": "success",
      "description": "",
      "description_tooltip": null,
      "layout": "IPY_MODEL_51886344d0b54d1bad795d939254b043",
      "max": 536063208,
      "min": 0,
      "orientation": "horizontal",
      "style": "IPY_MODEL_a09ace0c01d3440ca1f34d59fd435fa7",
      "value": 536063208
     }
    },
    "d8c2391d6e07433e9bbe2a7abb7219ef": {
     "model_module": "@jupyter-widgets/controls",
     "model_module_version": "1.5.0",
     "model_name": "HBoxModel",
     "state": {
      "_dom_classes": [],
      "_model_module": "@jupyter-widgets/controls",
      "_model_module_version": "1.5.0",
      "_model_name": "HBoxModel",
      "_view_count": null,
      "_view_module": "@jupyter-widgets/controls",
      "_view_module_version": "1.5.0",
      "_view_name": "HBoxView",
      "box_style": "",
      "children": [
       "IPY_MODEL_788c9fc0a20d4f32a53cb3d02cb95267",
       "IPY_MODEL_cd7eb93bf7d9401385cb3e14dc642c7c",
       "IPY_MODEL_af9723e2233942318a99276c175f4618"
      ],
      "layout": "IPY_MODEL_42c06ce7ee804553a778bfca57161eca"
     }
    },
    "d972a51bf39944818d11abe6e1995df4": {
     "model_module": "@jupyter-widgets/base",
     "model_module_version": "1.2.0",
     "model_name": "LayoutModel",
     "state": {
      "_model_module": "@jupyter-widgets/base",
      "_model_module_version": "1.2.0",
      "_model_name": "LayoutModel",
      "_view_count": null,
      "_view_module": "@jupyter-widgets/base",
      "_view_module_version": "1.2.0",
      "_view_name": "LayoutView",
      "align_content": null,
      "align_items": null,
      "align_self": null,
      "border": null,
      "bottom": null,
      "display": null,
      "flex": null,
      "flex_flow": null,
      "grid_area": null,
      "grid_auto_columns": null,
      "grid_auto_flow": null,
      "grid_auto_rows": null,
      "grid_column": null,
      "grid_gap": null,
      "grid_row": null,
      "grid_template_areas": null,
      "grid_template_columns": null,
      "grid_template_rows": null,
      "height": null,
      "justify_content": null,
      "justify_items": null,
      "left": null,
      "margin": null,
      "max_height": null,
      "max_width": null,
      "min_height": null,
      "min_width": null,
      "object_fit": null,
      "object_position": null,
      "order": null,
      "overflow": null,
      "overflow_x": null,
      "overflow_y": null,
      "padding": null,
      "right": null,
      "top": null,
      "visibility": null,
      "width": null
     }
    },
    "d97653e34cf7488eb4ff5e58e392e81e": {
     "model_module": "@jupyter-widgets/controls",
     "model_module_version": "1.5.0",
     "model_name": "DescriptionStyleModel",
     "state": {
      "_model_module": "@jupyter-widgets/controls",
      "_model_module_version": "1.5.0",
      "_model_name": "DescriptionStyleModel",
      "_view_count": null,
      "_view_module": "@jupyter-widgets/base",
      "_view_module_version": "1.2.0",
      "_view_name": "StyleView",
      "description_width": ""
     }
    },
    "dd44311324be454993c2ba566f45ac69": {
     "model_module": "@jupyter-widgets/controls",
     "model_module_version": "1.5.0",
     "model_name": "ProgressStyleModel",
     "state": {
      "_model_module": "@jupyter-widgets/controls",
      "_model_module_version": "1.5.0",
      "_model_name": "ProgressStyleModel",
      "_view_count": null,
      "_view_module": "@jupyter-widgets/base",
      "_view_module_version": "1.2.0",
      "_view_name": "StyleView",
      "bar_color": null,
      "description_width": ""
     }
    },
    "e2bcb61d0b86405590e118ed446dde03": {
     "model_module": "@jupyter-widgets/base",
     "model_module_version": "1.2.0",
     "model_name": "LayoutModel",
     "state": {
      "_model_module": "@jupyter-widgets/base",
      "_model_module_version": "1.2.0",
      "_model_name": "LayoutModel",
      "_view_count": null,
      "_view_module": "@jupyter-widgets/base",
      "_view_module_version": "1.2.0",
      "_view_name": "LayoutView",
      "align_content": null,
      "align_items": null,
      "align_self": null,
      "border": null,
      "bottom": null,
      "display": null,
      "flex": null,
      "flex_flow": null,
      "grid_area": null,
      "grid_auto_columns": null,
      "grid_auto_flow": null,
      "grid_auto_rows": null,
      "grid_column": null,
      "grid_gap": null,
      "grid_row": null,
      "grid_template_areas": null,
      "grid_template_columns": null,
      "grid_template_rows": null,
      "height": null,
      "justify_content": null,
      "justify_items": null,
      "left": null,
      "margin": null,
      "max_height": null,
      "max_width": null,
      "min_height": null,
      "min_width": null,
      "object_fit": null,
      "object_position": null,
      "order": null,
      "overflow": null,
      "overflow_x": null,
      "overflow_y": null,
      "padding": null,
      "right": null,
      "top": null,
      "visibility": null,
      "width": null
     }
    },
    "e2f45efc272b4d47a6c16be23fd0bb65": {
     "model_module": "@jupyter-widgets/controls",
     "model_module_version": "1.5.0",
     "model_name": "HTMLModel",
     "state": {
      "_dom_classes": [],
      "_model_module": "@jupyter-widgets/controls",
      "_model_module_version": "1.5.0",
      "_model_name": "HTMLModel",
      "_view_count": null,
      "_view_module": "@jupyter-widgets/controls",
      "_view_module_version": "1.5.0",
      "_view_name": "HTMLView",
      "description": "",
      "description_tooltip": null,
      "layout": "IPY_MODEL_5ab0f529c5844025b18ec3c880c208ed",
      "placeholder": "​",
      "style": "IPY_MODEL_079fe1ce0b2f43388f52fc48f6435cee",
      "value": "Downloading: 100%"
     }
    },
    "eb6dd7f7d850429dbf6cffedaf0b7cf5": {
     "model_module": "@jupyter-widgets/controls",
     "model_module_version": "1.5.0",
     "model_name": "DescriptionStyleModel",
     "state": {
      "_model_module": "@jupyter-widgets/controls",
      "_model_module_version": "1.5.0",
      "_model_name": "DescriptionStyleModel",
      "_view_count": null,
      "_view_module": "@jupyter-widgets/base",
      "_view_module_version": "1.2.0",
      "_view_name": "StyleView",
      "description_width": ""
     }
    },
    "ebecca8cf02d48e2a3659f7a19dd1ab1": {
     "model_module": "@jupyter-widgets/controls",
     "model_module_version": "1.5.0",
     "model_name": "HBoxModel",
     "state": {
      "_dom_classes": [],
      "_model_module": "@jupyter-widgets/controls",
      "_model_module_version": "1.5.0",
      "_model_name": "HBoxModel",
      "_view_count": null,
      "_view_module": "@jupyter-widgets/controls",
      "_view_module_version": "1.5.0",
      "_view_name": "HBoxView",
      "box_style": "",
      "children": [
       "IPY_MODEL_8ba4e87065634e01a49a9110110c63fd",
       "IPY_MODEL_199a092c08b2410bbef72449598b63ea",
       "IPY_MODEL_a44e80997a984060a730e84d6a882de2"
      ],
      "layout": "IPY_MODEL_4f9280d86b754637b8f0846afa222691"
     }
    },
    "eec6132d5198452291c8df4c14a544aa": {
     "model_module": "@jupyter-widgets/controls",
     "model_module_version": "1.5.0",
     "model_name": "HBoxModel",
     "state": {
      "_dom_classes": [],
      "_model_module": "@jupyter-widgets/controls",
      "_model_module_version": "1.5.0",
      "_model_name": "HBoxModel",
      "_view_count": null,
      "_view_module": "@jupyter-widgets/controls",
      "_view_module_version": "1.5.0",
      "_view_name": "HBoxView",
      "box_style": "",
      "children": [
       "IPY_MODEL_530ba51e099e41c5bb92936d7645b857",
       "IPY_MODEL_d6ce7767de2944978842875d845848a0",
       "IPY_MODEL_05670602f7534d03a2a86925f78e681f"
      ],
      "layout": "IPY_MODEL_0c1d1707f8914e28ae74340913b46d94"
     }
    }
   }
  }
 },
 "nbformat": 4,
 "nbformat_minor": 0
}